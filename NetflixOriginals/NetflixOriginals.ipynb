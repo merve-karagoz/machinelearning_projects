{
  "nbformat": 4,
  "nbformat_minor": 0,
  "metadata": {
    "colab": {
      "name": "NetflixOriginals.ipynb",
      "provenance": [],
      "collapsed_sections": []
    },
    "kernelspec": {
      "name": "python3",
      "display_name": "Python 3"
    },
    "language_info": {
      "name": "python"
    }
  },
  "cells": [
    {
      "cell_type": "code",
      "execution_count": 7,
      "metadata": {
        "id": "4OThjJ3mwdmE"
      },
      "outputs": [],
      "source": [
        "import pandas as pd\n",
        "import numpy as np\n",
        "\n",
        "import matplotlib.pyplot as plt\n",
        "\n",
        "import plotly\n",
        "import plotly.express as px\n",
        "import plotly.graph_objs as go\n",
        "import plotly.offline as py\n",
        "from plotly.offline import iplot\n",
        "from plotly.subplots import make_subplots\n",
        "import plotly.figure_factory as ff"
      ]
    },
    {
      "cell_type": "code",
      "source": [
        "df = pd.read_csv(\"/content/sample_data/NetflixOriginals.csv\", encoding=\"latin-1\")\n",
        "df.head()"
      ],
      "metadata": {
        "colab": {
          "base_uri": "https://localhost:8080/",
          "height": 206
        },
        "id": "azp7HqzPwqFE",
        "outputId": "24e7b80c-51ac-4da0-bd54-63638940d867"
      },
      "execution_count": 8,
      "outputs": [
        {
          "output_type": "execute_result",
          "data": {
            "text/plain": [
              "             Title                  Genre           Premiere  Runtime  \\\n",
              "0  Enter the Anime            Documentary     August 5, 2019       58   \n",
              "1      Dark Forces               Thriller    August 21, 2020       81   \n",
              "2          The App  Science fiction/Drama  December 26, 2019       79   \n",
              "3   The Open House        Horror thriller   January 19, 2018       94   \n",
              "4      Kaali Khuhi                Mystery   October 30, 2020       90   \n",
              "\n",
              "   IMDB Score          Language  \n",
              "0         2.5  English/Japanese  \n",
              "1         2.6           Spanish  \n",
              "2         2.6           Italian  \n",
              "3         3.2           English  \n",
              "4         3.4             Hindi  "
            ],
            "text/html": [
              "\n",
              "  <div id=\"df-edf18b28-fe89-412b-91d7-5389d84ea908\">\n",
              "    <div class=\"colab-df-container\">\n",
              "      <div>\n",
              "<style scoped>\n",
              "    .dataframe tbody tr th:only-of-type {\n",
              "        vertical-align: middle;\n",
              "    }\n",
              "\n",
              "    .dataframe tbody tr th {\n",
              "        vertical-align: top;\n",
              "    }\n",
              "\n",
              "    .dataframe thead th {\n",
              "        text-align: right;\n",
              "    }\n",
              "</style>\n",
              "<table border=\"1\" class=\"dataframe\">\n",
              "  <thead>\n",
              "    <tr style=\"text-align: right;\">\n",
              "      <th></th>\n",
              "      <th>Title</th>\n",
              "      <th>Genre</th>\n",
              "      <th>Premiere</th>\n",
              "      <th>Runtime</th>\n",
              "      <th>IMDB Score</th>\n",
              "      <th>Language</th>\n",
              "    </tr>\n",
              "  </thead>\n",
              "  <tbody>\n",
              "    <tr>\n",
              "      <th>0</th>\n",
              "      <td>Enter the Anime</td>\n",
              "      <td>Documentary</td>\n",
              "      <td>August 5, 2019</td>\n",
              "      <td>58</td>\n",
              "      <td>2.5</td>\n",
              "      <td>English/Japanese</td>\n",
              "    </tr>\n",
              "    <tr>\n",
              "      <th>1</th>\n",
              "      <td>Dark Forces</td>\n",
              "      <td>Thriller</td>\n",
              "      <td>August 21, 2020</td>\n",
              "      <td>81</td>\n",
              "      <td>2.6</td>\n",
              "      <td>Spanish</td>\n",
              "    </tr>\n",
              "    <tr>\n",
              "      <th>2</th>\n",
              "      <td>The App</td>\n",
              "      <td>Science fiction/Drama</td>\n",
              "      <td>December 26, 2019</td>\n",
              "      <td>79</td>\n",
              "      <td>2.6</td>\n",
              "      <td>Italian</td>\n",
              "    </tr>\n",
              "    <tr>\n",
              "      <th>3</th>\n",
              "      <td>The Open House</td>\n",
              "      <td>Horror thriller</td>\n",
              "      <td>January 19, 2018</td>\n",
              "      <td>94</td>\n",
              "      <td>3.2</td>\n",
              "      <td>English</td>\n",
              "    </tr>\n",
              "    <tr>\n",
              "      <th>4</th>\n",
              "      <td>Kaali Khuhi</td>\n",
              "      <td>Mystery</td>\n",
              "      <td>October 30, 2020</td>\n",
              "      <td>90</td>\n",
              "      <td>3.4</td>\n",
              "      <td>Hindi</td>\n",
              "    </tr>\n",
              "  </tbody>\n",
              "</table>\n",
              "</div>\n",
              "      <button class=\"colab-df-convert\" onclick=\"convertToInteractive('df-edf18b28-fe89-412b-91d7-5389d84ea908')\"\n",
              "              title=\"Convert this dataframe to an interactive table.\"\n",
              "              style=\"display:none;\">\n",
              "        \n",
              "  <svg xmlns=\"http://www.w3.org/2000/svg\" height=\"24px\"viewBox=\"0 0 24 24\"\n",
              "       width=\"24px\">\n",
              "    <path d=\"M0 0h24v24H0V0z\" fill=\"none\"/>\n",
              "    <path d=\"M18.56 5.44l.94 2.06.94-2.06 2.06-.94-2.06-.94-.94-2.06-.94 2.06-2.06.94zm-11 1L8.5 8.5l.94-2.06 2.06-.94-2.06-.94L8.5 2.5l-.94 2.06-2.06.94zm10 10l.94 2.06.94-2.06 2.06-.94-2.06-.94-.94-2.06-.94 2.06-2.06.94z\"/><path d=\"M17.41 7.96l-1.37-1.37c-.4-.4-.92-.59-1.43-.59-.52 0-1.04.2-1.43.59L10.3 9.45l-7.72 7.72c-.78.78-.78 2.05 0 2.83L4 21.41c.39.39.9.59 1.41.59.51 0 1.02-.2 1.41-.59l7.78-7.78 2.81-2.81c.8-.78.8-2.07 0-2.86zM5.41 20L4 18.59l7.72-7.72 1.47 1.35L5.41 20z\"/>\n",
              "  </svg>\n",
              "      </button>\n",
              "      \n",
              "  <style>\n",
              "    .colab-df-container {\n",
              "      display:flex;\n",
              "      flex-wrap:wrap;\n",
              "      gap: 12px;\n",
              "    }\n",
              "\n",
              "    .colab-df-convert {\n",
              "      background-color: #E8F0FE;\n",
              "      border: none;\n",
              "      border-radius: 50%;\n",
              "      cursor: pointer;\n",
              "      display: none;\n",
              "      fill: #1967D2;\n",
              "      height: 32px;\n",
              "      padding: 0 0 0 0;\n",
              "      width: 32px;\n",
              "    }\n",
              "\n",
              "    .colab-df-convert:hover {\n",
              "      background-color: #E2EBFA;\n",
              "      box-shadow: 0px 1px 2px rgba(60, 64, 67, 0.3), 0px 1px 3px 1px rgba(60, 64, 67, 0.15);\n",
              "      fill: #174EA6;\n",
              "    }\n",
              "\n",
              "    [theme=dark] .colab-df-convert {\n",
              "      background-color: #3B4455;\n",
              "      fill: #D2E3FC;\n",
              "    }\n",
              "\n",
              "    [theme=dark] .colab-df-convert:hover {\n",
              "      background-color: #434B5C;\n",
              "      box-shadow: 0px 1px 3px 1px rgba(0, 0, 0, 0.15);\n",
              "      filter: drop-shadow(0px 1px 2px rgba(0, 0, 0, 0.3));\n",
              "      fill: #FFFFFF;\n",
              "    }\n",
              "  </style>\n",
              "\n",
              "      <script>\n",
              "        const buttonEl =\n",
              "          document.querySelector('#df-edf18b28-fe89-412b-91d7-5389d84ea908 button.colab-df-convert');\n",
              "        buttonEl.style.display =\n",
              "          google.colab.kernel.accessAllowed ? 'block' : 'none';\n",
              "\n",
              "        async function convertToInteractive(key) {\n",
              "          const element = document.querySelector('#df-edf18b28-fe89-412b-91d7-5389d84ea908');\n",
              "          const dataTable =\n",
              "            await google.colab.kernel.invokeFunction('convertToInteractive',\n",
              "                                                     [key], {});\n",
              "          if (!dataTable) return;\n",
              "\n",
              "          const docLinkHtml = 'Like what you see? Visit the ' +\n",
              "            '<a target=\"_blank\" href=https://colab.research.google.com/notebooks/data_table.ipynb>data table notebook</a>'\n",
              "            + ' to learn more about interactive tables.';\n",
              "          element.innerHTML = '';\n",
              "          dataTable['output_type'] = 'display_data';\n",
              "          await google.colab.output.renderOutput(dataTable, element);\n",
              "          const docLink = document.createElement('div');\n",
              "          docLink.innerHTML = docLinkHtml;\n",
              "          element.appendChild(docLink);\n",
              "        }\n",
              "      </script>\n",
              "    </div>\n",
              "  </div>\n",
              "  "
            ]
          },
          "metadata": {},
          "execution_count": 8
        }
      ]
    },
    {
      "cell_type": "code",
      "source": [
        "#shape of the data\n",
        "df.shape"
      ],
      "metadata": {
        "colab": {
          "base_uri": "https://localhost:8080/"
        },
        "id": "Bqw5Px96Odfa",
        "outputId": "d78c348d-f880-433b-dbe3-ece229270bf0"
      },
      "execution_count": 9,
      "outputs": [
        {
          "output_type": "execute_result",
          "data": {
            "text/plain": [
              "(584, 6)"
            ]
          },
          "metadata": {},
          "execution_count": 9
        }
      ]
    },
    {
      "cell_type": "code",
      "source": [
        "#Column Counts\n",
        "df.columns.value_counts()"
      ],
      "metadata": {
        "colab": {
          "base_uri": "https://localhost:8080/"
        },
        "id": "0jXJEt6VOd45",
        "outputId": "452c4ff4-7bda-497d-d3bd-cd5a669b0b6b"
      },
      "execution_count": 10,
      "outputs": [
        {
          "output_type": "execute_result",
          "data": {
            "text/plain": [
              "Title         1\n",
              "Genre         1\n",
              "Premiere      1\n",
              "Runtime       1\n",
              "IMDB Score    1\n",
              "Language      1\n",
              "dtype: int64"
            ]
          },
          "metadata": {},
          "execution_count": 10
        }
      ]
    },
    {
      "cell_type": "code",
      "source": [
        "#Check missing values\n",
        "df.isnull().sum()"
      ],
      "metadata": {
        "colab": {
          "base_uri": "https://localhost:8080/"
        },
        "id": "3aHOfKCAOeQM",
        "outputId": "f4241a7f-3f9b-482d-a3f6-e9e8455c5df7"
      },
      "execution_count": 11,
      "outputs": [
        {
          "output_type": "execute_result",
          "data": {
            "text/plain": [
              "Title         0\n",
              "Genre         0\n",
              "Premiere      0\n",
              "Runtime       0\n",
              "IMDB Score    0\n",
              "Language      0\n",
              "dtype: int64"
            ]
          },
          "metadata": {},
          "execution_count": 11
        }
      ]
    },
    {
      "cell_type": "code",
      "source": [
        "#data info\n",
        "df.info()"
      ],
      "metadata": {
        "colab": {
          "base_uri": "https://localhost:8080/"
        },
        "id": "KS0389O3O0d_",
        "outputId": "608ba41c-eab0-46a9-f6a2-81ec37ac6f2a"
      },
      "execution_count": 12,
      "outputs": [
        {
          "output_type": "stream",
          "name": "stdout",
          "text": [
            "<class 'pandas.core.frame.DataFrame'>\n",
            "RangeIndex: 584 entries, 0 to 583\n",
            "Data columns (total 6 columns):\n",
            " #   Column      Non-Null Count  Dtype  \n",
            "---  ------      --------------  -----  \n",
            " 0   Title       584 non-null    object \n",
            " 1   Genre       584 non-null    object \n",
            " 2   Premiere    584 non-null    object \n",
            " 3   Runtime     584 non-null    int64  \n",
            " 4   IMDB Score  584 non-null    float64\n",
            " 5   Language    584 non-null    object \n",
            "dtypes: float64(1), int64(1), object(4)\n",
            "memory usage: 27.5+ KB\n"
          ]
        }
      ]
    },
    {
      "cell_type": "code",
      "source": [
        "df[\"Date\"] = pd.to_datetime(df.Premiere)\n",
        "df[\"Date\"]"
      ],
      "metadata": {
        "colab": {
          "base_uri": "https://localhost:8080/"
        },
        "id": "2ubRyPrVO1fN",
        "outputId": "6abd8ebe-5f2a-4d24-ba2f-37f47a5f0b7a"
      },
      "execution_count": 13,
      "outputs": [
        {
          "output_type": "execute_result",
          "data": {
            "text/plain": [
              "0     2019-08-05\n",
              "1     2020-08-21\n",
              "2     2019-12-26\n",
              "3     2018-01-19\n",
              "4     2020-10-30\n",
              "         ...    \n",
              "579   2018-12-31\n",
              "580   2015-10-09\n",
              "581   2018-12-16\n",
              "582   2020-12-08\n",
              "583   2020-10-04\n",
              "Name: Date, Length: 584, dtype: datetime64[ns]"
            ]
          },
          "metadata": {},
          "execution_count": 13
        }
      ]
    },
    {
      "cell_type": "code",
      "source": [
        "df[\"Year\"] = df[\"Date\"].dt.year\n",
        "df[\"Month\"] = df[\"Date\"].dt.month\n",
        "df[\"day_of_week\"] = df[\"Date\"].dt.dayofweek\n",
        "df[\"Year_Month\"] = df[\"Date\"].dt.strftime(\"%Y-%m\")"
      ],
      "metadata": {
        "id": "wvNfCETuO1YF"
      },
      "execution_count": 14,
      "outputs": []
    },
    {
      "cell_type": "code",
      "source": [
        "df.head()"
      ],
      "metadata": {
        "colab": {
          "base_uri": "https://localhost:8080/",
          "height": 250
        },
        "id": "tYnNSdg5O1Oa",
        "outputId": "3f4d12ab-1aa2-4536-c7c0-1c082ba88256"
      },
      "execution_count": 15,
      "outputs": [
        {
          "output_type": "execute_result",
          "data": {
            "text/plain": [
              "             Title                  Genre           Premiere  Runtime  \\\n",
              "0  Enter the Anime            Documentary     August 5, 2019       58   \n",
              "1      Dark Forces               Thriller    August 21, 2020       81   \n",
              "2          The App  Science fiction/Drama  December 26, 2019       79   \n",
              "3   The Open House        Horror thriller   January 19, 2018       94   \n",
              "4      Kaali Khuhi                Mystery   October 30, 2020       90   \n",
              "\n",
              "   IMDB Score          Language       Date  Year  Month  day_of_week  \\\n",
              "0         2.5  English/Japanese 2019-08-05  2019      8            0   \n",
              "1         2.6           Spanish 2020-08-21  2020      8            4   \n",
              "2         2.6           Italian 2019-12-26  2019     12            3   \n",
              "3         3.2           English 2018-01-19  2018      1            4   \n",
              "4         3.4             Hindi 2020-10-30  2020     10            4   \n",
              "\n",
              "  Year_Month  \n",
              "0    2019-08  \n",
              "1    2020-08  \n",
              "2    2019-12  \n",
              "3    2018-01  \n",
              "4    2020-10  "
            ],
            "text/html": [
              "\n",
              "  <div id=\"df-9321e576-54a8-4114-bcb1-236414f8e87e\">\n",
              "    <div class=\"colab-df-container\">\n",
              "      <div>\n",
              "<style scoped>\n",
              "    .dataframe tbody tr th:only-of-type {\n",
              "        vertical-align: middle;\n",
              "    }\n",
              "\n",
              "    .dataframe tbody tr th {\n",
              "        vertical-align: top;\n",
              "    }\n",
              "\n",
              "    .dataframe thead th {\n",
              "        text-align: right;\n",
              "    }\n",
              "</style>\n",
              "<table border=\"1\" class=\"dataframe\">\n",
              "  <thead>\n",
              "    <tr style=\"text-align: right;\">\n",
              "      <th></th>\n",
              "      <th>Title</th>\n",
              "      <th>Genre</th>\n",
              "      <th>Premiere</th>\n",
              "      <th>Runtime</th>\n",
              "      <th>IMDB Score</th>\n",
              "      <th>Language</th>\n",
              "      <th>Date</th>\n",
              "      <th>Year</th>\n",
              "      <th>Month</th>\n",
              "      <th>day_of_week</th>\n",
              "      <th>Year_Month</th>\n",
              "    </tr>\n",
              "  </thead>\n",
              "  <tbody>\n",
              "    <tr>\n",
              "      <th>0</th>\n",
              "      <td>Enter the Anime</td>\n",
              "      <td>Documentary</td>\n",
              "      <td>August 5, 2019</td>\n",
              "      <td>58</td>\n",
              "      <td>2.5</td>\n",
              "      <td>English/Japanese</td>\n",
              "      <td>2019-08-05</td>\n",
              "      <td>2019</td>\n",
              "      <td>8</td>\n",
              "      <td>0</td>\n",
              "      <td>2019-08</td>\n",
              "    </tr>\n",
              "    <tr>\n",
              "      <th>1</th>\n",
              "      <td>Dark Forces</td>\n",
              "      <td>Thriller</td>\n",
              "      <td>August 21, 2020</td>\n",
              "      <td>81</td>\n",
              "      <td>2.6</td>\n",
              "      <td>Spanish</td>\n",
              "      <td>2020-08-21</td>\n",
              "      <td>2020</td>\n",
              "      <td>8</td>\n",
              "      <td>4</td>\n",
              "      <td>2020-08</td>\n",
              "    </tr>\n",
              "    <tr>\n",
              "      <th>2</th>\n",
              "      <td>The App</td>\n",
              "      <td>Science fiction/Drama</td>\n",
              "      <td>December 26, 2019</td>\n",
              "      <td>79</td>\n",
              "      <td>2.6</td>\n",
              "      <td>Italian</td>\n",
              "      <td>2019-12-26</td>\n",
              "      <td>2019</td>\n",
              "      <td>12</td>\n",
              "      <td>3</td>\n",
              "      <td>2019-12</td>\n",
              "    </tr>\n",
              "    <tr>\n",
              "      <th>3</th>\n",
              "      <td>The Open House</td>\n",
              "      <td>Horror thriller</td>\n",
              "      <td>January 19, 2018</td>\n",
              "      <td>94</td>\n",
              "      <td>3.2</td>\n",
              "      <td>English</td>\n",
              "      <td>2018-01-19</td>\n",
              "      <td>2018</td>\n",
              "      <td>1</td>\n",
              "      <td>4</td>\n",
              "      <td>2018-01</td>\n",
              "    </tr>\n",
              "    <tr>\n",
              "      <th>4</th>\n",
              "      <td>Kaali Khuhi</td>\n",
              "      <td>Mystery</td>\n",
              "      <td>October 30, 2020</td>\n",
              "      <td>90</td>\n",
              "      <td>3.4</td>\n",
              "      <td>Hindi</td>\n",
              "      <td>2020-10-30</td>\n",
              "      <td>2020</td>\n",
              "      <td>10</td>\n",
              "      <td>4</td>\n",
              "      <td>2020-10</td>\n",
              "    </tr>\n",
              "  </tbody>\n",
              "</table>\n",
              "</div>\n",
              "      <button class=\"colab-df-convert\" onclick=\"convertToInteractive('df-9321e576-54a8-4114-bcb1-236414f8e87e')\"\n",
              "              title=\"Convert this dataframe to an interactive table.\"\n",
              "              style=\"display:none;\">\n",
              "        \n",
              "  <svg xmlns=\"http://www.w3.org/2000/svg\" height=\"24px\"viewBox=\"0 0 24 24\"\n",
              "       width=\"24px\">\n",
              "    <path d=\"M0 0h24v24H0V0z\" fill=\"none\"/>\n",
              "    <path d=\"M18.56 5.44l.94 2.06.94-2.06 2.06-.94-2.06-.94-.94-2.06-.94 2.06-2.06.94zm-11 1L8.5 8.5l.94-2.06 2.06-.94-2.06-.94L8.5 2.5l-.94 2.06-2.06.94zm10 10l.94 2.06.94-2.06 2.06-.94-2.06-.94-.94-2.06-.94 2.06-2.06.94z\"/><path d=\"M17.41 7.96l-1.37-1.37c-.4-.4-.92-.59-1.43-.59-.52 0-1.04.2-1.43.59L10.3 9.45l-7.72 7.72c-.78.78-.78 2.05 0 2.83L4 21.41c.39.39.9.59 1.41.59.51 0 1.02-.2 1.41-.59l7.78-7.78 2.81-2.81c.8-.78.8-2.07 0-2.86zM5.41 20L4 18.59l7.72-7.72 1.47 1.35L5.41 20z\"/>\n",
              "  </svg>\n",
              "      </button>\n",
              "      \n",
              "  <style>\n",
              "    .colab-df-container {\n",
              "      display:flex;\n",
              "      flex-wrap:wrap;\n",
              "      gap: 12px;\n",
              "    }\n",
              "\n",
              "    .colab-df-convert {\n",
              "      background-color: #E8F0FE;\n",
              "      border: none;\n",
              "      border-radius: 50%;\n",
              "      cursor: pointer;\n",
              "      display: none;\n",
              "      fill: #1967D2;\n",
              "      height: 32px;\n",
              "      padding: 0 0 0 0;\n",
              "      width: 32px;\n",
              "    }\n",
              "\n",
              "    .colab-df-convert:hover {\n",
              "      background-color: #E2EBFA;\n",
              "      box-shadow: 0px 1px 2px rgba(60, 64, 67, 0.3), 0px 1px 3px 1px rgba(60, 64, 67, 0.15);\n",
              "      fill: #174EA6;\n",
              "    }\n",
              "\n",
              "    [theme=dark] .colab-df-convert {\n",
              "      background-color: #3B4455;\n",
              "      fill: #D2E3FC;\n",
              "    }\n",
              "\n",
              "    [theme=dark] .colab-df-convert:hover {\n",
              "      background-color: #434B5C;\n",
              "      box-shadow: 0px 1px 3px 1px rgba(0, 0, 0, 0.15);\n",
              "      filter: drop-shadow(0px 1px 2px rgba(0, 0, 0, 0.3));\n",
              "      fill: #FFFFFF;\n",
              "    }\n",
              "  </style>\n",
              "\n",
              "      <script>\n",
              "        const buttonEl =\n",
              "          document.querySelector('#df-9321e576-54a8-4114-bcb1-236414f8e87e button.colab-df-convert');\n",
              "        buttonEl.style.display =\n",
              "          google.colab.kernel.accessAllowed ? 'block' : 'none';\n",
              "\n",
              "        async function convertToInteractive(key) {\n",
              "          const element = document.querySelector('#df-9321e576-54a8-4114-bcb1-236414f8e87e');\n",
              "          const dataTable =\n",
              "            await google.colab.kernel.invokeFunction('convertToInteractive',\n",
              "                                                     [key], {});\n",
              "          if (!dataTable) return;\n",
              "\n",
              "          const docLinkHtml = 'Like what you see? Visit the ' +\n",
              "            '<a target=\"_blank\" href=https://colab.research.google.com/notebooks/data_table.ipynb>data table notebook</a>'\n",
              "            + ' to learn more about interactive tables.';\n",
              "          element.innerHTML = '';\n",
              "          dataTable['output_type'] = 'display_data';\n",
              "          await google.colab.output.renderOutput(dataTable, element);\n",
              "          const docLink = document.createElement('div');\n",
              "          docLink.innerHTML = docLinkHtml;\n",
              "          element.appendChild(docLink);\n",
              "        }\n",
              "      </script>\n",
              "    </div>\n",
              "  </div>\n",
              "  "
            ]
          },
          "metadata": {},
          "execution_count": 15
        }
      ]
    },
    {
      "cell_type": "code",
      "source": [
        "df.info()"
      ],
      "metadata": {
        "colab": {
          "base_uri": "https://localhost:8080/"
        },
        "id": "CSkm3x3QO1GR",
        "outputId": "51e914af-69de-446f-f3e2-393791ed6f42"
      },
      "execution_count": 16,
      "outputs": [
        {
          "output_type": "stream",
          "name": "stdout",
          "text": [
            "<class 'pandas.core.frame.DataFrame'>\n",
            "RangeIndex: 584 entries, 0 to 583\n",
            "Data columns (total 11 columns):\n",
            " #   Column       Non-Null Count  Dtype         \n",
            "---  ------       --------------  -----         \n",
            " 0   Title        584 non-null    object        \n",
            " 1   Genre        584 non-null    object        \n",
            " 2   Premiere     584 non-null    object        \n",
            " 3   Runtime      584 non-null    int64         \n",
            " 4   IMDB Score   584 non-null    float64       \n",
            " 5   Language     584 non-null    object        \n",
            " 6   Date         584 non-null    datetime64[ns]\n",
            " 7   Year         584 non-null    int64         \n",
            " 8   Month        584 non-null    int64         \n",
            " 9   day_of_week  584 non-null    int64         \n",
            " 10  Year_Month   584 non-null    object        \n",
            "dtypes: datetime64[ns](1), float64(1), int64(4), object(5)\n",
            "memory usage: 50.3+ KB\n"
          ]
        }
      ]
    },
    {
      "cell_type": "markdown",
      "source": [
        "\n",
        "  *  'Genre' Sütunu kaç kategoriye sahiptir ve bu kategoriler nelerdir? Görselleştirerek ifade ediniz."
      ],
      "metadata": {
        "id": "f_5DBnmRPBuR"
      }
    },
    {
      "cell_type": "code",
      "source": [
        "df.Genre.nunique()"
      ],
      "metadata": {
        "colab": {
          "base_uri": "https://localhost:8080/"
        },
        "id": "9yItoaawO06q",
        "outputId": "c6ff3fca-e7bd-4ce0-e2f6-c6f5a5df1dcc"
      },
      "execution_count": 17,
      "outputs": [
        {
          "output_type": "execute_result",
          "data": {
            "text/plain": [
              "115"
            ]
          },
          "metadata": {},
          "execution_count": 17
        }
      ]
    },
    {
      "cell_type": "code",
      "source": [
        "df.Genre.unique()"
      ],
      "metadata": {
        "colab": {
          "base_uri": "https://localhost:8080/"
        },
        "id": "1jrKdne8O0vN",
        "outputId": "2488e7ee-f6ad-41f0-df66-80aec5b15012"
      },
      "execution_count": 18,
      "outputs": [
        {
          "output_type": "execute_result",
          "data": {
            "text/plain": [
              "array(['Documentary', 'Thriller', 'Science fiction/Drama',\n",
              "       'Horror thriller', 'Mystery', 'Action', 'Comedy',\n",
              "       'Heist film/Thriller', 'Musical/Western/Fantasy', 'Drama',\n",
              "       'Romantic comedy', 'Action comedy', 'Horror anthology',\n",
              "       'Political thriller', 'Superhero-Comedy', 'Horror',\n",
              "       'Romance drama', 'Anime / Short', 'Superhero', 'Heist', 'Western',\n",
              "       'Animation/Superhero', 'Family film', 'Action-thriller',\n",
              "       'Teen comedy-drama', 'Romantic drama', 'Animation',\n",
              "       'Aftershow / Interview', 'Christmas musical',\n",
              "       'Science fiction adventure', 'Science fiction', 'Variety show',\n",
              "       'Comedy-drama', 'Comedy/Fantasy/Family', 'Supernatural drama',\n",
              "       'Action/Comedy', 'Action/Science fiction',\n",
              "       'Romantic teenage drama', 'Comedy / Musical', 'Musical',\n",
              "       'Science fiction/Mystery', 'Crime drama',\n",
              "       'Psychological thriller drama', 'Adventure/Comedy', 'Black comedy',\n",
              "       'Romance', 'Horror comedy', 'Christian musical',\n",
              "       'Romantic teen drama', 'Family', 'Dark comedy', 'Comedy horror',\n",
              "       'Psychological thriller', 'Biopic', 'Science fiction/Thriller',\n",
              "       'Mockumentary', 'Satire', 'One-man show', 'Romantic comedy-drama',\n",
              "       'Comedy/Horror', 'Fantasy', 'Sports-drama', 'Zombie/Heist',\n",
              "       'Psychological horror', 'Sports film', 'Comedy mystery',\n",
              "       'Romantic thriller', 'Christmas comedy', 'War-Comedy',\n",
              "       'Romantic comedy/Holiday', 'Adventure-romance', 'Adventure',\n",
              "       'Horror-thriller', 'Dance comedy', 'Stop Motion',\n",
              "       'Horror/Crime drama', 'Urban fantasy', 'Drama/Horror',\n",
              "       'Family/Comedy-drama', 'War', 'Crime thriller',\n",
              "       'Science fiction/Action', 'Teen comedy horror', 'Concert Film',\n",
              "       'Musical comedy', 'Animation/Musical/Adventure',\n",
              "       'Animation / Musicial', 'Animation/Comedy/Adventure',\n",
              "       'Action thriller', 'Anime/Science fiction', 'Animation / Short',\n",
              "       'War drama', 'Family/Christmas musical',\n",
              "       'Science fiction thriller', 'Drama / Short',\n",
              "       'Hidden-camera prank comedy', 'Spy thriller', 'Anime/Fantasy',\n",
              "       'Animated musical comedy', 'Variety Show', 'Superhero/Action',\n",
              "       'Biographical/Comedy', 'Historical-epic', 'Animation / Comedy',\n",
              "       'Christmas/Fantasy/Adventure/Comedy', 'Mentalism special',\n",
              "       'Drama-Comedy', 'Coming-of-age comedy-drama', 'Historical drama',\n",
              "       'Making-of', 'Action-adventure', 'Animation / Science Fiction',\n",
              "       'Anthology/Dark comedy', 'Musical / Short',\n",
              "       'Animation/Christmas/Comedy/Adventure'], dtype=object)"
            ]
          },
          "metadata": {},
          "execution_count": 18
        }
      ]
    },
    {
      "cell_type": "markdown",
      "source": [
        "*Netflix veri kümesinde farklı film türleri mevcuttur. Netflix'teki 115 tür filmin tümünün adı yukarıdaki çıktıdadır.*"
      ],
      "metadata": {
        "id": "57tPWv4-SmVQ"
      }
    },
    {
      "cell_type": "code",
      "source": [
        "df.Genre.value_counts(normalize=True)*100"
      ],
      "metadata": {
        "colab": {
          "base_uri": "https://localhost:8080/"
        },
        "id": "3Qed6oFRPf70",
        "outputId": "e5708858-a3c9-4ecc-966b-2981bb550d2e"
      },
      "execution_count": 19,
      "outputs": [
        {
          "output_type": "execute_result",
          "data": {
            "text/plain": [
              "Documentary                             27.226027\n",
              "Drama                                   13.184932\n",
              "Comedy                                   8.390411\n",
              "Romantic comedy                          6.678082\n",
              "Thriller                                 5.650685\n",
              "                                          ...    \n",
              "Romantic comedy-drama                    0.171233\n",
              "Heist film/Thriller                      0.171233\n",
              "Musical/Western/Fantasy                  0.171233\n",
              "Horror anthology                         0.171233\n",
              "Animation/Christmas/Comedy/Adventure     0.171233\n",
              "Name: Genre, Length: 115, dtype: float64"
            ]
          },
          "metadata": {},
          "execution_count": 19
        }
      ]
    },
    {
      "cell_type": "markdown",
      "source": [
        "*Verilerden elimizde %27,22 belgesel film, %13,18 Drama film, %8,39 Komedi film vs var. diğer türlerden daha fazla görüntüleme.*"
      ],
      "metadata": {
        "id": "DvMSagB_TDGR"
      }
    },
    {
      "cell_type": "code",
      "source": [
        "genre = df.Genre.value_counts().nlargest(20)\n",
        "genre"
      ],
      "metadata": {
        "colab": {
          "base_uri": "https://localhost:8080/"
        },
        "id": "vzuHr5z_Pft4",
        "outputId": "6793c85c-0640-4063-acd6-0d4ffb8c2cd0"
      },
      "execution_count": 20,
      "outputs": [
        {
          "output_type": "execute_result",
          "data": {
            "text/plain": [
              "Documentary                 159\n",
              "Drama                        77\n",
              "Comedy                       49\n",
              "Romantic comedy              39\n",
              "Thriller                     33\n",
              "Comedy-drama                 14\n",
              "Crime drama                  11\n",
              "Biopic                        9\n",
              "Horror                        9\n",
              "Action                        7\n",
              "Romance                       6\n",
              "Concert Film                  6\n",
              "Aftershow / Interview         6\n",
              "Animation                     5\n",
              "Action comedy                 5\n",
              "Romantic drama                5\n",
              "Psychological thriller        4\n",
              "Science fiction/Thriller      4\n",
              "Variety show                  4\n",
              "Science fiction               4\n",
              "Name: Genre, dtype: int64"
            ]
          },
          "metadata": {},
          "execution_count": 20
        }
      ]
    },
    {
      "cell_type": "code",
      "source": [
        "fig = px.bar(data_frame=genre, x=genre.index, y=genre.values, labels={\"y\":\"Number of Movies from the Genre\", \"index\":\"Genres\"})\n",
        "fig.update_layout(xaxis={\"categoryorder\":\"total descending\"})\n",
        "\n",
        "fig.show()"
      ],
      "metadata": {
        "colab": {
          "base_uri": "https://localhost:8080/",
          "height": 542
        },
        "id": "m9Cg3Ti7Pfnl",
        "outputId": "cea94c27-58d8-4abb-d4aa-44af24264942"
      },
      "execution_count": 21,
      "outputs": [
        {
          "output_type": "display_data",
          "data": {
            "text/html": [
              "<html>\n",
              "<head><meta charset=\"utf-8\" /></head>\n",
              "<body>\n",
              "    <div>            <script src=\"https://cdnjs.cloudflare.com/ajax/libs/mathjax/2.7.5/MathJax.js?config=TeX-AMS-MML_SVG\"></script><script type=\"text/javascript\">if (window.MathJax) {MathJax.Hub.Config({SVG: {font: \"STIX-Web\"}});}</script>                <script type=\"text/javascript\">window.PlotlyConfig = {MathJaxConfig: 'local'};</script>\n",
              "        <script src=\"https://cdn.plot.ly/plotly-2.8.3.min.js\"></script>                <div id=\"73a5b6e2-66bc-4329-9e37-0254691f6cfc\" class=\"plotly-graph-div\" style=\"height:525px; width:100%;\"></div>            <script type=\"text/javascript\">                                    window.PLOTLYENV=window.PLOTLYENV || {};                                    if (document.getElementById(\"73a5b6e2-66bc-4329-9e37-0254691f6cfc\")) {                    Plotly.newPlot(                        \"73a5b6e2-66bc-4329-9e37-0254691f6cfc\",                        [{\"alignmentgroup\":\"True\",\"hovertemplate\":\"Genres=%{x}<br>Number of Movies from the Genre=%{y}<extra></extra>\",\"legendgroup\":\"\",\"marker\":{\"color\":\"#636efa\",\"pattern\":{\"shape\":\"\"}},\"name\":\"\",\"offsetgroup\":\"\",\"orientation\":\"v\",\"showlegend\":false,\"textposition\":\"auto\",\"x\":[\"Documentary\",\"Drama\",\"Comedy\",\"Romantic comedy\",\"Thriller\",\"Comedy-drama\",\"Crime drama\",\"Biopic\",\"Horror\",\"Action\",\"Romance\",\"Concert Film\",\"Aftershow / Interview\",\"Animation\",\"Action comedy\",\"Romantic drama\",\"Psychological thriller\",\"Science fiction/Thriller\",\"Variety show\",\"Science fiction\"],\"xaxis\":\"x\",\"y\":[159,77,49,39,33,14,11,9,9,7,6,6,6,5,5,5,4,4,4,4],\"yaxis\":\"y\",\"type\":\"bar\"}],                        {\"template\":{\"data\":{\"bar\":[{\"error_x\":{\"color\":\"#2a3f5f\"},\"error_y\":{\"color\":\"#2a3f5f\"},\"marker\":{\"line\":{\"color\":\"#E5ECF6\",\"width\":0.5},\"pattern\":{\"fillmode\":\"overlay\",\"size\":10,\"solidity\":0.2}},\"type\":\"bar\"}],\"barpolar\":[{\"marker\":{\"line\":{\"color\":\"#E5ECF6\",\"width\":0.5},\"pattern\":{\"fillmode\":\"overlay\",\"size\":10,\"solidity\":0.2}},\"type\":\"barpolar\"}],\"carpet\":[{\"aaxis\":{\"endlinecolor\":\"#2a3f5f\",\"gridcolor\":\"white\",\"linecolor\":\"white\",\"minorgridcolor\":\"white\",\"startlinecolor\":\"#2a3f5f\"},\"baxis\":{\"endlinecolor\":\"#2a3f5f\",\"gridcolor\":\"white\",\"linecolor\":\"white\",\"minorgridcolor\":\"white\",\"startlinecolor\":\"#2a3f5f\"},\"type\":\"carpet\"}],\"choropleth\":[{\"colorbar\":{\"outlinewidth\":0,\"ticks\":\"\"},\"type\":\"choropleth\"}],\"contour\":[{\"colorbar\":{\"outlinewidth\":0,\"ticks\":\"\"},\"colorscale\":[[0.0,\"#0d0887\"],[0.1111111111111111,\"#46039f\"],[0.2222222222222222,\"#7201a8\"],[0.3333333333333333,\"#9c179e\"],[0.4444444444444444,\"#bd3786\"],[0.5555555555555556,\"#d8576b\"],[0.6666666666666666,\"#ed7953\"],[0.7777777777777778,\"#fb9f3a\"],[0.8888888888888888,\"#fdca26\"],[1.0,\"#f0f921\"]],\"type\":\"contour\"}],\"contourcarpet\":[{\"colorbar\":{\"outlinewidth\":0,\"ticks\":\"\"},\"type\":\"contourcarpet\"}],\"heatmap\":[{\"colorbar\":{\"outlinewidth\":0,\"ticks\":\"\"},\"colorscale\":[[0.0,\"#0d0887\"],[0.1111111111111111,\"#46039f\"],[0.2222222222222222,\"#7201a8\"],[0.3333333333333333,\"#9c179e\"],[0.4444444444444444,\"#bd3786\"],[0.5555555555555556,\"#d8576b\"],[0.6666666666666666,\"#ed7953\"],[0.7777777777777778,\"#fb9f3a\"],[0.8888888888888888,\"#fdca26\"],[1.0,\"#f0f921\"]],\"type\":\"heatmap\"}],\"heatmapgl\":[{\"colorbar\":{\"outlinewidth\":0,\"ticks\":\"\"},\"colorscale\":[[0.0,\"#0d0887\"],[0.1111111111111111,\"#46039f\"],[0.2222222222222222,\"#7201a8\"],[0.3333333333333333,\"#9c179e\"],[0.4444444444444444,\"#bd3786\"],[0.5555555555555556,\"#d8576b\"],[0.6666666666666666,\"#ed7953\"],[0.7777777777777778,\"#fb9f3a\"],[0.8888888888888888,\"#fdca26\"],[1.0,\"#f0f921\"]],\"type\":\"heatmapgl\"}],\"histogram\":[{\"marker\":{\"pattern\":{\"fillmode\":\"overlay\",\"size\":10,\"solidity\":0.2}},\"type\":\"histogram\"}],\"histogram2d\":[{\"colorbar\":{\"outlinewidth\":0,\"ticks\":\"\"},\"colorscale\":[[0.0,\"#0d0887\"],[0.1111111111111111,\"#46039f\"],[0.2222222222222222,\"#7201a8\"],[0.3333333333333333,\"#9c179e\"],[0.4444444444444444,\"#bd3786\"],[0.5555555555555556,\"#d8576b\"],[0.6666666666666666,\"#ed7953\"],[0.7777777777777778,\"#fb9f3a\"],[0.8888888888888888,\"#fdca26\"],[1.0,\"#f0f921\"]],\"type\":\"histogram2d\"}],\"histogram2dcontour\":[{\"colorbar\":{\"outlinewidth\":0,\"ticks\":\"\"},\"colorscale\":[[0.0,\"#0d0887\"],[0.1111111111111111,\"#46039f\"],[0.2222222222222222,\"#7201a8\"],[0.3333333333333333,\"#9c179e\"],[0.4444444444444444,\"#bd3786\"],[0.5555555555555556,\"#d8576b\"],[0.6666666666666666,\"#ed7953\"],[0.7777777777777778,\"#fb9f3a\"],[0.8888888888888888,\"#fdca26\"],[1.0,\"#f0f921\"]],\"type\":\"histogram2dcontour\"}],\"mesh3d\":[{\"colorbar\":{\"outlinewidth\":0,\"ticks\":\"\"},\"type\":\"mesh3d\"}],\"parcoords\":[{\"line\":{\"colorbar\":{\"outlinewidth\":0,\"ticks\":\"\"}},\"type\":\"parcoords\"}],\"pie\":[{\"automargin\":true,\"type\":\"pie\"}],\"scatter\":[{\"marker\":{\"colorbar\":{\"outlinewidth\":0,\"ticks\":\"\"}},\"type\":\"scatter\"}],\"scatter3d\":[{\"line\":{\"colorbar\":{\"outlinewidth\":0,\"ticks\":\"\"}},\"marker\":{\"colorbar\":{\"outlinewidth\":0,\"ticks\":\"\"}},\"type\":\"scatter3d\"}],\"scattercarpet\":[{\"marker\":{\"colorbar\":{\"outlinewidth\":0,\"ticks\":\"\"}},\"type\":\"scattercarpet\"}],\"scattergeo\":[{\"marker\":{\"colorbar\":{\"outlinewidth\":0,\"ticks\":\"\"}},\"type\":\"scattergeo\"}],\"scattergl\":[{\"marker\":{\"colorbar\":{\"outlinewidth\":0,\"ticks\":\"\"}},\"type\":\"scattergl\"}],\"scattermapbox\":[{\"marker\":{\"colorbar\":{\"outlinewidth\":0,\"ticks\":\"\"}},\"type\":\"scattermapbox\"}],\"scatterpolar\":[{\"marker\":{\"colorbar\":{\"outlinewidth\":0,\"ticks\":\"\"}},\"type\":\"scatterpolar\"}],\"scatterpolargl\":[{\"marker\":{\"colorbar\":{\"outlinewidth\":0,\"ticks\":\"\"}},\"type\":\"scatterpolargl\"}],\"scatterternary\":[{\"marker\":{\"colorbar\":{\"outlinewidth\":0,\"ticks\":\"\"}},\"type\":\"scatterternary\"}],\"surface\":[{\"colorbar\":{\"outlinewidth\":0,\"ticks\":\"\"},\"colorscale\":[[0.0,\"#0d0887\"],[0.1111111111111111,\"#46039f\"],[0.2222222222222222,\"#7201a8\"],[0.3333333333333333,\"#9c179e\"],[0.4444444444444444,\"#bd3786\"],[0.5555555555555556,\"#d8576b\"],[0.6666666666666666,\"#ed7953\"],[0.7777777777777778,\"#fb9f3a\"],[0.8888888888888888,\"#fdca26\"],[1.0,\"#f0f921\"]],\"type\":\"surface\"}],\"table\":[{\"cells\":{\"fill\":{\"color\":\"#EBF0F8\"},\"line\":{\"color\":\"white\"}},\"header\":{\"fill\":{\"color\":\"#C8D4E3\"},\"line\":{\"color\":\"white\"}},\"type\":\"table\"}]},\"layout\":{\"annotationdefaults\":{\"arrowcolor\":\"#2a3f5f\",\"arrowhead\":0,\"arrowwidth\":1},\"autotypenumbers\":\"strict\",\"coloraxis\":{\"colorbar\":{\"outlinewidth\":0,\"ticks\":\"\"}},\"colorscale\":{\"diverging\":[[0,\"#8e0152\"],[0.1,\"#c51b7d\"],[0.2,\"#de77ae\"],[0.3,\"#f1b6da\"],[0.4,\"#fde0ef\"],[0.5,\"#f7f7f7\"],[0.6,\"#e6f5d0\"],[0.7,\"#b8e186\"],[0.8,\"#7fbc41\"],[0.9,\"#4d9221\"],[1,\"#276419\"]],\"sequential\":[[0.0,\"#0d0887\"],[0.1111111111111111,\"#46039f\"],[0.2222222222222222,\"#7201a8\"],[0.3333333333333333,\"#9c179e\"],[0.4444444444444444,\"#bd3786\"],[0.5555555555555556,\"#d8576b\"],[0.6666666666666666,\"#ed7953\"],[0.7777777777777778,\"#fb9f3a\"],[0.8888888888888888,\"#fdca26\"],[1.0,\"#f0f921\"]],\"sequentialminus\":[[0.0,\"#0d0887\"],[0.1111111111111111,\"#46039f\"],[0.2222222222222222,\"#7201a8\"],[0.3333333333333333,\"#9c179e\"],[0.4444444444444444,\"#bd3786\"],[0.5555555555555556,\"#d8576b\"],[0.6666666666666666,\"#ed7953\"],[0.7777777777777778,\"#fb9f3a\"],[0.8888888888888888,\"#fdca26\"],[1.0,\"#f0f921\"]]},\"colorway\":[\"#636efa\",\"#EF553B\",\"#00cc96\",\"#ab63fa\",\"#FFA15A\",\"#19d3f3\",\"#FF6692\",\"#B6E880\",\"#FF97FF\",\"#FECB52\"],\"font\":{\"color\":\"#2a3f5f\"},\"geo\":{\"bgcolor\":\"white\",\"lakecolor\":\"white\",\"landcolor\":\"#E5ECF6\",\"showlakes\":true,\"showland\":true,\"subunitcolor\":\"white\"},\"hoverlabel\":{\"align\":\"left\"},\"hovermode\":\"closest\",\"mapbox\":{\"style\":\"light\"},\"paper_bgcolor\":\"white\",\"plot_bgcolor\":\"#E5ECF6\",\"polar\":{\"angularaxis\":{\"gridcolor\":\"white\",\"linecolor\":\"white\",\"ticks\":\"\"},\"bgcolor\":\"#E5ECF6\",\"radialaxis\":{\"gridcolor\":\"white\",\"linecolor\":\"white\",\"ticks\":\"\"}},\"scene\":{\"xaxis\":{\"backgroundcolor\":\"#E5ECF6\",\"gridcolor\":\"white\",\"gridwidth\":2,\"linecolor\":\"white\",\"showbackground\":true,\"ticks\":\"\",\"zerolinecolor\":\"white\"},\"yaxis\":{\"backgroundcolor\":\"#E5ECF6\",\"gridcolor\":\"white\",\"gridwidth\":2,\"linecolor\":\"white\",\"showbackground\":true,\"ticks\":\"\",\"zerolinecolor\":\"white\"},\"zaxis\":{\"backgroundcolor\":\"#E5ECF6\",\"gridcolor\":\"white\",\"gridwidth\":2,\"linecolor\":\"white\",\"showbackground\":true,\"ticks\":\"\",\"zerolinecolor\":\"white\"}},\"shapedefaults\":{\"line\":{\"color\":\"#2a3f5f\"}},\"ternary\":{\"aaxis\":{\"gridcolor\":\"white\",\"linecolor\":\"white\",\"ticks\":\"\"},\"baxis\":{\"gridcolor\":\"white\",\"linecolor\":\"white\",\"ticks\":\"\"},\"bgcolor\":\"#E5ECF6\",\"caxis\":{\"gridcolor\":\"white\",\"linecolor\":\"white\",\"ticks\":\"\"}},\"title\":{\"x\":0.05},\"xaxis\":{\"automargin\":true,\"gridcolor\":\"white\",\"linecolor\":\"white\",\"ticks\":\"\",\"title\":{\"standoff\":15},\"zerolinecolor\":\"white\",\"zerolinewidth\":2},\"yaxis\":{\"automargin\":true,\"gridcolor\":\"white\",\"linecolor\":\"white\",\"ticks\":\"\",\"title\":{\"standoff\":15},\"zerolinecolor\":\"white\",\"zerolinewidth\":2}}},\"xaxis\":{\"anchor\":\"y\",\"domain\":[0.0,1.0],\"title\":{\"text\":\"Genres\"},\"categoryorder\":\"total descending\"},\"yaxis\":{\"anchor\":\"x\",\"domain\":[0.0,1.0],\"title\":{\"text\":\"Number of Movies from the Genre\"}},\"legend\":{\"tracegroupgap\":0},\"margin\":{\"t\":60},\"barmode\":\"relative\"},                        {\"responsive\": true}                    ).then(function(){\n",
              "                            \n",
              "var gd = document.getElementById('73a5b6e2-66bc-4329-9e37-0254691f6cfc');\n",
              "var x = new MutationObserver(function (mutations, observer) {{\n",
              "        var display = window.getComputedStyle(gd).display;\n",
              "        if (!display || display === 'none') {{\n",
              "            console.log([gd, 'removed!']);\n",
              "            Plotly.purge(gd);\n",
              "            observer.disconnect();\n",
              "        }}\n",
              "}});\n",
              "\n",
              "// Listen for the removal of the full notebook cells\n",
              "var notebookContainer = gd.closest('#notebook-container');\n",
              "if (notebookContainer) {{\n",
              "    x.observe(notebookContainer, {childList: true});\n",
              "}}\n",
              "\n",
              "// Listen for the clearing of the current output cell\n",
              "var outputEl = gd.closest('.output');\n",
              "if (outputEl) {{\n",
              "    x.observe(outputEl, {childList: true});\n",
              "}}\n",
              "\n",
              "                        })                };                            </script>        </div>\n",
              "</body>\n",
              "</html>"
            ]
          },
          "metadata": {}
        }
      ]
    },
    {
      "cell_type": "markdown",
      "source": [
        "  Netflix filmlerinin Dil Analizi\n",
        "  * İngilizce çekilen filmler içerisinde hangi tür en yüksek IMDB puanına sahiptir?\n",
        "  * Veri setinde bulunan filmlerde en çok kullanılan 3 dili bulunuz."
      ],
      "metadata": {
        "id": "zSw6dgvlQ5Qd"
      }
    },
    {
      "cell_type": "code",
      "source": [
        "df.Language.unique()"
      ],
      "metadata": {
        "colab": {
          "base_uri": "https://localhost:8080/"
        },
        "id": "n89X9cBtPfiE",
        "outputId": "a6303213-501e-49c4-9e15-f88ea8bed64d"
      },
      "execution_count": 22,
      "outputs": [
        {
          "output_type": "execute_result",
          "data": {
            "text/plain": [
              "array(['English/Japanese', 'Spanish', 'Italian', 'English', 'Hindi',\n",
              "       'Turkish', 'Korean', 'Indonesian', 'Malay', 'Dutch', 'French',\n",
              "       'English/Spanish', 'Portuguese', 'Filipino', 'German', 'Polish',\n",
              "       'Norwegian', 'Marathi', 'Thai', 'Swedish', 'Japanese',\n",
              "       'Spanish/Basque', 'Spanish/Catalan', 'English/Swedish',\n",
              "       'English/Taiwanese/Mandarin', 'Thia/English', 'English/Mandarin',\n",
              "       'Georgian', 'Bengali', 'Khmer/English/French', 'English/Hindi',\n",
              "       'Tamil', 'Spanish/English', 'English/Korean', 'English/Arabic',\n",
              "       'English/Russian', 'English/Akan', 'English/Ukranian/Russian'],\n",
              "      dtype=object)"
            ]
          },
          "metadata": {},
          "execution_count": 22
        }
      ]
    },
    {
      "cell_type": "code",
      "source": [
        "df.Language.value_counts()"
      ],
      "metadata": {
        "colab": {
          "base_uri": "https://localhost:8080/"
        },
        "id": "On1IyU1YPfbW",
        "outputId": "c933e16e-37bb-4457-bb54-73809acac175"
      },
      "execution_count": 23,
      "outputs": [
        {
          "output_type": "execute_result",
          "data": {
            "text/plain": [
              "English                       401\n",
              "Hindi                          33\n",
              "Spanish                        31\n",
              "French                         20\n",
              "Italian                        14\n",
              "Portuguese                     12\n",
              "Indonesian                      9\n",
              "Japanese                        6\n",
              "Korean                          6\n",
              "German                          5\n",
              "Turkish                         5\n",
              "English/Spanish                 5\n",
              "Polish                          3\n",
              "Dutch                           3\n",
              "Marathi                         3\n",
              "English/Hindi                   2\n",
              "Thai                            2\n",
              "English/Mandarin                2\n",
              "English/Japanese                2\n",
              "Filipino                        2\n",
              "English/Russian                 1\n",
              "Bengali                         1\n",
              "English/Arabic                  1\n",
              "English/Korean                  1\n",
              "Spanish/English                 1\n",
              "Tamil                           1\n",
              "English/Akan                    1\n",
              "Khmer/English/French            1\n",
              "Swedish                         1\n",
              "Georgian                        1\n",
              "Thia/English                    1\n",
              "English/Taiwanese/Mandarin      1\n",
              "English/Swedish                 1\n",
              "Spanish/Catalan                 1\n",
              "Spanish/Basque                  1\n",
              "Norwegian                       1\n",
              "Malay                           1\n",
              "English/Ukranian/Russian        1\n",
              "Name: Language, dtype: int64"
            ]
          },
          "metadata": {},
          "execution_count": 23
        }
      ]
    },
    {
      "cell_type": "code",
      "source": [
        "df.Language.nunique()"
      ],
      "metadata": {
        "colab": {
          "base_uri": "https://localhost:8080/"
        },
        "id": "BYd8sKG-PfUZ",
        "outputId": "c2d1d1d5-bb5d-4cb0-bc1d-e5b9bf56fc0b"
      },
      "execution_count": 24,
      "outputs": [
        {
          "output_type": "execute_result",
          "data": {
            "text/plain": [
              "38"
            ]
          },
          "metadata": {},
          "execution_count": 24
        }
      ]
    },
    {
      "cell_type": "code",
      "source": [
        "top_20_lang = df.Language.value_counts().nlargest(20)\n",
        "fig = px.bar(data_frame=top_20_lang, x=top_20_lang.index, y=top_20_lang.values, labels={\"y\":\"Count\", \"index\":\"Language\"})\n",
        "fig.update_layout(xaxis={\"categoryorder\":\"total descending\"})\n",
        "\n",
        "fig.show()"
      ],
      "metadata": {
        "colab": {
          "base_uri": "https://localhost:8080/",
          "height": 542
        },
        "id": "RCnkJXwAPfMC",
        "outputId": "7f90d000-45fe-4b74-fe12-5be888cc6d7a"
      },
      "execution_count": 25,
      "outputs": [
        {
          "output_type": "display_data",
          "data": {
            "text/html": [
              "<html>\n",
              "<head><meta charset=\"utf-8\" /></head>\n",
              "<body>\n",
              "    <div>            <script src=\"https://cdnjs.cloudflare.com/ajax/libs/mathjax/2.7.5/MathJax.js?config=TeX-AMS-MML_SVG\"></script><script type=\"text/javascript\">if (window.MathJax) {MathJax.Hub.Config({SVG: {font: \"STIX-Web\"}});}</script>                <script type=\"text/javascript\">window.PlotlyConfig = {MathJaxConfig: 'local'};</script>\n",
              "        <script src=\"https://cdn.plot.ly/plotly-2.8.3.min.js\"></script>                <div id=\"176fcbfc-815f-40d8-8a61-1e561fcb7785\" class=\"plotly-graph-div\" style=\"height:525px; width:100%;\"></div>            <script type=\"text/javascript\">                                    window.PLOTLYENV=window.PLOTLYENV || {};                                    if (document.getElementById(\"176fcbfc-815f-40d8-8a61-1e561fcb7785\")) {                    Plotly.newPlot(                        \"176fcbfc-815f-40d8-8a61-1e561fcb7785\",                        [{\"alignmentgroup\":\"True\",\"hovertemplate\":\"Language=%{x}<br>Count=%{y}<extra></extra>\",\"legendgroup\":\"\",\"marker\":{\"color\":\"#636efa\",\"pattern\":{\"shape\":\"\"}},\"name\":\"\",\"offsetgroup\":\"\",\"orientation\":\"v\",\"showlegend\":false,\"textposition\":\"auto\",\"x\":[\"English\",\"Hindi\",\"Spanish\",\"French\",\"Italian\",\"Portuguese\",\"Indonesian\",\"Japanese\",\"Korean\",\"German\",\"Turkish\",\"English/Spanish\",\"Polish\",\"Dutch\",\"Marathi\",\"English/Hindi\",\"Thai\",\"English/Mandarin\",\"English/Japanese\",\"Filipino\"],\"xaxis\":\"x\",\"y\":[401,33,31,20,14,12,9,6,6,5,5,5,3,3,3,2,2,2,2,2],\"yaxis\":\"y\",\"type\":\"bar\"}],                        {\"template\":{\"data\":{\"bar\":[{\"error_x\":{\"color\":\"#2a3f5f\"},\"error_y\":{\"color\":\"#2a3f5f\"},\"marker\":{\"line\":{\"color\":\"#E5ECF6\",\"width\":0.5},\"pattern\":{\"fillmode\":\"overlay\",\"size\":10,\"solidity\":0.2}},\"type\":\"bar\"}],\"barpolar\":[{\"marker\":{\"line\":{\"color\":\"#E5ECF6\",\"width\":0.5},\"pattern\":{\"fillmode\":\"overlay\",\"size\":10,\"solidity\":0.2}},\"type\":\"barpolar\"}],\"carpet\":[{\"aaxis\":{\"endlinecolor\":\"#2a3f5f\",\"gridcolor\":\"white\",\"linecolor\":\"white\",\"minorgridcolor\":\"white\",\"startlinecolor\":\"#2a3f5f\"},\"baxis\":{\"endlinecolor\":\"#2a3f5f\",\"gridcolor\":\"white\",\"linecolor\":\"white\",\"minorgridcolor\":\"white\",\"startlinecolor\":\"#2a3f5f\"},\"type\":\"carpet\"}],\"choropleth\":[{\"colorbar\":{\"outlinewidth\":0,\"ticks\":\"\"},\"type\":\"choropleth\"}],\"contour\":[{\"colorbar\":{\"outlinewidth\":0,\"ticks\":\"\"},\"colorscale\":[[0.0,\"#0d0887\"],[0.1111111111111111,\"#46039f\"],[0.2222222222222222,\"#7201a8\"],[0.3333333333333333,\"#9c179e\"],[0.4444444444444444,\"#bd3786\"],[0.5555555555555556,\"#d8576b\"],[0.6666666666666666,\"#ed7953\"],[0.7777777777777778,\"#fb9f3a\"],[0.8888888888888888,\"#fdca26\"],[1.0,\"#f0f921\"]],\"type\":\"contour\"}],\"contourcarpet\":[{\"colorbar\":{\"outlinewidth\":0,\"ticks\":\"\"},\"type\":\"contourcarpet\"}],\"heatmap\":[{\"colorbar\":{\"outlinewidth\":0,\"ticks\":\"\"},\"colorscale\":[[0.0,\"#0d0887\"],[0.1111111111111111,\"#46039f\"],[0.2222222222222222,\"#7201a8\"],[0.3333333333333333,\"#9c179e\"],[0.4444444444444444,\"#bd3786\"],[0.5555555555555556,\"#d8576b\"],[0.6666666666666666,\"#ed7953\"],[0.7777777777777778,\"#fb9f3a\"],[0.8888888888888888,\"#fdca26\"],[1.0,\"#f0f921\"]],\"type\":\"heatmap\"}],\"heatmapgl\":[{\"colorbar\":{\"outlinewidth\":0,\"ticks\":\"\"},\"colorscale\":[[0.0,\"#0d0887\"],[0.1111111111111111,\"#46039f\"],[0.2222222222222222,\"#7201a8\"],[0.3333333333333333,\"#9c179e\"],[0.4444444444444444,\"#bd3786\"],[0.5555555555555556,\"#d8576b\"],[0.6666666666666666,\"#ed7953\"],[0.7777777777777778,\"#fb9f3a\"],[0.8888888888888888,\"#fdca26\"],[1.0,\"#f0f921\"]],\"type\":\"heatmapgl\"}],\"histogram\":[{\"marker\":{\"pattern\":{\"fillmode\":\"overlay\",\"size\":10,\"solidity\":0.2}},\"type\":\"histogram\"}],\"histogram2d\":[{\"colorbar\":{\"outlinewidth\":0,\"ticks\":\"\"},\"colorscale\":[[0.0,\"#0d0887\"],[0.1111111111111111,\"#46039f\"],[0.2222222222222222,\"#7201a8\"],[0.3333333333333333,\"#9c179e\"],[0.4444444444444444,\"#bd3786\"],[0.5555555555555556,\"#d8576b\"],[0.6666666666666666,\"#ed7953\"],[0.7777777777777778,\"#fb9f3a\"],[0.8888888888888888,\"#fdca26\"],[1.0,\"#f0f921\"]],\"type\":\"histogram2d\"}],\"histogram2dcontour\":[{\"colorbar\":{\"outlinewidth\":0,\"ticks\":\"\"},\"colorscale\":[[0.0,\"#0d0887\"],[0.1111111111111111,\"#46039f\"],[0.2222222222222222,\"#7201a8\"],[0.3333333333333333,\"#9c179e\"],[0.4444444444444444,\"#bd3786\"],[0.5555555555555556,\"#d8576b\"],[0.6666666666666666,\"#ed7953\"],[0.7777777777777778,\"#fb9f3a\"],[0.8888888888888888,\"#fdca26\"],[1.0,\"#f0f921\"]],\"type\":\"histogram2dcontour\"}],\"mesh3d\":[{\"colorbar\":{\"outlinewidth\":0,\"ticks\":\"\"},\"type\":\"mesh3d\"}],\"parcoords\":[{\"line\":{\"colorbar\":{\"outlinewidth\":0,\"ticks\":\"\"}},\"type\":\"parcoords\"}],\"pie\":[{\"automargin\":true,\"type\":\"pie\"}],\"scatter\":[{\"marker\":{\"colorbar\":{\"outlinewidth\":0,\"ticks\":\"\"}},\"type\":\"scatter\"}],\"scatter3d\":[{\"line\":{\"colorbar\":{\"outlinewidth\":0,\"ticks\":\"\"}},\"marker\":{\"colorbar\":{\"outlinewidth\":0,\"ticks\":\"\"}},\"type\":\"scatter3d\"}],\"scattercarpet\":[{\"marker\":{\"colorbar\":{\"outlinewidth\":0,\"ticks\":\"\"}},\"type\":\"scattercarpet\"}],\"scattergeo\":[{\"marker\":{\"colorbar\":{\"outlinewidth\":0,\"ticks\":\"\"}},\"type\":\"scattergeo\"}],\"scattergl\":[{\"marker\":{\"colorbar\":{\"outlinewidth\":0,\"ticks\":\"\"}},\"type\":\"scattergl\"}],\"scattermapbox\":[{\"marker\":{\"colorbar\":{\"outlinewidth\":0,\"ticks\":\"\"}},\"type\":\"scattermapbox\"}],\"scatterpolar\":[{\"marker\":{\"colorbar\":{\"outlinewidth\":0,\"ticks\":\"\"}},\"type\":\"scatterpolar\"}],\"scatterpolargl\":[{\"marker\":{\"colorbar\":{\"outlinewidth\":0,\"ticks\":\"\"}},\"type\":\"scatterpolargl\"}],\"scatterternary\":[{\"marker\":{\"colorbar\":{\"outlinewidth\":0,\"ticks\":\"\"}},\"type\":\"scatterternary\"}],\"surface\":[{\"colorbar\":{\"outlinewidth\":0,\"ticks\":\"\"},\"colorscale\":[[0.0,\"#0d0887\"],[0.1111111111111111,\"#46039f\"],[0.2222222222222222,\"#7201a8\"],[0.3333333333333333,\"#9c179e\"],[0.4444444444444444,\"#bd3786\"],[0.5555555555555556,\"#d8576b\"],[0.6666666666666666,\"#ed7953\"],[0.7777777777777778,\"#fb9f3a\"],[0.8888888888888888,\"#fdca26\"],[1.0,\"#f0f921\"]],\"type\":\"surface\"}],\"table\":[{\"cells\":{\"fill\":{\"color\":\"#EBF0F8\"},\"line\":{\"color\":\"white\"}},\"header\":{\"fill\":{\"color\":\"#C8D4E3\"},\"line\":{\"color\":\"white\"}},\"type\":\"table\"}]},\"layout\":{\"annotationdefaults\":{\"arrowcolor\":\"#2a3f5f\",\"arrowhead\":0,\"arrowwidth\":1},\"autotypenumbers\":\"strict\",\"coloraxis\":{\"colorbar\":{\"outlinewidth\":0,\"ticks\":\"\"}},\"colorscale\":{\"diverging\":[[0,\"#8e0152\"],[0.1,\"#c51b7d\"],[0.2,\"#de77ae\"],[0.3,\"#f1b6da\"],[0.4,\"#fde0ef\"],[0.5,\"#f7f7f7\"],[0.6,\"#e6f5d0\"],[0.7,\"#b8e186\"],[0.8,\"#7fbc41\"],[0.9,\"#4d9221\"],[1,\"#276419\"]],\"sequential\":[[0.0,\"#0d0887\"],[0.1111111111111111,\"#46039f\"],[0.2222222222222222,\"#7201a8\"],[0.3333333333333333,\"#9c179e\"],[0.4444444444444444,\"#bd3786\"],[0.5555555555555556,\"#d8576b\"],[0.6666666666666666,\"#ed7953\"],[0.7777777777777778,\"#fb9f3a\"],[0.8888888888888888,\"#fdca26\"],[1.0,\"#f0f921\"]],\"sequentialminus\":[[0.0,\"#0d0887\"],[0.1111111111111111,\"#46039f\"],[0.2222222222222222,\"#7201a8\"],[0.3333333333333333,\"#9c179e\"],[0.4444444444444444,\"#bd3786\"],[0.5555555555555556,\"#d8576b\"],[0.6666666666666666,\"#ed7953\"],[0.7777777777777778,\"#fb9f3a\"],[0.8888888888888888,\"#fdca26\"],[1.0,\"#f0f921\"]]},\"colorway\":[\"#636efa\",\"#EF553B\",\"#00cc96\",\"#ab63fa\",\"#FFA15A\",\"#19d3f3\",\"#FF6692\",\"#B6E880\",\"#FF97FF\",\"#FECB52\"],\"font\":{\"color\":\"#2a3f5f\"},\"geo\":{\"bgcolor\":\"white\",\"lakecolor\":\"white\",\"landcolor\":\"#E5ECF6\",\"showlakes\":true,\"showland\":true,\"subunitcolor\":\"white\"},\"hoverlabel\":{\"align\":\"left\"},\"hovermode\":\"closest\",\"mapbox\":{\"style\":\"light\"},\"paper_bgcolor\":\"white\",\"plot_bgcolor\":\"#E5ECF6\",\"polar\":{\"angularaxis\":{\"gridcolor\":\"white\",\"linecolor\":\"white\",\"ticks\":\"\"},\"bgcolor\":\"#E5ECF6\",\"radialaxis\":{\"gridcolor\":\"white\",\"linecolor\":\"white\",\"ticks\":\"\"}},\"scene\":{\"xaxis\":{\"backgroundcolor\":\"#E5ECF6\",\"gridcolor\":\"white\",\"gridwidth\":2,\"linecolor\":\"white\",\"showbackground\":true,\"ticks\":\"\",\"zerolinecolor\":\"white\"},\"yaxis\":{\"backgroundcolor\":\"#E5ECF6\",\"gridcolor\":\"white\",\"gridwidth\":2,\"linecolor\":\"white\",\"showbackground\":true,\"ticks\":\"\",\"zerolinecolor\":\"white\"},\"zaxis\":{\"backgroundcolor\":\"#E5ECF6\",\"gridcolor\":\"white\",\"gridwidth\":2,\"linecolor\":\"white\",\"showbackground\":true,\"ticks\":\"\",\"zerolinecolor\":\"white\"}},\"shapedefaults\":{\"line\":{\"color\":\"#2a3f5f\"}},\"ternary\":{\"aaxis\":{\"gridcolor\":\"white\",\"linecolor\":\"white\",\"ticks\":\"\"},\"baxis\":{\"gridcolor\":\"white\",\"linecolor\":\"white\",\"ticks\":\"\"},\"bgcolor\":\"#E5ECF6\",\"caxis\":{\"gridcolor\":\"white\",\"linecolor\":\"white\",\"ticks\":\"\"}},\"title\":{\"x\":0.05},\"xaxis\":{\"automargin\":true,\"gridcolor\":\"white\",\"linecolor\":\"white\",\"ticks\":\"\",\"title\":{\"standoff\":15},\"zerolinecolor\":\"white\",\"zerolinewidth\":2},\"yaxis\":{\"automargin\":true,\"gridcolor\":\"white\",\"linecolor\":\"white\",\"ticks\":\"\",\"title\":{\"standoff\":15},\"zerolinecolor\":\"white\",\"zerolinewidth\":2}}},\"xaxis\":{\"anchor\":\"y\",\"domain\":[0.0,1.0],\"title\":{\"text\":\"Language\"},\"categoryorder\":\"total descending\"},\"yaxis\":{\"anchor\":\"x\",\"domain\":[0.0,1.0],\"title\":{\"text\":\"Count\"}},\"legend\":{\"tracegroupgap\":0},\"margin\":{\"t\":60},\"barmode\":\"relative\"},                        {\"responsive\": true}                    ).then(function(){\n",
              "                            \n",
              "var gd = document.getElementById('176fcbfc-815f-40d8-8a61-1e561fcb7785');\n",
              "var x = new MutationObserver(function (mutations, observer) {{\n",
              "        var display = window.getComputedStyle(gd).display;\n",
              "        if (!display || display === 'none') {{\n",
              "            console.log([gd, 'removed!']);\n",
              "            Plotly.purge(gd);\n",
              "            observer.disconnect();\n",
              "        }}\n",
              "}});\n",
              "\n",
              "// Listen for the removal of the full notebook cells\n",
              "var notebookContainer = gd.closest('#notebook-container');\n",
              "if (notebookContainer) {{\n",
              "    x.observe(notebookContainer, {childList: true});\n",
              "}}\n",
              "\n",
              "// Listen for the clearing of the current output cell\n",
              "var outputEl = gd.closest('.output');\n",
              "if (outputEl) {{\n",
              "    x.observe(outputEl, {childList: true});\n",
              "}}\n",
              "\n",
              "                        })                };                            </script>        </div>\n",
              "</body>\n",
              "</html>"
            ]
          },
          "metadata": {}
        }
      ]
    },
    {
      "cell_type": "markdown",
      "source": [
        "**Runtime Analizi**\n",
        " * 'Runtime' değeri en yüksek olan ilk 10 film hangileridir? Görselleştiriniz."
      ],
      "metadata": {
        "id": "Uy5GKztlUTsD"
      }
    },
    {
      "cell_type": "code",
      "source": [
        "df.Runtime.describe()"
      ],
      "metadata": {
        "colab": {
          "base_uri": "https://localhost:8080/"
        },
        "id": "wTGroyd-VF21",
        "outputId": "1f482c54-6384-4d2c-ec62-cf5751ea4c10"
      },
      "execution_count": 26,
      "outputs": [
        {
          "output_type": "execute_result",
          "data": {
            "text/plain": [
              "count    584.000000\n",
              "mean      93.577055\n",
              "std       27.761683\n",
              "min        4.000000\n",
              "25%       86.000000\n",
              "50%       97.000000\n",
              "75%      108.000000\n",
              "max      209.000000\n",
              "Name: Runtime, dtype: float64"
            ]
          },
          "metadata": {},
          "execution_count": 26
        }
      ]
    },
    {
      "cell_type": "markdown",
      "source": [
        "*Ortalama değerin ortanca değerden küçük olduğunu görürsünüz. Ortalama, medyandan küçükse, dağılım negatif çarpıktır ve bunun tersi de geçerlidir.*"
      ],
      "metadata": {
        "id": "RpH1kmQrVQCr"
      }
    },
    {
      "cell_type": "code",
      "source": [
        "fig = px.histogram(data_frame=df, x=\"Runtime\", title=\"Runtime of Programs\")\n",
        "\n",
        "fig.show()"
      ],
      "metadata": {
        "colab": {
          "base_uri": "https://localhost:8080/",
          "height": 542
        },
        "id": "HAWMKgsjVGlO",
        "outputId": "307df8f7-8492-4492-a0c8-f3b29221d4b5"
      },
      "execution_count": 27,
      "outputs": [
        {
          "output_type": "display_data",
          "data": {
            "text/html": [
              "<html>\n",
              "<head><meta charset=\"utf-8\" /></head>\n",
              "<body>\n",
              "    <div>            <script src=\"https://cdnjs.cloudflare.com/ajax/libs/mathjax/2.7.5/MathJax.js?config=TeX-AMS-MML_SVG\"></script><script type=\"text/javascript\">if (window.MathJax) {MathJax.Hub.Config({SVG: {font: \"STIX-Web\"}});}</script>                <script type=\"text/javascript\">window.PlotlyConfig = {MathJaxConfig: 'local'};</script>\n",
              "        <script src=\"https://cdn.plot.ly/plotly-2.8.3.min.js\"></script>                <div id=\"1b83e923-6fe7-40be-8221-4ee4eb8ac118\" class=\"plotly-graph-div\" style=\"height:525px; width:100%;\"></div>            <script type=\"text/javascript\">                                    window.PLOTLYENV=window.PLOTLYENV || {};                                    if (document.getElementById(\"1b83e923-6fe7-40be-8221-4ee4eb8ac118\")) {                    Plotly.newPlot(                        \"1b83e923-6fe7-40be-8221-4ee4eb8ac118\",                        [{\"alignmentgroup\":\"True\",\"bingroup\":\"x\",\"hovertemplate\":\"Runtime=%{x}<br>count=%{y}<extra></extra>\",\"legendgroup\":\"\",\"marker\":{\"color\":\"#636efa\",\"pattern\":{\"shape\":\"\"}},\"name\":\"\",\"offsetgroup\":\"\",\"orientation\":\"v\",\"showlegend\":false,\"x\":[58,81,79,94,90,147,112,149,73,139,58,112,97,101,90,25,144,115,102,100,64,97,99,120,105,89,97,107,99,95,37,89,83,46,85,88,86,105,95,80,4,93,100,106,97,106,103,80,101,119,80,89,94,93,96,113,86,100,102,86,104,88,97,105,90,99,10,106,98,94,112,117,70,81,103,94,98,131,87,60,112,102,99,116,92,83,97,112,116,102,121,95,93,92,98,85,78,120,92,101,119,101,112,96,114,97,101,56,100,94,94,21,104,63,100,126,106,86,142,108,102,92,83,94,92,103,89,95,103,97,125,91,90,49,98,107,118,94,103,86,83,97,99,104,102,89,98,125,89,94,94,85,34,86,91,108,95,100,90,112,86,124,107,92,121,90,104,92,114,98,95,78,107,92,95,96,118,105,94,52,105,95,100,97,89,102,96,131,89,93,111,75,120,96,148,94,107,32,104,23,111,83,53,95,132,98,108,106,104,90,106,90,97,113,123,115,105,101,102,122,128,82,102,80,94,123,104,85,84,103,95,100,89,116,118,96,114,99,87,92,90,95,96,93,42,92,106,151,101,114,90,115,92,72,139,98,92,111,98,104,95,88,102,30,99,129,87,117,104,111,107,97,98,90,101,72,83,118,44,113,86,108,85,102,151,98,87,120,134,109,85,103,94,97,88,37,112,102,100,96,113,16,119,97,81,98,95,96,107,41,87,101,97,103,90,125,116,99,82,97,28,108,93,74,60,9,21,100,155,55,123,103,93,119,40,120,98,104,91,95,101,105,83,91,83,17,86,124,94,102,118,79,134,126,98,89,58,83,136,98,114,99,130,32,104,142,92,86,106,95,91,89,117,90,117,80,87,101,19,106,54,111,132,97,106,111,124,116,112,144,76,101,92,19,39,102,89,105,101,70,96,85,39,79,73,114,121,28,95,122,23,107,98,108,92,100,97,7,96,100,132,103,121,114,57,95,83,17,105,131,30,112,86,100,14,109,28,64,94,31,99,108,48,84,70,27,45,117,104,108,121,36,30,47,110,92,80,49,73,40,96,106,97,94,78,81,87,91,91,95,126,31,58,41,138,112,114,125,99,82,98,136,97,107,92,39,133,89,124,99,101,97,124,129,121,140,13,108,11,118,121,24,100,101,105,96,47,121,100,149,64,64,114,15,79,90,132,105,97,83,110,39,40,85,26,87,97,118,23,40,98,80,108,79,74,90,137,71,98,70,99,40,104,149,124,144,85,100,94,125,84,117,15,136,76,108,94,90,72,135,12,209,130,82,120,136,112,105,89,85,106,100,107,97,89,109,114,51,85,125,91,153,89,83],\"xaxis\":\"x\",\"yaxis\":\"y\",\"type\":\"histogram\"}],                        {\"template\":{\"data\":{\"bar\":[{\"error_x\":{\"color\":\"#2a3f5f\"},\"error_y\":{\"color\":\"#2a3f5f\"},\"marker\":{\"line\":{\"color\":\"#E5ECF6\",\"width\":0.5},\"pattern\":{\"fillmode\":\"overlay\",\"size\":10,\"solidity\":0.2}},\"type\":\"bar\"}],\"barpolar\":[{\"marker\":{\"line\":{\"color\":\"#E5ECF6\",\"width\":0.5},\"pattern\":{\"fillmode\":\"overlay\",\"size\":10,\"solidity\":0.2}},\"type\":\"barpolar\"}],\"carpet\":[{\"aaxis\":{\"endlinecolor\":\"#2a3f5f\",\"gridcolor\":\"white\",\"linecolor\":\"white\",\"minorgridcolor\":\"white\",\"startlinecolor\":\"#2a3f5f\"},\"baxis\":{\"endlinecolor\":\"#2a3f5f\",\"gridcolor\":\"white\",\"linecolor\":\"white\",\"minorgridcolor\":\"white\",\"startlinecolor\":\"#2a3f5f\"},\"type\":\"carpet\"}],\"choropleth\":[{\"colorbar\":{\"outlinewidth\":0,\"ticks\":\"\"},\"type\":\"choropleth\"}],\"contour\":[{\"colorbar\":{\"outlinewidth\":0,\"ticks\":\"\"},\"colorscale\":[[0.0,\"#0d0887\"],[0.1111111111111111,\"#46039f\"],[0.2222222222222222,\"#7201a8\"],[0.3333333333333333,\"#9c179e\"],[0.4444444444444444,\"#bd3786\"],[0.5555555555555556,\"#d8576b\"],[0.6666666666666666,\"#ed7953\"],[0.7777777777777778,\"#fb9f3a\"],[0.8888888888888888,\"#fdca26\"],[1.0,\"#f0f921\"]],\"type\":\"contour\"}],\"contourcarpet\":[{\"colorbar\":{\"outlinewidth\":0,\"ticks\":\"\"},\"type\":\"contourcarpet\"}],\"heatmap\":[{\"colorbar\":{\"outlinewidth\":0,\"ticks\":\"\"},\"colorscale\":[[0.0,\"#0d0887\"],[0.1111111111111111,\"#46039f\"],[0.2222222222222222,\"#7201a8\"],[0.3333333333333333,\"#9c179e\"],[0.4444444444444444,\"#bd3786\"],[0.5555555555555556,\"#d8576b\"],[0.6666666666666666,\"#ed7953\"],[0.7777777777777778,\"#fb9f3a\"],[0.8888888888888888,\"#fdca26\"],[1.0,\"#f0f921\"]],\"type\":\"heatmap\"}],\"heatmapgl\":[{\"colorbar\":{\"outlinewidth\":0,\"ticks\":\"\"},\"colorscale\":[[0.0,\"#0d0887\"],[0.1111111111111111,\"#46039f\"],[0.2222222222222222,\"#7201a8\"],[0.3333333333333333,\"#9c179e\"],[0.4444444444444444,\"#bd3786\"],[0.5555555555555556,\"#d8576b\"],[0.6666666666666666,\"#ed7953\"],[0.7777777777777778,\"#fb9f3a\"],[0.8888888888888888,\"#fdca26\"],[1.0,\"#f0f921\"]],\"type\":\"heatmapgl\"}],\"histogram\":[{\"marker\":{\"pattern\":{\"fillmode\":\"overlay\",\"size\":10,\"solidity\":0.2}},\"type\":\"histogram\"}],\"histogram2d\":[{\"colorbar\":{\"outlinewidth\":0,\"ticks\":\"\"},\"colorscale\":[[0.0,\"#0d0887\"],[0.1111111111111111,\"#46039f\"],[0.2222222222222222,\"#7201a8\"],[0.3333333333333333,\"#9c179e\"],[0.4444444444444444,\"#bd3786\"],[0.5555555555555556,\"#d8576b\"],[0.6666666666666666,\"#ed7953\"],[0.7777777777777778,\"#fb9f3a\"],[0.8888888888888888,\"#fdca26\"],[1.0,\"#f0f921\"]],\"type\":\"histogram2d\"}],\"histogram2dcontour\":[{\"colorbar\":{\"outlinewidth\":0,\"ticks\":\"\"},\"colorscale\":[[0.0,\"#0d0887\"],[0.1111111111111111,\"#46039f\"],[0.2222222222222222,\"#7201a8\"],[0.3333333333333333,\"#9c179e\"],[0.4444444444444444,\"#bd3786\"],[0.5555555555555556,\"#d8576b\"],[0.6666666666666666,\"#ed7953\"],[0.7777777777777778,\"#fb9f3a\"],[0.8888888888888888,\"#fdca26\"],[1.0,\"#f0f921\"]],\"type\":\"histogram2dcontour\"}],\"mesh3d\":[{\"colorbar\":{\"outlinewidth\":0,\"ticks\":\"\"},\"type\":\"mesh3d\"}],\"parcoords\":[{\"line\":{\"colorbar\":{\"outlinewidth\":0,\"ticks\":\"\"}},\"type\":\"parcoords\"}],\"pie\":[{\"automargin\":true,\"type\":\"pie\"}],\"scatter\":[{\"marker\":{\"colorbar\":{\"outlinewidth\":0,\"ticks\":\"\"}},\"type\":\"scatter\"}],\"scatter3d\":[{\"line\":{\"colorbar\":{\"outlinewidth\":0,\"ticks\":\"\"}},\"marker\":{\"colorbar\":{\"outlinewidth\":0,\"ticks\":\"\"}},\"type\":\"scatter3d\"}],\"scattercarpet\":[{\"marker\":{\"colorbar\":{\"outlinewidth\":0,\"ticks\":\"\"}},\"type\":\"scattercarpet\"}],\"scattergeo\":[{\"marker\":{\"colorbar\":{\"outlinewidth\":0,\"ticks\":\"\"}},\"type\":\"scattergeo\"}],\"scattergl\":[{\"marker\":{\"colorbar\":{\"outlinewidth\":0,\"ticks\":\"\"}},\"type\":\"scattergl\"}],\"scattermapbox\":[{\"marker\":{\"colorbar\":{\"outlinewidth\":0,\"ticks\":\"\"}},\"type\":\"scattermapbox\"}],\"scatterpolar\":[{\"marker\":{\"colorbar\":{\"outlinewidth\":0,\"ticks\":\"\"}},\"type\":\"scatterpolar\"}],\"scatterpolargl\":[{\"marker\":{\"colorbar\":{\"outlinewidth\":0,\"ticks\":\"\"}},\"type\":\"scatterpolargl\"}],\"scatterternary\":[{\"marker\":{\"colorbar\":{\"outlinewidth\":0,\"ticks\":\"\"}},\"type\":\"scatterternary\"}],\"surface\":[{\"colorbar\":{\"outlinewidth\":0,\"ticks\":\"\"},\"colorscale\":[[0.0,\"#0d0887\"],[0.1111111111111111,\"#46039f\"],[0.2222222222222222,\"#7201a8\"],[0.3333333333333333,\"#9c179e\"],[0.4444444444444444,\"#bd3786\"],[0.5555555555555556,\"#d8576b\"],[0.6666666666666666,\"#ed7953\"],[0.7777777777777778,\"#fb9f3a\"],[0.8888888888888888,\"#fdca26\"],[1.0,\"#f0f921\"]],\"type\":\"surface\"}],\"table\":[{\"cells\":{\"fill\":{\"color\":\"#EBF0F8\"},\"line\":{\"color\":\"white\"}},\"header\":{\"fill\":{\"color\":\"#C8D4E3\"},\"line\":{\"color\":\"white\"}},\"type\":\"table\"}]},\"layout\":{\"annotationdefaults\":{\"arrowcolor\":\"#2a3f5f\",\"arrowhead\":0,\"arrowwidth\":1},\"autotypenumbers\":\"strict\",\"coloraxis\":{\"colorbar\":{\"outlinewidth\":0,\"ticks\":\"\"}},\"colorscale\":{\"diverging\":[[0,\"#8e0152\"],[0.1,\"#c51b7d\"],[0.2,\"#de77ae\"],[0.3,\"#f1b6da\"],[0.4,\"#fde0ef\"],[0.5,\"#f7f7f7\"],[0.6,\"#e6f5d0\"],[0.7,\"#b8e186\"],[0.8,\"#7fbc41\"],[0.9,\"#4d9221\"],[1,\"#276419\"]],\"sequential\":[[0.0,\"#0d0887\"],[0.1111111111111111,\"#46039f\"],[0.2222222222222222,\"#7201a8\"],[0.3333333333333333,\"#9c179e\"],[0.4444444444444444,\"#bd3786\"],[0.5555555555555556,\"#d8576b\"],[0.6666666666666666,\"#ed7953\"],[0.7777777777777778,\"#fb9f3a\"],[0.8888888888888888,\"#fdca26\"],[1.0,\"#f0f921\"]],\"sequentialminus\":[[0.0,\"#0d0887\"],[0.1111111111111111,\"#46039f\"],[0.2222222222222222,\"#7201a8\"],[0.3333333333333333,\"#9c179e\"],[0.4444444444444444,\"#bd3786\"],[0.5555555555555556,\"#d8576b\"],[0.6666666666666666,\"#ed7953\"],[0.7777777777777778,\"#fb9f3a\"],[0.8888888888888888,\"#fdca26\"],[1.0,\"#f0f921\"]]},\"colorway\":[\"#636efa\",\"#EF553B\",\"#00cc96\",\"#ab63fa\",\"#FFA15A\",\"#19d3f3\",\"#FF6692\",\"#B6E880\",\"#FF97FF\",\"#FECB52\"],\"font\":{\"color\":\"#2a3f5f\"},\"geo\":{\"bgcolor\":\"white\",\"lakecolor\":\"white\",\"landcolor\":\"#E5ECF6\",\"showlakes\":true,\"showland\":true,\"subunitcolor\":\"white\"},\"hoverlabel\":{\"align\":\"left\"},\"hovermode\":\"closest\",\"mapbox\":{\"style\":\"light\"},\"paper_bgcolor\":\"white\",\"plot_bgcolor\":\"#E5ECF6\",\"polar\":{\"angularaxis\":{\"gridcolor\":\"white\",\"linecolor\":\"white\",\"ticks\":\"\"},\"bgcolor\":\"#E5ECF6\",\"radialaxis\":{\"gridcolor\":\"white\",\"linecolor\":\"white\",\"ticks\":\"\"}},\"scene\":{\"xaxis\":{\"backgroundcolor\":\"#E5ECF6\",\"gridcolor\":\"white\",\"gridwidth\":2,\"linecolor\":\"white\",\"showbackground\":true,\"ticks\":\"\",\"zerolinecolor\":\"white\"},\"yaxis\":{\"backgroundcolor\":\"#E5ECF6\",\"gridcolor\":\"white\",\"gridwidth\":2,\"linecolor\":\"white\",\"showbackground\":true,\"ticks\":\"\",\"zerolinecolor\":\"white\"},\"zaxis\":{\"backgroundcolor\":\"#E5ECF6\",\"gridcolor\":\"white\",\"gridwidth\":2,\"linecolor\":\"white\",\"showbackground\":true,\"ticks\":\"\",\"zerolinecolor\":\"white\"}},\"shapedefaults\":{\"line\":{\"color\":\"#2a3f5f\"}},\"ternary\":{\"aaxis\":{\"gridcolor\":\"white\",\"linecolor\":\"white\",\"ticks\":\"\"},\"baxis\":{\"gridcolor\":\"white\",\"linecolor\":\"white\",\"ticks\":\"\"},\"bgcolor\":\"#E5ECF6\",\"caxis\":{\"gridcolor\":\"white\",\"linecolor\":\"white\",\"ticks\":\"\"}},\"title\":{\"x\":0.05},\"xaxis\":{\"automargin\":true,\"gridcolor\":\"white\",\"linecolor\":\"white\",\"ticks\":\"\",\"title\":{\"standoff\":15},\"zerolinecolor\":\"white\",\"zerolinewidth\":2},\"yaxis\":{\"automargin\":true,\"gridcolor\":\"white\",\"linecolor\":\"white\",\"ticks\":\"\",\"title\":{\"standoff\":15},\"zerolinecolor\":\"white\",\"zerolinewidth\":2}}},\"xaxis\":{\"anchor\":\"y\",\"domain\":[0.0,1.0],\"title\":{\"text\":\"Runtime\"}},\"yaxis\":{\"anchor\":\"x\",\"domain\":[0.0,1.0],\"title\":{\"text\":\"count\"}},\"legend\":{\"tracegroupgap\":0},\"title\":{\"text\":\"Runtime of Programs\"},\"barmode\":\"relative\"},                        {\"responsive\": true}                    ).then(function(){\n",
              "                            \n",
              "var gd = document.getElementById('1b83e923-6fe7-40be-8221-4ee4eb8ac118');\n",
              "var x = new MutationObserver(function (mutations, observer) {{\n",
              "        var display = window.getComputedStyle(gd).display;\n",
              "        if (!display || display === 'none') {{\n",
              "            console.log([gd, 'removed!']);\n",
              "            Plotly.purge(gd);\n",
              "            observer.disconnect();\n",
              "        }}\n",
              "}});\n",
              "\n",
              "// Listen for the removal of the full notebook cells\n",
              "var notebookContainer = gd.closest('#notebook-container');\n",
              "if (notebookContainer) {{\n",
              "    x.observe(notebookContainer, {childList: true});\n",
              "}}\n",
              "\n",
              "// Listen for the clearing of the current output cell\n",
              "var outputEl = gd.closest('.output');\n",
              "if (outputEl) {{\n",
              "    x.observe(outputEl, {childList: true});\n",
              "}}\n",
              "\n",
              "                        })                };                            </script>        </div>\n",
              "</body>\n",
              "</html>"
            ]
          },
          "metadata": {}
        }
      ]
    },
    {
      "cell_type": "markdown",
      "source": [
        "*Yukarıdaki histogramla, Runtime dağılımının (negatif olarak) çarpık bırakıldığını doğruladık.*"
      ],
      "metadata": {
        "id": "YTnYEIEQVfqb"
      }
    },
    {
      "cell_type": "code",
      "source": [
        "fig = px.box(data_frame=df, x=\"Runtime\", hover_data=df[[\"Title\", \"Genre\"]])\n",
        "fig.update_traces(overwrite=True)\n",
        "\n",
        "fig.show()"
      ],
      "metadata": {
        "colab": {
          "base_uri": "https://localhost:8080/",
          "height": 542
        },
        "id": "sifmF1Z3VGhG",
        "outputId": "7f1cfa2d-6de6-4dc5-a998-929807a71d7a"
      },
      "execution_count": 28,
      "outputs": [
        {
          "output_type": "display_data",
          "data": {
            "text/html": [
              "<html>\n",
              "<head><meta charset=\"utf-8\" /></head>\n",
              "<body>\n",
              "    <div>            <script src=\"https://cdnjs.cloudflare.com/ajax/libs/mathjax/2.7.5/MathJax.js?config=TeX-AMS-MML_SVG\"></script><script type=\"text/javascript\">if (window.MathJax) {MathJax.Hub.Config({SVG: {font: \"STIX-Web\"}});}</script>                <script type=\"text/javascript\">window.PlotlyConfig = {MathJaxConfig: 'local'};</script>\n",
              "        <script src=\"https://cdn.plot.ly/plotly-2.8.3.min.js\"></script>                <div id=\"99437681-cd43-42e6-957f-ca16a08997a3\" class=\"plotly-graph-div\" style=\"height:525px; width:100%;\"></div>            <script type=\"text/javascript\">                                    window.PLOTLYENV=window.PLOTLYENV || {};                                    if (document.getElementById(\"99437681-cd43-42e6-957f-ca16a08997a3\")) {                    Plotly.newPlot(                        \"99437681-cd43-42e6-957f-ca16a08997a3\",                        [{\"alignmentgroup\":\"True\",\"customdata\":[[\"Enter the Anime\",\"Documentary\"],[\"Dark Forces\",\"Thriller\"],[\"The App\",\"Science fiction/Drama\"],[\"The Open House\",\"Horror thriller\"],[\"Kaali Khuhi\",\"Mystery\"],[\"Drive\",\"Action\"],[\"Leyla Everlasting\",\"Comedy\"],[\"The Last Days of American Crime\",\"Heist film/Thriller\"],[\"Paradox\",\"Musical/Western/Fantasy\"],[\"Sardar Ka Grandson\",\"Comedy\"],[\"Searching for Sheela\",\"Documentary\"],[\"The Call\",\"Drama\"],[\"Whipped\",\"Romantic comedy\"],[\"All Because of You\",\"Action comedy\"],[\"Mercy\",\"Thriller\"],[\"After the Raid\",\"Documentary\"],[\"Ghost Stories\",\"Horror anthology\"],[\"The Last Thing He Wanted\",\"Political thriller\"],[\"What Happened to Mr. Cha?\",\"Comedy\"],[\"Death Note\",\"Horror thriller\"],[\"Hello Privilege. It's Me, Chelsea\",\"Documentary\"],[\"Secret Obsession\",\"Thriller\"],[\"Sextuplets\",\"Comedy\"],[\"The Girl on the Train\",\"Thriller\"],[\"Thunder Force\",\"Superhero-Comedy\"],[\"Fatal Affair\",\"Thriller\"],[\"Just Say Yes\",\"Romantic comedy\"],[\"Seriously Single\",\"Comedy\"],[\"The Misadventures of Hedi and Cokeman\",\"Comedy\"],[\"5 Star Christmas\",\"Comedy\"],[\"After Maria\",\"Documentary\"],[\"I Am the Pretty Thing That Lives in the House\",\"Horror\"],[\"Paris Is Us\",\"Romance drama\"],[\"Porta dos Fundos: The First Temptation of Christ\",\"Comedy\"],[\"Rattlesnake\",\"Horror\"],[\"The Players\",\"Comedy\"],[\"We Are One\",\"Documentary\"],[\"Finding Agnes\",\"Drama\"],[\"IO\",\"Science fiction/Drama\"],[\"Sentinelle\",\"Action\"],[\"Sol Levante\",\"Anime / Short\"],[\"The Binding\",\"Drama\"],[\"We Can Be Heroes\",\"Superhero\"],[\"Christmas Crossfire\",\"Thriller\"],[\"Coin Heist\",\"Heist\"],[\"Mrs. Serial Killer\",\"Thriller\"],[\"Nobody Sleeps in the Woods Tonight\",\"Horror\"],[\"Take the 10\",\"Comedy\"],[\"The Main Event\",\"Comedy\"],[\"The Ridiculous 6\",\"Western\"],[\"Earth and Blood\",\"Action\"],[\"Fearless\",\"Animation/Superhero\"],[\"Holiday Rush\",\"Family film\"],[\"The Day of the Lord\",\"Drama\"],[\"Airplane Mode\",\"Comedy\"],[\"How It Ends\",\"Action-thriller\"],[\"Love Like the Falling Rain\",\"Drama\"],[\"Rebirth\",\"Thriller\"],[\"Squared Love\",\"Romantic comedy\"],[\"Cadaver\",\"Horror\"],[\"Clinical\",\"Thriller\"],[\"Coffee & Kareem\",\"Action comedy\"],[\"Dude\",\"Teen comedy-drama\"],[\"Geez & Ann\",\"Romantic drama\"],[\"The Larva Island Movie\",\"Animation\"],[\"#REALITYHIGH\",\"Comedy\"],[\"American Factory: A Conversation with the Obamas \",\"Aftershow / Interview\"],[\"Desperados\",\"Romantic comedy\"],[\"Dolly Parton's Christmas on the Square\",\"Christmas musical\"],[\"Father of the Year\",\"Comedy\"],[\"Firebrand\",\"Drama\"],[\"Ghost Lab\",\"Horror\"],[\"Girlfriend's Day\",\"Comedy\"],[\"Handsome: A Netflix Mystery Movie\",\"Comedy\"],[\"Hubie Halloween\",\"Comedy\"],[\"Ibiza\",\"Comedy\"],[\"Rim of the World\",\"Science fiction adventure\"],[\"Sandy Wexler\",\"Comedy\"],[\"See You Yesterday\",\"Science fiction\"],[\"Still Laugh-In: The Stars Celebrate\",\"Variety show\"],[\"Strip Down, Rise Up\",\"Documentary\"],[\"Tall Girl\",\"Comedy-drama\"],[\"The Beast\",\"Drama\"],[\"The Week Of\",\"Comedy\"],[\"A Christmas Prince: The Royal Wedding\",\"Romantic comedy\"],[\"Back to School\",\"Comedy\"],[\"Dangerous Lies\",\"Thriller\"],[\"Gunjan Saxena: The Kargil Girl\",\"Drama\"],[\"Intuition\",\"Thriller\"],[\"The Most Assassinated Woman in the World\",\"Thriller\"],[\"Things Heard & Seen\",\"Horror\"],[\"To Each, Her Own\",\"Romantic comedy\"],[\"Who Would You Take to a Deserted Island?\",\"Drama\"],[\"XOXO\",\"Drama\"],[\"A Babysitter's Guide to Monster Hunting\",\"Comedy/Fantasy/Family\"],[\"A Christmas Prince: The Royal Baby\",\"Romantic comedy\"],[\"Despite Everything\",\"Comedy\"],[\"Dolly Kitty and Those Twinkling Stars\",\"Drama\"],[\"Freaks: You're One of Us\",\"Supernatural drama\"],[\"Game Over, Man!\",\"Action/Comedy\"],[\"Guilty\",\"Thriller\"],[\"In the Tall Grass\",\"Horror\"],[\"Madame Claude\",\"Drama\"],[\"Naked\",\"Comedy\"],[\"Outside the Wire\",\"Action/Science fiction\"],[\"The Princess Switch: Switched Again\",\"Romantic comedy\"],[\"Under the Riccione Sun\",\"Romantic teenage drama\"],[\"A Very Murray Christmas\",\"Comedy / Musical\"],[\"Been So Long\",\"Musical\"],[\"Dead Kids\",\"Thriller\"],[\"Get the Grift\",\"Comedy\"],[\"Ghosts of Sugar Land\",\"Documentary\"],[\"House Arrest\",\"Comedy\"],[\"Kevin Hart's Guide to Black History\",\"Variety show\"],[\"Love Wedding Repeat\",\"Romantic comedy\"],[\"Mute\",\"Science fiction/Mystery\"],[\"\\u00d2l\\u00f2t?r\\u00e9\",\"Crime drama\"],[\"Red Dot\",\"Thriller\"],[\"Ride or Die\",\"Psychological thriller drama\"],[\"Step Sisters\",\"Comedy\"],[\"The Cloverfield Paradox\",\"Science fiction\"],[\"The Knight Before Christmas\",\"Romantic comedy\"],[\"The Legacy of a Whitetail Deer Hunter\",\"Adventure/Comedy\"],[\"The Package\",\"Black comedy\"],[\"Unicorn Store\",\"Comedy\"],[\"Wine Country\",\"Comedy\"],[\"Bomb Scared\",\"Black comedy\"],[\"Brahman Naman\",\"Comedy\"],[\"Double Dad\",\"Comedy-drama\"],[\"Falling Inn Love\",\"Romantic comedy\"],[\"Hold the Dark\",\"Thriller\"],[\"Love, Guaranteed\",\"Romantic comedy\"],[\"One-Way to Tomorrow\",\"Romance\"],[\"Sarah Cooper: Everything's Fine\",\"Variety show\"],[\"The Last Laugh\",\"Comedy-drama\"],[\"The Last Paradiso\",\"Romantic drama\"],[\"The Midnight Sky\",\"Science fiction\"],[\"The Paramedic\",\"Thriller\"],[\"The Sleepover\",\"Comedy\"],[\"Vampires vs. the Bronx\",\"Horror comedy\"],[\"Why Did You Kill Me?\",\"Documentary\"],[\"A Week Away\",\"Christian musical\"],[\"Caught by a Wave\",\"Romantic teen drama\"],[\"Christmas Inheritance\",\"Romantic drama\"],[\"Dad Wanted\",\"Family\"],[\"El Camino Christmas\",\"Dark comedy\"],[\"Eli\",\"Horror\"],[\"Ginny Weds Sunny\",\"Romantic comedy\"],[\"Good Sam\",\"Drama\"],[\"Lionheart\",\"Comedy\"],[\"Little Evil\",\"Comedy horror\"],[\"One Take\",\"Documentary\"],[\"Out of Many, One\",\"Documentary\"],[\"Point Blank\",\"Action\"],[\"Prime Time\",\"Thriller\"],[\"The Do-Over\",\"Action comedy\"],[\"The Holiday Calendar\",\"Romantic comedy\"],[\"The Woman in the Window\",\"Psychological thriller\"],[\"The Wrong Missy\",\"Comedy\"],[\"Velvet Buzzsaw\",\"Thriller\"],[\"Yes Day\",\"Comedy\"],[\"15 August\",\"Comedy-drama\"],[\"A California Christmas\",\"Romantic comedy\"],[\"A Christmas Prince\",\"Romantic comedy\"],[\"All Day and a Night\",\"Drama\"],[\"American Son\",\"Drama\"],[\"Barry\",\"Biopic\"],[\"Candy Jar\",\"Comedy\"],[\"Choked: Paisa Bolta Hai\",\"Drama\"],[\"Class of '83\",\"Drama\"],[\"Extinction\",\"Science fiction/Thriller\"],[\"Happy Anniversary\",\"Romantic comedy\"],[\"I Am All Girls\",\"Thriller\"],[\"Let It Snow\",\"Romantic comedy\"],[\"Mascots\",\"Mockumentary\"],[\"Operation Christmas Drop\",\"Romantic comedy\"],[\"Rajma Chawal\",\"Comedy-drama\"],[\"Rich in Love\",\"Romantic comedy\"],[\"Rising High\",\"Satire\"],[\"Rodney King\",\"One-man show\"],[\"Sierra Burgess Is a Loser\",\"Romantic comedy-drama\"],[\"Small Crimes\",\"Dark comedy\"],[\"Special Correspondents\",\"Satire\"],[\"TAU\",\"Science fiction/Thriller\"],[\"The After Party\",\"Comedy\"],[\"The Babysitter: Killer Queen\",\"Comedy/Horror\"],[\"The Claus Family\",\"Fantasy\"],[\"The Kissing Booth 2\",\"Romantic comedy\"],[\"The Perfect Date\",\"Romantic comedy\"],[\"What We Wanted\",\"Drama\"],[\"You've Got This\",\"Romantic comedy\"],[\"6 Balloons\",\"Drama\"],[\"A Fall from Grace\",\"Thriller\"],[\"Amateur\",\"Sports-drama\"],[\"Army of the Dead\",\"Zombie/Heist\"],[\"Cam\",\"Psychological horror\"],[\"Earthquake Bird\",\"Mystery\"],[\"Frankenstein's Monster's Monster, Frankenstein\",\"Mockumentary\"],[\"Horse Girl\",\"Drama\"],[\"Notes from Dunblane: Lesson from a School Shooting\",\"Documentary\"],[\"Maska\",\"Romantic comedy\"],[\"The Decline\",\"Thriller\"],[\"The Minimalists: Less Is Now\",\"Documentary\"],[\"The Polka King\",\"Comedy-drama\"],[\"The Prom\",\"Musical\"],[\"True Memoirs of an International Assassin\",\"Action comedy\"],[\"Ultras\",\"Sports film\"],[\"Come Sunday\",\"Biopic\"],[\"Forgive Us Our Debts\",\"Drama\"],[\"iBoy\",\"Science fiction/Thriller\"],[\"Lovefucked\",\"Drama\"],[\"Juanita\",\"Drama\"],[\"Murder Mystery\",\"Comedy mystery\"],[\"Project Power\",\"Superhero\"],[\"Rebecca\",\"Romantic thriller\"],[\"The Christmas Chronicles: Part Two\",\"Christmas comedy\"],[\"The Kissing Booth\",\"Romantic comedy\"],[\"The Princess Switch\",\"Romantic comedy\"],[\"To All the Boys: P.S. I Still Love You\",\"Romantic comedy\"],[\"War Machine\",\"War-Comedy\"],[\"6 Underground\",\"Action\"],[\"Between Two Ferns: The Movie\",\"Comedy\"],[\"Burning Sands\",\"Drama\"],[\"Casting JonBenet\",\"Documentary\"],[\"Deidra & Laney Rob a Train\",\"Drama\"],[\"Finding 'Ohana\",\"Family\"],[\"Holidate\",\"Romantic comedy/Holiday\"],[\"Holiday in the Wild\",\"Adventure-romance\"],[\"Hot Girls Wanted\",\"Documentary\"],[\"Like Father\",\"Comedy\"],[\"Lost Girls\",\"Crime drama\"],[\"Otherhood\",\"Comedy\"],[\"Pee-wee's Big Holiday\",\"Adventure\"],[\"Rogue City\",\"Crime drama\"],[\"Sergio\",\"Biopic\"],[\"Stuck Apart\",\"Drama\"],[\"Tersanjung the Movie\",\"Drama\"],[\"The Killer\",\"Western\"],[\"The Lovebirds\",\"Romantic comedy\"],[\"The Most Hated Woman in America\",\"Biopic\"],[\"The Perfection\",\"Horror-thriller\"],[\"Tribhanga \\u0096 Tedhi Medhi Crazy\",\"Drama\"],[\"Unknown Origins\",\"Thriller\"],[\"Work It\",\"Dance comedy\"],[\"Alien Xmas\",\"Stop Motion\"],[\"Baggio: The Divine Ponytail\",\"Biopic\"],[\"Below Zero\",\"Drama\"],[\"Citation\",\"Drama\"],[\"Crazy Awesome Teachers\",\"Comedy-drama\"],[\"Have You Ever Seen Fireflies?\",\"Comedy\"],[\"High Flying Bird\",\"Sports-drama\"],[\"In the Shadow of the Moon\",\"Thriller\"],[\"Lost Bullet\",\"Thriller\"],[\"Octonauts & the Caves of Sac Actun\",\"Animation\"],[\"Offering to the Storm\",\"Thriller\"],[\"Roxanne Roxanne\",\"Biopic\"],[\"Someone Great\",\"Romantic comedy\"],[\"Spenser Confidential\",\"Action comedy\"],[\"The Land of Steady Habits\",\"Drama\"],[\"The Rachel Divide\",\"Documentary\"],[\"Voyuer \",\"Documentary\"],[\"Win It All\",\"Comedy\"],[\"1922\",\"Horror/Crime drama\"],[\"A Tale of Two Kitchens\",\"Documentary\"],[\"Alex Strangelove\",\"Romantic comedy\"],[\"Apostle\",\"Horror-thriller\"],[\"Benji\",\"Family film\"],[\"Bright\",\"Urban fantasy\"],[\"Cargo\",\"Drama/Horror\"],[\"Concrete Cowboy\",\"Drama\"],[\"Feel the Beat\",\"Family/Comedy-drama\"],[\"Get the Goat\",\"Comedy\"],[\"I Am Not an Easy Man\",\"Romantic comedy\"],[\"June & Kopi\",\"Drama\"],[\"Music Teacher\",\"Drama\"],[\"Nail Bomber: Manhunt\",\"Documentary\"],[\"Notes for My Son\",\"Drama\"],[\"Polar\",\"Action\"],[\"Porta dos Fundos: The Last Hangover\",\"Comedy\"],[\"Sand Castle\",\"War\"],[\"Shimmer Lake\",\"Crime thriller\"],[\"Spectral\",\"Science fiction/Action\"],[\"The Babysitter\",\"Teen comedy horror\"],[\"The Discovery\",\"Science fiction/Drama\"],[\"The Forest of Love\",\"Drama\"],[\"The Laundromat\",\"Comedy-drama\"],[\"The Legend of Cocaine Island\",\"Documentary\"],[\"The Outsider\",\"Crime drama\"],[\"Time to Hunt\",\"Thriller\"],[\"To All the Boys: Always and Forever\",\"Romantic comedy\"],[\"Travis Scott: Look Mom I Can Fly\",\"Documentary\"],[\"Uncorked\",\"Drama\"],[\"Anelka: Misunderstood\",\"Documentary\"],[\"Ariana Grande: Excuse Me, I Love You\",\"Concert Film\"],[\"ARQ\",\"Science fiction/Thriller\"],[\"Birders\",\"Documentary\"],[\"Como Ca\\u00eddo del Cielo\",\"Musical comedy\"],[\"First Match\",\"Sports-drama\"],[\"Fractured\",\"Thriller\"],[\"Irreplaceable You\",\"Drama\"],[\"Isi & Ossi\",\"Romantic comedy\"],[\"John Was Trying to Contact Aliens\",\"Documentary\"],[\"Layla Majnun\",\"Romantic drama\"],[\"Murder to Mercy: The Cyntoia Brown Story\",\"Documentary\"],[\"My Own Man\",\"Documentary\"],[\"Nappily Ever After\",\"Comedy-drama\"],[\"Over the Moon\",\"Animation/Musical/Adventure\"],[\"Street Flow\",\"Drama\"],[\"Strong Island\",\"Documentary\"],[\"Sturgill Simpson Presents: Sound & Fury\",\"Animation / Musicial\"],[\"Take Your Pills\",\"Documentary\"],[\"The Heartbreak Club\",\"Comedy-drama\"],[\"The Mars Generation\",\"Documentary\"],[\"The Occupant\",\"Thriller\"],[\"The Willoughbys\",\"Animation/Comedy/Adventure\"],[\"Triple Frontier\",\"Action-thriller\"],[\"Two Catalonias\",\"Documentary\"],[\"Walk. Ride. Rodeo.\",\"Drama\"],[\"Wheelman\",\"Action thriller\"],[\"When We First Met\",\"Romantic comedy\"],[\"A 3 Minute Hug\",\"Documentary\"],[\"All the Bright Places\",\"Romance\"],[\"All Together Now\",\"Drama\"],[\"Altered Carbon: Resleeved\",\"Anime/Science fiction\"],[\"Antoine Griezmann: The Making of a Legend\",\"Documentary\"],[\"Canvas \",\"Animation / Short\"],[\"Chadwick Boseman: Portrait of an Artist\",\"Documentary\"],[\"Chopsticks\",\"Comedy\"],[\"Da 5 Bloods\",\"War drama\"],[\"Dolly Parton: A MusiCares Tribute\",\"Documentary\"],[\"Eurovision Song Contest: The Story of Fire Saga\",\"Musical comedy\"],[\"Gerald's Game\",\"Horror thriller\"],[\"His House\",\"Thriller\"],[\"Jingle Jangle: A Christmas Journey\",\"Family/Christmas musical\"],[\"Life Overtakes Me\",\"Documentary\"],[\"Lust Stories\",\"Drama\"],[\"Monster\",\"Drama\"],[\"Mowgli: Legend of the Jungle\",\"Adventure\"],[\"Nobody Knows I'm Here\",\"Drama\"],[\"Nobody Speak: Trials of the Free Press\",\"Documentary\"],[\"Oxygen\",\"Science fiction thriller\"],[\"Set It Up\",\"Romantic comedy\"],[\"The Incredible Jessica James\",\"Comedy\"],[\"Tigertail\",\"Drama\"],[\"Tramps\",\"Romance\"],[\"What Did Jack Do?\",\"Drama / Short\"],[\"Bad Trip\",\"Hidden-camera prank comedy\"],[\"Bird Box\",\"Psychological thriller\"],[\"Bulbbul\",\"Horror\"],[\"Crazy About Her\",\"Romantic comedy\"],[\"Elisa & Marcela\",\"Romance\"],[\"I'll Sleep When I'm Dead\",\"Documentary\"],[\"I'm Thinking of Ending Things\",\"Psychological thriller\"],[\"It Takes a Lunatic\",\"Documentary\"],[\"Milestone\",\"Drama\"],[\"Recovery Boys\",\"Documentary\"],[\"ReMastered: Who Killed Jam Master Jay?\",\"Documentary\"],[\"Shawn Mendes: In Wonder\",\"Documentary\"],[\"Space Sweepers\",\"Science fiction\"],[\"The American Meme\",\"Documentary\"],[\"The Angel\",\"Spy thriller\"],[\"The Crimes That Bind\",\"Crime drama\"],[\"The Red Sea Diving Resort\",\"Spy thriller\"],[\"What Would Sophia Loren Do?\",\"Documentary\"],[\"A Whisker Away\",\"Anime/Fantasy\"],[\"Ajeeb Daastaans\",\"Drama\"],[\"Arlo the Alligator Boy\",\"Animated musical comedy\"],[\"Bikram: Yogi, Guru, Predator\",\"Documentary\"],[\"Blame!\",\"Anime/Science fiction\"],[\"Blue Miracle\",\"Drama\"],[\"CounterPunch \",\"Documentary\"],[\"Crack: Cocaine, Corruption & Conspiracy\",\"Documentary\"],[\"Extraction\",\"Action\"],[\"Giving Voice\",\"Documentary\"],[\"Hillbilly Elegy\",\"Drama\"],[\"Hope Frozen: A Quest to Live Twice\",\"Documentary\"],[\"Imperial Dreams\",\"Drama\"],[\"Just Another Christmas\",\"Comedy\"],[\"Little Miss Sumo\",\"Documentary\"],[\"Malcolm & Marie\",\"Romantic drama\"],[\"Michael Bolton's Big, Sexy, Valentine's Day Special\",\"Variety Show\"],[\"Moxie\",\"Drama\"],[\"Night in Paradise\",\"Drama\"],[\"Paper Lives\",\"Drama\"],[\"Parchis: The Documentary\",\"Documentary\"],[\"Tallulah\",\"Comedy-drama\"],[\"The Old Guard\",\"Superhero/Action\"],[\"Tony Robbins: I Am Not Your Guru\",\"Documentary\"],[\"Upstarts\",\"Drama\"],[\"22 July\",\"Drama\"],[\"7 a\\u00f1os\",\"Drama\"],[\"A Futile and Stupid Gesture\",\"Biographical/Comedy\"],[\"A Life of Speed: The Juan Manuel Fangio Story\",\"Documentary\"],[\"A Love Song for Latasha\",\"Documentary\"],[\"All in My Family\",\"Documentary\"],[\"Always Be My Maybe\",\"Romantic comedy\"],[\"Becoming\",\"Documentary\"],[\"Long Live Brij Mohan\",\"Comedy\"],[\"Calibre\",\"Thriller\"],[\"Death to 2020\",\"Comedy\"],[\"GIMS: On the Record\",\"Documentary\"],[\"Have a Good Trip: Adventures in Psychedelics\",\"Documentary\"],[\"Heroin(e) \",\"Documentary\"],[\"Mercury 13\",\"Documentary\"],[\"Saving Capitalism\",\"Documentary\"],[\"Serious Men\",\"Drama\"],[\"The Boys in the Band\",\"Drama\"],[\"The Boys in the Band: Something Personal\",\"Aftershow / Interview\"],[\"The Life Ahead\",\"Drama\"],[\"The Other Side of the Wind\",\"Drama\"],[\"The Trader\",\"Documentary\"],[\"To the Bone\",\"Drama\"],[\"Tony Parker: The Final Shot\",\"Documentary\"],[\"AK vs AK\",\"Thriller\"],[\"Amanda Knox\",\"Documentary\"],[\"Bigflo & Oil: Hip Hop Frenzy\",\"Documentary\"],[\"Biggie: I Got a Story to Tell\",\"Documentary\"],[\"Cops and Robbers\",\"Animation / Short\"],[\"I Don't Feel at Home in This World Anymore\",\"Drama\"],[\"Laerte-se\",\"Documentary\"],[\"Mank\",\"Biopic\"],[\"Our Souls at Night\",\"Romance\"],[\"Outlaw King\",\"Historical-epic\"],[\"Pagglait\",\"Comedy-drama\"],[\"ReMastered: Who Shot the Sheriff?\",\"Documentary\"],[\"Seeing Allred\",\"Documentary\"],[\"Spelling the Dream\",\"Documentary\"],[\"The Claudia Kishi Club\",\"Documentary\"],[\"The Half of It\",\"Romance\"],[\"The Highwaymen\",\"Crime drama\"],[\"The Lonely Island Presents: The Unauthorized Bash Brothers Experience\",\"Comedy / Musical\"],[\"The Meyerowitz Stories (New and Selected)\",\"Comedy-drama\"],[\"Feminists: What Were They Thinking?\",\"Documentary\"],[\"Gaga: Five Foot Two\",\"Documentary\"],[\"I'm No Longer Here: A Discussion with Guillermo del Toro and Alfonso Cuaron\",\"Aftershow / Interview\"],[\"Kingdom of Us\",\"Documentary\"],[\"Lorena, Light-Footed Woman\",\"Documentary\"],[\"Los Tigres del Norte at Folsom Prison\",\"Documentary\"],[\"Ma Rainey's Black Bottom\",\"Drama\"],[\"Ma Rainey's Black Bottom: A Legacy Brought to Screen\",\"Aftershow / Interview\"],[\"Operation Varsity Blues: The College Admissions Scandal\",\"Documentary\"],[\"Pele\",\"Documentary\"],[\"ReMastered: Devil at the Crossroads\",\"Documentary\"],[\"ReMastered: The Lion's Share\",\"Documentary\"],[\"ReMastered: The Miami Showband Massacre\",\"Documentary\"],[\"Resurface\",\"Documentary\"],[\"Rocko's Modern Life: Static Cling\",\"Animation / Comedy\"],[\"Rose Island\",\"Comedy\"],[\"The Christmas Chronicles\",\"Christmas/Fantasy/Adventure/Comedy\"],[\"The Dirt\",\"Biopic\"],[\"The Night Comes for Us\",\"Action-thriller\"],[\"13th: A Conversation with Oprah Winfrey & Ava DuVernay\",\"Aftershow / Interview\"],[\"Angela's Christmas\",\"Animation\"],[\"Angela's Christmas Wish\",\"Animation\"],[\"Beats\",\"Drama\"],[\"Circus of Books\",\"Documentary\"],[\"Dance Dreams: Hot Chocolate Nutcracker\",\"Documentary\"],[\"Derren Brown: Sacrifice\",\"Mentalism special\"],[\"El Pepe: A Supreme Life\",\"Documentary\"],[\"End Game\",\"Documentary\"],[\"Evelyn\",\"Documentary\"],[\"Ferry\",\"Crime drama\"],[\"Grass Is Greener\",\"Documentary\"],[\"Guillermo Vilas: Settling the Score\",\"Documentary\"],[\"Joshua: Teenager vs. Superpower\",\"Documentary\"],[\"Keith Richards: Under the Influence\",\"Documentary\"],[\"Knock Down the House\",\"Documentary\"],[\"Loudon Wainwright III: Surviving Twin\",\"One-man show\"],[\"My Beautiful Broken Brain\",\"Documentary\"],[\"One of Us\",\"Documentary\"],[\"Pieces of a Woman\",\"Drama\"],[\"Ram Dass, Going Home\",\"Documentary\"],[\"ReMastered: Tricky Dick & the Man in Black\",\"Documentary\"],[\"Rooting for Roona\",\"Documentary\"],[\"The Devil All the Time\",\"Psychological thriller\"],[\"The Dig\",\"Drama\"],[\"The Great Hack\",\"Documentary\"],[\"The White Tiger\",\"Drama\"],[\"To All the Boys I've Loved Before\",\"Romantic comedy\"],[\"American Murder: The Family Next Door\",\"Documentary\"],[\"Audrie & Daisy\",\"Documentary\"],[\"First They Killed My Father\",\"Drama\"],[\"Fyre: The Greatest Party That Never Happened\",\"Documentary\"],[\"Into the Inferno\",\"Documentary\"],[\"LA Originals\",\"Documentary\"],[\"Ladies First\",\"Documentary\"],[\"Love per Square Foot\",\"Romantic comedy\"],[\"Paddleton\",\"Drama-Comedy\"],[\"Private Life\",\"Drama\"],[\"Seventeen\",\"Coming-of-age comedy-drama\"],[\"Sometimes\",\"Drama\"],[\"Soni\",\"Crime drama\"],[\"The 40-Year-Old Version\",\"Comedy\"],[\"The Disciple\",\"Drama\"],[\"The Edge of Democracy\",\"Documentary\"],[\"The King\",\"Historical drama\"],[\"The Road to El Camino: A Breaking Bad Movie\",\"Making-of\"],[\"The Siege of Jadotville\",\"War\"],[\"Zion \",\"Documentary\"],[\"Dolemite Is My Name\",\"Biopic\"],[\"El Camino: A Breaking Bad Movie\",\"Crime drama\"],[\"Extremis\",\"Documentary\"],[\"Father Soldier Son\",\"Documentary\"],[\"Get Me Roger Stone\",\"Documentary\"],[\"I'm No Longer Here\",\"Drama\"],[\"Mucho Mucho Amor: The Legend of Walter Mercado \",\"Documentary\"],[\"Octonauts & the Great Barrier Reef\",\"Animation\"],[\"Okja\",\"Action-adventure\"],[\"On My Skin\",\"Crime drama\"],[\"Raat Akeli Hai\",\"Thriller\"],[\"ReMastered: Massacre at the Stadium\",\"Documentary\"],[\"ReMastered: The Two Killings of Sam Cooke\",\"Documentary\"],[\"Secrets of the Saqqara Tomb\",\"Documentary\"],[\"Sitara: Let Girls Dream\",\"Animation / Short\"],[\"Sky Ladder: The Art of Cai Guo-Qiang\",\"Documentary\"],[\"Team Foxcatcher\",\"Documentary\"],[\"The Ballad of Buster Scruggs\",\"Western\"],[\"The Death and Life of Marsha P. Johnson\",\"Documentary\"],[\"The Fundamentals of Caring\",\"Comedy-drama\"],[\"The Other One: The Long Strange Trip of Bob Weir\",\"Documentary\"],[\"American Factory\",\"Documentary\"],[\"Fire in Paradise\",\"Documentary\"],[\"Long Shot\",\"Documentary\"],[\"Miss Americana\",\"Documentary\"],[\"Period. End of Sentence.\",\"Documentary\"],[\"Shawn Mendes: Live in Concert\",\"Concert Film\"],[\"Shirkers\",\"Documentary\"],[\"The Black Godfather\",\"Documentary\"],[\"The Irishman: In Conversation\",\"Aftershow / Interview\"],[\"The Speed Cubers\",\"Documentary\"],[\"They'll Love Me When I'm Dead\",\"Documentary\"],[\"Tig\",\"Documentary\"],[\"Barbra: The Music, The Mem'ries, The Magic!\",\"Concert Film\"],[\"Blackpink: Light Up the Sky\",\"Documentary\"],[\"City of Joy\",\"Documentary\"],[\"Dick Johnson Is Dead\",\"Documentary\"],[\"Homecoming: A Film by Beyonce \",\"Documentary\"],[\"Invader Zim: Enter the Florpus\",\"Animation / Science Fiction\"],[\"Joan Didion: The Center Will Not Hold\",\"Documentary\"],[\"John Mulaney & the Sack Lunch Bunch\",\"Variety show\"],[\"Reversing Roe\",\"Documentary\"],[\"The White Helmets\",\"Documentary\"],[\"Athlete A\",\"Documentary\"],[\"Ludo\",\"Anthology/Dark comedy\"],[\"Quincy\",\"Documentary\"],[\"Rolling Thunder Revue: A bob Dylan Story by Martin Scorsere\",\"Documentary\"],[\"Tell Me Who I Am\",\"Documentary\"],[\"The Bleeding Edge\",\"Documentary\"],[\"The Social Dilemma\",\"Documentary\"],[\"The Two Popes\",\"Drama\"],[\"What Happened, Miss Simone?\",\"Documentary\"],[\"Yeh Ballet\",\"Drama\"],[\"Anima\",\"Musical / Short\"],[\"Beasts of No Nation\",\"War drama\"],[\"Brene Brown: The Call to Courage\",\"Documentary\"],[\"Crip Camp: A Disability Revolution\",\"Documentary\"],[\"Jim & Andy: The Great Beyond - Featuring a Very Special, Contractually Obligated Mention of Tony Cliffton \",\"Documentary\"],[\"Justin Timberlake + The Tennessee Kids\",\"Concert Film\"],[\"Road to Roma\",\"Making-of\"],[\"Roma\",\"Drama\"],[\"If Anything Happens I Love You\",\"Animation / Short\"],[\"The Irishman\",\"Crime drama\"],[\"The Trial of the Chicago 7\",\"Drama\"],[\"A Secret Love\",\"Documentary\"],[\"Icarus\",\"Documentary\"],[\"Marriage Story\",\"Drama\"],[\"The Ivory Game\",\"Documentary\"],[\"Struggle: The Life and Lost Art of Szukaiski\",\"Documentary\"],[\"Chasing Coral \",\"Documentary\"],[\"My Octopus Teacher\",\"Documentary\"],[\"Rising Phoenix\",\"Documentary\"],[\"13th\",\"Documentary\"],[\"Disclosure: Trans Lives on Screen\",\"Documentary\"],[\"Klaus\",\"Animation/Christmas/Comedy/Adventure\"],[\"Seaspiracy\",\"Documentary\"],[\"The Three Deaths of Marisela Escobedo\",\"Documentary\"],[\"Cuba and the Cameraman \",\"Documentary\"],[\"Dancing with the Birds\",\"Documentary\"],[\"Ben Platt: Live from Radio City Music Hall\",\"Concert Film\"],[\"Taylor Swift: Reputation Stadium Tour\",\"Concert Film\"],[\"Winter on Fire: Ukraine's Fight for Freedom\",\"Documentary\"],[\"Springsteen on Broadway\",\"One-man show\"],[\"Emicida: AmarElo - It's All For Yesterday\",\"Documentary\"],[\"David Attenborough: A Life on Our Planet\",\"Documentary\"]],\"hovertemplate\":\"Runtime=%{x}<br>Title=%{customdata[0]}<br>Genre=%{customdata[1]}<extra></extra>\",\"legendgroup\":\"\",\"marker\":{\"color\":\"#636efa\"},\"name\":\"\",\"notched\":false,\"offsetgroup\":\"\",\"orientation\":\"h\",\"showlegend\":false,\"x\":[58,81,79,94,90,147,112,149,73,139,58,112,97,101,90,25,144,115,102,100,64,97,99,120,105,89,97,107,99,95,37,89,83,46,85,88,86,105,95,80,4,93,100,106,97,106,103,80,101,119,80,89,94,93,96,113,86,100,102,86,104,88,97,105,90,99,10,106,98,94,112,117,70,81,103,94,98,131,87,60,112,102,99,116,92,83,97,112,116,102,121,95,93,92,98,85,78,120,92,101,119,101,112,96,114,97,101,56,100,94,94,21,104,63,100,126,106,86,142,108,102,92,83,94,92,103,89,95,103,97,125,91,90,49,98,107,118,94,103,86,83,97,99,104,102,89,98,125,89,94,94,85,34,86,91,108,95,100,90,112,86,124,107,92,121,90,104,92,114,98,95,78,107,92,95,96,118,105,94,52,105,95,100,97,89,102,96,131,89,93,111,75,120,96,148,94,107,32,104,23,111,83,53,95,132,98,108,106,104,90,106,90,97,113,123,115,105,101,102,122,128,82,102,80,94,123,104,85,84,103,95,100,89,116,118,96,114,99,87,92,90,95,96,93,42,92,106,151,101,114,90,115,92,72,139,98,92,111,98,104,95,88,102,30,99,129,87,117,104,111,107,97,98,90,101,72,83,118,44,113,86,108,85,102,151,98,87,120,134,109,85,103,94,97,88,37,112,102,100,96,113,16,119,97,81,98,95,96,107,41,87,101,97,103,90,125,116,99,82,97,28,108,93,74,60,9,21,100,155,55,123,103,93,119,40,120,98,104,91,95,101,105,83,91,83,17,86,124,94,102,118,79,134,126,98,89,58,83,136,98,114,99,130,32,104,142,92,86,106,95,91,89,117,90,117,80,87,101,19,106,54,111,132,97,106,111,124,116,112,144,76,101,92,19,39,102,89,105,101,70,96,85,39,79,73,114,121,28,95,122,23,107,98,108,92,100,97,7,96,100,132,103,121,114,57,95,83,17,105,131,30,112,86,100,14,109,28,64,94,31,99,108,48,84,70,27,45,117,104,108,121,36,30,47,110,92,80,49,73,40,96,106,97,94,78,81,87,91,91,95,126,31,58,41,138,112,114,125,99,82,98,136,97,107,92,39,133,89,124,99,101,97,124,129,121,140,13,108,11,118,121,24,100,101,105,96,47,121,100,149,64,64,114,15,79,90,132,105,97,83,110,39,40,85,26,87,97,118,23,40,98,80,108,79,74,90,137,71,98,70,99,40,104,149,124,144,85,100,94,125,84,117,15,136,76,108,94,90,72,135,12,209,130,82,120,136,112,105,89,85,106,100,107,97,89,109,114,51,85,125,91,153,89,83],\"x0\":\" \",\"xaxis\":\"x\",\"y0\":\" \",\"yaxis\":\"y\",\"type\":\"box\"}],                        {\"template\":{\"data\":{\"bar\":[{\"error_x\":{\"color\":\"#2a3f5f\"},\"error_y\":{\"color\":\"#2a3f5f\"},\"marker\":{\"line\":{\"color\":\"#E5ECF6\",\"width\":0.5},\"pattern\":{\"fillmode\":\"overlay\",\"size\":10,\"solidity\":0.2}},\"type\":\"bar\"}],\"barpolar\":[{\"marker\":{\"line\":{\"color\":\"#E5ECF6\",\"width\":0.5},\"pattern\":{\"fillmode\":\"overlay\",\"size\":10,\"solidity\":0.2}},\"type\":\"barpolar\"}],\"carpet\":[{\"aaxis\":{\"endlinecolor\":\"#2a3f5f\",\"gridcolor\":\"white\",\"linecolor\":\"white\",\"minorgridcolor\":\"white\",\"startlinecolor\":\"#2a3f5f\"},\"baxis\":{\"endlinecolor\":\"#2a3f5f\",\"gridcolor\":\"white\",\"linecolor\":\"white\",\"minorgridcolor\":\"white\",\"startlinecolor\":\"#2a3f5f\"},\"type\":\"carpet\"}],\"choropleth\":[{\"colorbar\":{\"outlinewidth\":0,\"ticks\":\"\"},\"type\":\"choropleth\"}],\"contour\":[{\"colorbar\":{\"outlinewidth\":0,\"ticks\":\"\"},\"colorscale\":[[0.0,\"#0d0887\"],[0.1111111111111111,\"#46039f\"],[0.2222222222222222,\"#7201a8\"],[0.3333333333333333,\"#9c179e\"],[0.4444444444444444,\"#bd3786\"],[0.5555555555555556,\"#d8576b\"],[0.6666666666666666,\"#ed7953\"],[0.7777777777777778,\"#fb9f3a\"],[0.8888888888888888,\"#fdca26\"],[1.0,\"#f0f921\"]],\"type\":\"contour\"}],\"contourcarpet\":[{\"colorbar\":{\"outlinewidth\":0,\"ticks\":\"\"},\"type\":\"contourcarpet\"}],\"heatmap\":[{\"colorbar\":{\"outlinewidth\":0,\"ticks\":\"\"},\"colorscale\":[[0.0,\"#0d0887\"],[0.1111111111111111,\"#46039f\"],[0.2222222222222222,\"#7201a8\"],[0.3333333333333333,\"#9c179e\"],[0.4444444444444444,\"#bd3786\"],[0.5555555555555556,\"#d8576b\"],[0.6666666666666666,\"#ed7953\"],[0.7777777777777778,\"#fb9f3a\"],[0.8888888888888888,\"#fdca26\"],[1.0,\"#f0f921\"]],\"type\":\"heatmap\"}],\"heatmapgl\":[{\"colorbar\":{\"outlinewidth\":0,\"ticks\":\"\"},\"colorscale\":[[0.0,\"#0d0887\"],[0.1111111111111111,\"#46039f\"],[0.2222222222222222,\"#7201a8\"],[0.3333333333333333,\"#9c179e\"],[0.4444444444444444,\"#bd3786\"],[0.5555555555555556,\"#d8576b\"],[0.6666666666666666,\"#ed7953\"],[0.7777777777777778,\"#fb9f3a\"],[0.8888888888888888,\"#fdca26\"],[1.0,\"#f0f921\"]],\"type\":\"heatmapgl\"}],\"histogram\":[{\"marker\":{\"pattern\":{\"fillmode\":\"overlay\",\"size\":10,\"solidity\":0.2}},\"type\":\"histogram\"}],\"histogram2d\":[{\"colorbar\":{\"outlinewidth\":0,\"ticks\":\"\"},\"colorscale\":[[0.0,\"#0d0887\"],[0.1111111111111111,\"#46039f\"],[0.2222222222222222,\"#7201a8\"],[0.3333333333333333,\"#9c179e\"],[0.4444444444444444,\"#bd3786\"],[0.5555555555555556,\"#d8576b\"],[0.6666666666666666,\"#ed7953\"],[0.7777777777777778,\"#fb9f3a\"],[0.8888888888888888,\"#fdca26\"],[1.0,\"#f0f921\"]],\"type\":\"histogram2d\"}],\"histogram2dcontour\":[{\"colorbar\":{\"outlinewidth\":0,\"ticks\":\"\"},\"colorscale\":[[0.0,\"#0d0887\"],[0.1111111111111111,\"#46039f\"],[0.2222222222222222,\"#7201a8\"],[0.3333333333333333,\"#9c179e\"],[0.4444444444444444,\"#bd3786\"],[0.5555555555555556,\"#d8576b\"],[0.6666666666666666,\"#ed7953\"],[0.7777777777777778,\"#fb9f3a\"],[0.8888888888888888,\"#fdca26\"],[1.0,\"#f0f921\"]],\"type\":\"histogram2dcontour\"}],\"mesh3d\":[{\"colorbar\":{\"outlinewidth\":0,\"ticks\":\"\"},\"type\":\"mesh3d\"}],\"parcoords\":[{\"line\":{\"colorbar\":{\"outlinewidth\":0,\"ticks\":\"\"}},\"type\":\"parcoords\"}],\"pie\":[{\"automargin\":true,\"type\":\"pie\"}],\"scatter\":[{\"marker\":{\"colorbar\":{\"outlinewidth\":0,\"ticks\":\"\"}},\"type\":\"scatter\"}],\"scatter3d\":[{\"line\":{\"colorbar\":{\"outlinewidth\":0,\"ticks\":\"\"}},\"marker\":{\"colorbar\":{\"outlinewidth\":0,\"ticks\":\"\"}},\"type\":\"scatter3d\"}],\"scattercarpet\":[{\"marker\":{\"colorbar\":{\"outlinewidth\":0,\"ticks\":\"\"}},\"type\":\"scattercarpet\"}],\"scattergeo\":[{\"marker\":{\"colorbar\":{\"outlinewidth\":0,\"ticks\":\"\"}},\"type\":\"scattergeo\"}],\"scattergl\":[{\"marker\":{\"colorbar\":{\"outlinewidth\":0,\"ticks\":\"\"}},\"type\":\"scattergl\"}],\"scattermapbox\":[{\"marker\":{\"colorbar\":{\"outlinewidth\":0,\"ticks\":\"\"}},\"type\":\"scattermapbox\"}],\"scatterpolar\":[{\"marker\":{\"colorbar\":{\"outlinewidth\":0,\"ticks\":\"\"}},\"type\":\"scatterpolar\"}],\"scatterpolargl\":[{\"marker\":{\"colorbar\":{\"outlinewidth\":0,\"ticks\":\"\"}},\"type\":\"scatterpolargl\"}],\"scatterternary\":[{\"marker\":{\"colorbar\":{\"outlinewidth\":0,\"ticks\":\"\"}},\"type\":\"scatterternary\"}],\"surface\":[{\"colorbar\":{\"outlinewidth\":0,\"ticks\":\"\"},\"colorscale\":[[0.0,\"#0d0887\"],[0.1111111111111111,\"#46039f\"],[0.2222222222222222,\"#7201a8\"],[0.3333333333333333,\"#9c179e\"],[0.4444444444444444,\"#bd3786\"],[0.5555555555555556,\"#d8576b\"],[0.6666666666666666,\"#ed7953\"],[0.7777777777777778,\"#fb9f3a\"],[0.8888888888888888,\"#fdca26\"],[1.0,\"#f0f921\"]],\"type\":\"surface\"}],\"table\":[{\"cells\":{\"fill\":{\"color\":\"#EBF0F8\"},\"line\":{\"color\":\"white\"}},\"header\":{\"fill\":{\"color\":\"#C8D4E3\"},\"line\":{\"color\":\"white\"}},\"type\":\"table\"}]},\"layout\":{\"annotationdefaults\":{\"arrowcolor\":\"#2a3f5f\",\"arrowhead\":0,\"arrowwidth\":1},\"autotypenumbers\":\"strict\",\"coloraxis\":{\"colorbar\":{\"outlinewidth\":0,\"ticks\":\"\"}},\"colorscale\":{\"diverging\":[[0,\"#8e0152\"],[0.1,\"#c51b7d\"],[0.2,\"#de77ae\"],[0.3,\"#f1b6da\"],[0.4,\"#fde0ef\"],[0.5,\"#f7f7f7\"],[0.6,\"#e6f5d0\"],[0.7,\"#b8e186\"],[0.8,\"#7fbc41\"],[0.9,\"#4d9221\"],[1,\"#276419\"]],\"sequential\":[[0.0,\"#0d0887\"],[0.1111111111111111,\"#46039f\"],[0.2222222222222222,\"#7201a8\"],[0.3333333333333333,\"#9c179e\"],[0.4444444444444444,\"#bd3786\"],[0.5555555555555556,\"#d8576b\"],[0.6666666666666666,\"#ed7953\"],[0.7777777777777778,\"#fb9f3a\"],[0.8888888888888888,\"#fdca26\"],[1.0,\"#f0f921\"]],\"sequentialminus\":[[0.0,\"#0d0887\"],[0.1111111111111111,\"#46039f\"],[0.2222222222222222,\"#7201a8\"],[0.3333333333333333,\"#9c179e\"],[0.4444444444444444,\"#bd3786\"],[0.5555555555555556,\"#d8576b\"],[0.6666666666666666,\"#ed7953\"],[0.7777777777777778,\"#fb9f3a\"],[0.8888888888888888,\"#fdca26\"],[1.0,\"#f0f921\"]]},\"colorway\":[\"#636efa\",\"#EF553B\",\"#00cc96\",\"#ab63fa\",\"#FFA15A\",\"#19d3f3\",\"#FF6692\",\"#B6E880\",\"#FF97FF\",\"#FECB52\"],\"font\":{\"color\":\"#2a3f5f\"},\"geo\":{\"bgcolor\":\"white\",\"lakecolor\":\"white\",\"landcolor\":\"#E5ECF6\",\"showlakes\":true,\"showland\":true,\"subunitcolor\":\"white\"},\"hoverlabel\":{\"align\":\"left\"},\"hovermode\":\"closest\",\"mapbox\":{\"style\":\"light\"},\"paper_bgcolor\":\"white\",\"plot_bgcolor\":\"#E5ECF6\",\"polar\":{\"angularaxis\":{\"gridcolor\":\"white\",\"linecolor\":\"white\",\"ticks\":\"\"},\"bgcolor\":\"#E5ECF6\",\"radialaxis\":{\"gridcolor\":\"white\",\"linecolor\":\"white\",\"ticks\":\"\"}},\"scene\":{\"xaxis\":{\"backgroundcolor\":\"#E5ECF6\",\"gridcolor\":\"white\",\"gridwidth\":2,\"linecolor\":\"white\",\"showbackground\":true,\"ticks\":\"\",\"zerolinecolor\":\"white\"},\"yaxis\":{\"backgroundcolor\":\"#E5ECF6\",\"gridcolor\":\"white\",\"gridwidth\":2,\"linecolor\":\"white\",\"showbackground\":true,\"ticks\":\"\",\"zerolinecolor\":\"white\"},\"zaxis\":{\"backgroundcolor\":\"#E5ECF6\",\"gridcolor\":\"white\",\"gridwidth\":2,\"linecolor\":\"white\",\"showbackground\":true,\"ticks\":\"\",\"zerolinecolor\":\"white\"}},\"shapedefaults\":{\"line\":{\"color\":\"#2a3f5f\"}},\"ternary\":{\"aaxis\":{\"gridcolor\":\"white\",\"linecolor\":\"white\",\"ticks\":\"\"},\"baxis\":{\"gridcolor\":\"white\",\"linecolor\":\"white\",\"ticks\":\"\"},\"bgcolor\":\"#E5ECF6\",\"caxis\":{\"gridcolor\":\"white\",\"linecolor\":\"white\",\"ticks\":\"\"}},\"title\":{\"x\":0.05},\"xaxis\":{\"automargin\":true,\"gridcolor\":\"white\",\"linecolor\":\"white\",\"ticks\":\"\",\"title\":{\"standoff\":15},\"zerolinecolor\":\"white\",\"zerolinewidth\":2},\"yaxis\":{\"automargin\":true,\"gridcolor\":\"white\",\"linecolor\":\"white\",\"ticks\":\"\",\"title\":{\"standoff\":15},\"zerolinecolor\":\"white\",\"zerolinewidth\":2}}},\"xaxis\":{\"anchor\":\"y\",\"domain\":[0.0,1.0],\"title\":{\"text\":\"Runtime\"}},\"yaxis\":{\"anchor\":\"x\",\"domain\":[0.0,1.0]},\"legend\":{\"tracegroupgap\":0},\"margin\":{\"t\":60},\"boxmode\":\"group\"},                        {\"responsive\": true}                    ).then(function(){\n",
              "                            \n",
              "var gd = document.getElementById('99437681-cd43-42e6-957f-ca16a08997a3');\n",
              "var x = new MutationObserver(function (mutations, observer) {{\n",
              "        var display = window.getComputedStyle(gd).display;\n",
              "        if (!display || display === 'none') {{\n",
              "            console.log([gd, 'removed!']);\n",
              "            Plotly.purge(gd);\n",
              "            observer.disconnect();\n",
              "        }}\n",
              "}});\n",
              "\n",
              "// Listen for the removal of the full notebook cells\n",
              "var notebookContainer = gd.closest('#notebook-container');\n",
              "if (notebookContainer) {{\n",
              "    x.observe(notebookContainer, {childList: true});\n",
              "}}\n",
              "\n",
              "// Listen for the clearing of the current output cell\n",
              "var outputEl = gd.closest('.output');\n",
              "if (outputEl) {{\n",
              "    x.observe(outputEl, {childList: true});\n",
              "}}\n",
              "\n",
              "                        })                };                            </script>        </div>\n",
              "</body>\n",
              "</html>"
            ]
          },
          "metadata": {}
        }
      ]
    },
    {
      "cell_type": "markdown",
      "source": [
        "*En yüksek Runtime'a sahip film*"
      ],
      "metadata": {
        "id": "oZ2T24uvWVPe"
      }
    },
    {
      "cell_type": "code",
      "source": [
        "df[df.Runtime == df.Runtime.max()][\"Title\"]"
      ],
      "metadata": {
        "colab": {
          "base_uri": "https://localhost:8080/"
        },
        "id": "xJCimcLEVGcM",
        "outputId": "0c32fb3e-3528-4ca0-c8b8-6a98b4d34e55"
      },
      "execution_count": 29,
      "outputs": [
        {
          "output_type": "execute_result",
          "data": {
            "text/plain": [
              "561    The Irishman\n",
              "Name: Title, dtype: object"
            ]
          },
          "metadata": {},
          "execution_count": 29
        }
      ]
    },
    {
      "cell_type": "markdown",
      "source": [
        "*Veri kümesinden en düşük Runtime'a sahip film*"
      ],
      "metadata": {
        "id": "0mwgAx3iWXLc"
      }
    },
    {
      "cell_type": "code",
      "source": [
        "df[df.Runtime == df.Runtime.min()][\"Title\"]"
      ],
      "metadata": {
        "colab": {
          "base_uri": "https://localhost:8080/"
        },
        "id": "YURDSndsVGYn",
        "outputId": "658c7db5-013f-41b3-d859-d924b73f982f"
      },
      "execution_count": 30,
      "outputs": [
        {
          "output_type": "execute_result",
          "data": {
            "text/plain": [
              "40    Sol Levante\n",
              "Name: Title, dtype: object"
            ]
          },
          "metadata": {},
          "execution_count": 30
        }
      ]
    },
    {
      "cell_type": "markdown",
      "source": [
        "**IMDB Puanına Göre Analiz**\n",
        "  * IMDB puanı en yüksek olan ilk 10 film hangileridir?\n",
        "  * IMDB puanı ile 'Runtime' arasında nasıl bir korelasyon vardır? İnceleyip görselleştiriniz.\n",
        "  * IMDB Puanı en yüksek olan ilk 10 'Genre' hangileridir? Görselleştiriniz\n"
      ],
      "metadata": {
        "id": "jw_pgSUvWs-_"
      }
    },
    {
      "cell_type": "code",
      "source": [
        "df[\"IMDB Score\"].describe()"
      ],
      "metadata": {
        "colab": {
          "base_uri": "https://localhost:8080/"
        },
        "id": "JcTeO_fkVGOZ",
        "outputId": "7b13e6ea-724b-46c2-819a-8d80f36cda82"
      },
      "execution_count": 31,
      "outputs": [
        {
          "output_type": "execute_result",
          "data": {
            "text/plain": [
              "count    584.000000\n",
              "mean       6.271747\n",
              "std        0.979256\n",
              "min        2.500000\n",
              "25%        5.700000\n",
              "50%        6.350000\n",
              "75%        7.000000\n",
              "max        9.000000\n",
              "Name: IMDB Score, dtype: float64"
            ]
          },
          "metadata": {},
          "execution_count": 31
        }
      ]
    },
    {
      "cell_type": "markdown",
      "source": [
        "*En yüksek puanlı film 9. En düşük puan 2.5. Yine medyan, ortalamadan biraz daha büyüktür. Yani dağılım negatif çarpıktır.*"
      ],
      "metadata": {
        "id": "CVxTDu3CXCqq"
      }
    },
    {
      "cell_type": "code",
      "source": [
        "fig = px.histogram(data_frame=df, x=df[\"IMDB Score\"], title=\"IMDB Scores of the Programs\")\n",
        "\n",
        "fig.show()"
      ],
      "metadata": {
        "colab": {
          "base_uri": "https://localhost:8080/",
          "height": 542
        },
        "id": "lANte35oW8gN",
        "outputId": "57f0698b-b18e-4dc4-abe8-b29c1ac98084"
      },
      "execution_count": 32,
      "outputs": [
        {
          "output_type": "display_data",
          "data": {
            "text/html": [
              "<html>\n",
              "<head><meta charset=\"utf-8\" /></head>\n",
              "<body>\n",
              "    <div>            <script src=\"https://cdnjs.cloudflare.com/ajax/libs/mathjax/2.7.5/MathJax.js?config=TeX-AMS-MML_SVG\"></script><script type=\"text/javascript\">if (window.MathJax) {MathJax.Hub.Config({SVG: {font: \"STIX-Web\"}});}</script>                <script type=\"text/javascript\">window.PlotlyConfig = {MathJaxConfig: 'local'};</script>\n",
              "        <script src=\"https://cdn.plot.ly/plotly-2.8.3.min.js\"></script>                <div id=\"d426135d-fb64-4a6a-abd4-7f40c28d3439\" class=\"plotly-graph-div\" style=\"height:525px; width:100%;\"></div>            <script type=\"text/javascript\">                                    window.PLOTLYENV=window.PLOTLYENV || {};                                    if (document.getElementById(\"d426135d-fb64-4a6a-abd4-7f40c28d3439\")) {                    Plotly.newPlot(                        \"d426135d-fb64-4a6a-abd4-7f40c28d3439\",                        [{\"alignmentgroup\":\"True\",\"bingroup\":\"x\",\"hovertemplate\":\"IMDB Score=%{x}<br>count=%{y}<extra></extra>\",\"legendgroup\":\"\",\"marker\":{\"color\":\"#636efa\",\"pattern\":{\"shape\":\"\"}},\"name\":\"\",\"offsetgroup\":\"\",\"orientation\":\"v\",\"showlegend\":false,\"x\":[2.5,2.6,2.6,3.2,3.4,3.5,3.7,3.7,3.9,4.1,4.1,4.1,4.1,4.2,4.2,4.3,4.3,4.3,4.3,4.4,4.4,4.4,4.4,4.4,4.4,4.5,4.5,4.5,4.5,4.6,4.6,4.6,4.6,4.6,4.6,4.6,4.6,4.7,4.7,4.7,4.7,4.7,4.7,4.8,4.8,4.8,4.8,4.8,4.8,4.8,4.9,4.9,4.9,4.9,5.0,5.0,5.0,5.0,5.0,5.1,5.1,5.1,5.1,5.1,5.1,5.2,5.2,5.2,5.2,5.2,5.2,5.2,5.2,5.2,5.2,5.2,5.2,5.2,5.2,5.2,5.2,5.2,5.2,5.2,5.3,5.3,5.3,5.3,5.3,5.3,5.3,5.3,5.3,5.3,5.4,5.4,5.4,5.4,5.4,5.4,5.4,5.4,5.4,5.4,5.4,5.4,5.4,5.5,5.5,5.5,5.5,5.5,5.5,5.5,5.5,5.5,5.5,5.5,5.5,5.5,5.5,5.5,5.5,5.5,5.5,5.5,5.6,5.6,5.6,5.6,5.6,5.6,5.6,5.6,5.6,5.6,5.6,5.6,5.6,5.6,5.6,5.7,5.7,5.7,5.7,5.7,5.7,5.7,5.7,5.7,5.7,5.7,5.7,5.7,5.7,5.7,5.7,5.7,5.7,5.7,5.7,5.8,5.8,5.8,5.8,5.8,5.8,5.8,5.8,5.8,5.8,5.8,5.8,5.8,5.8,5.8,5.8,5.8,5.8,5.8,5.8,5.8,5.8,5.8,5.8,5.8,5.8,5.8,5.8,5.8,5.8,5.9,5.9,5.9,5.9,5.9,5.9,5.9,5.9,5.9,5.9,5.9,5.9,5.9,5.9,5.9,5.9,6.0,6.0,6.0,6.0,6.0,6.0,6.0,6.0,6.0,6.0,6.0,6.0,6.0,6.1,6.1,6.1,6.1,6.1,6.1,6.1,6.1,6.1,6.1,6.1,6.1,6.1,6.1,6.1,6.1,6.1,6.1,6.1,6.1,6.1,6.1,6.1,6.1,6.2,6.2,6.2,6.2,6.2,6.2,6.2,6.2,6.2,6.2,6.2,6.2,6.2,6.2,6.2,6.2,6.2,6.2,6.3,6.3,6.3,6.3,6.3,6.3,6.3,6.3,6.3,6.3,6.3,6.3,6.3,6.3,6.3,6.3,6.3,6.3,6.3,6.3,6.3,6.3,6.3,6.3,6.3,6.3,6.3,6.3,6.3,6.3,6.4,6.4,6.4,6.4,6.4,6.4,6.4,6.4,6.4,6.4,6.4,6.4,6.4,6.4,6.4,6.4,6.4,6.4,6.4,6.4,6.4,6.4,6.4,6.4,6.4,6.4,6.4,6.4,6.5,6.5,6.5,6.5,6.5,6.5,6.5,6.5,6.5,6.5,6.5,6.5,6.5,6.5,6.5,6.5,6.5,6.5,6.5,6.5,6.5,6.5,6.5,6.5,6.5,6.5,6.6,6.6,6.6,6.6,6.6,6.6,6.6,6.6,6.6,6.6,6.6,6.6,6.6,6.6,6.6,6.6,6.6,6.6,6.7,6.7,6.7,6.7,6.7,6.7,6.7,6.7,6.7,6.7,6.7,6.7,6.7,6.7,6.7,6.7,6.7,6.7,6.7,6.7,6.7,6.7,6.7,6.7,6.7,6.8,6.8,6.8,6.8,6.8,6.8,6.8,6.8,6.8,6.8,6.8,6.8,6.8,6.8,6.8,6.8,6.8,6.8,6.8,6.8,6.8,6.8,6.8,6.8,6.9,6.9,6.9,6.9,6.9,6.9,6.9,6.9,6.9,6.9,6.9,6.9,6.9,6.9,6.9,6.9,6.9,6.9,6.9,7.0,7.0,7.0,7.0,7.0,7.0,7.0,7.0,7.0,7.0,7.0,7.0,7.0,7.0,7.0,7.0,7.0,7.0,7.0,7.1,7.1,7.1,7.1,7.1,7.1,7.1,7.1,7.1,7.1,7.1,7.1,7.1,7.1,7.1,7.1,7.1,7.1,7.1,7.1,7.1,7.1,7.1,7.1,7.1,7.1,7.1,7.1,7.2,7.2,7.2,7.2,7.2,7.2,7.2,7.2,7.2,7.2,7.2,7.2,7.2,7.2,7.2,7.2,7.2,7.2,7.2,7.2,7.3,7.3,7.3,7.3,7.3,7.3,7.3,7.3,7.3,7.3,7.3,7.3,7.3,7.3,7.3,7.3,7.3,7.3,7.3,7.3,7.3,7.4,7.4,7.4,7.4,7.4,7.4,7.4,7.4,7.4,7.4,7.4,7.4,7.5,7.5,7.5,7.5,7.5,7.5,7.5,7.5,7.5,7.5,7.6,7.6,7.6,7.6,7.6,7.6,7.6,7.6,7.6,7.6,7.7,7.7,7.7,7.7,7.7,7.7,7.7,7.7,7.8,7.8,7.8,7.9,7.9,7.9,7.9,8.0,8.1,8.1,8.1,8.2,8.2,8.2,8.2,8.2,8.3,8.3,8.4,8.4,8.4,8.5,8.6,9.0],\"xaxis\":\"x\",\"yaxis\":\"y\",\"type\":\"histogram\"}],                        {\"template\":{\"data\":{\"bar\":[{\"error_x\":{\"color\":\"#2a3f5f\"},\"error_y\":{\"color\":\"#2a3f5f\"},\"marker\":{\"line\":{\"color\":\"#E5ECF6\",\"width\":0.5},\"pattern\":{\"fillmode\":\"overlay\",\"size\":10,\"solidity\":0.2}},\"type\":\"bar\"}],\"barpolar\":[{\"marker\":{\"line\":{\"color\":\"#E5ECF6\",\"width\":0.5},\"pattern\":{\"fillmode\":\"overlay\",\"size\":10,\"solidity\":0.2}},\"type\":\"barpolar\"}],\"carpet\":[{\"aaxis\":{\"endlinecolor\":\"#2a3f5f\",\"gridcolor\":\"white\",\"linecolor\":\"white\",\"minorgridcolor\":\"white\",\"startlinecolor\":\"#2a3f5f\"},\"baxis\":{\"endlinecolor\":\"#2a3f5f\",\"gridcolor\":\"white\",\"linecolor\":\"white\",\"minorgridcolor\":\"white\",\"startlinecolor\":\"#2a3f5f\"},\"type\":\"carpet\"}],\"choropleth\":[{\"colorbar\":{\"outlinewidth\":0,\"ticks\":\"\"},\"type\":\"choropleth\"}],\"contour\":[{\"colorbar\":{\"outlinewidth\":0,\"ticks\":\"\"},\"colorscale\":[[0.0,\"#0d0887\"],[0.1111111111111111,\"#46039f\"],[0.2222222222222222,\"#7201a8\"],[0.3333333333333333,\"#9c179e\"],[0.4444444444444444,\"#bd3786\"],[0.5555555555555556,\"#d8576b\"],[0.6666666666666666,\"#ed7953\"],[0.7777777777777778,\"#fb9f3a\"],[0.8888888888888888,\"#fdca26\"],[1.0,\"#f0f921\"]],\"type\":\"contour\"}],\"contourcarpet\":[{\"colorbar\":{\"outlinewidth\":0,\"ticks\":\"\"},\"type\":\"contourcarpet\"}],\"heatmap\":[{\"colorbar\":{\"outlinewidth\":0,\"ticks\":\"\"},\"colorscale\":[[0.0,\"#0d0887\"],[0.1111111111111111,\"#46039f\"],[0.2222222222222222,\"#7201a8\"],[0.3333333333333333,\"#9c179e\"],[0.4444444444444444,\"#bd3786\"],[0.5555555555555556,\"#d8576b\"],[0.6666666666666666,\"#ed7953\"],[0.7777777777777778,\"#fb9f3a\"],[0.8888888888888888,\"#fdca26\"],[1.0,\"#f0f921\"]],\"type\":\"heatmap\"}],\"heatmapgl\":[{\"colorbar\":{\"outlinewidth\":0,\"ticks\":\"\"},\"colorscale\":[[0.0,\"#0d0887\"],[0.1111111111111111,\"#46039f\"],[0.2222222222222222,\"#7201a8\"],[0.3333333333333333,\"#9c179e\"],[0.4444444444444444,\"#bd3786\"],[0.5555555555555556,\"#d8576b\"],[0.6666666666666666,\"#ed7953\"],[0.7777777777777778,\"#fb9f3a\"],[0.8888888888888888,\"#fdca26\"],[1.0,\"#f0f921\"]],\"type\":\"heatmapgl\"}],\"histogram\":[{\"marker\":{\"pattern\":{\"fillmode\":\"overlay\",\"size\":10,\"solidity\":0.2}},\"type\":\"histogram\"}],\"histogram2d\":[{\"colorbar\":{\"outlinewidth\":0,\"ticks\":\"\"},\"colorscale\":[[0.0,\"#0d0887\"],[0.1111111111111111,\"#46039f\"],[0.2222222222222222,\"#7201a8\"],[0.3333333333333333,\"#9c179e\"],[0.4444444444444444,\"#bd3786\"],[0.5555555555555556,\"#d8576b\"],[0.6666666666666666,\"#ed7953\"],[0.7777777777777778,\"#fb9f3a\"],[0.8888888888888888,\"#fdca26\"],[1.0,\"#f0f921\"]],\"type\":\"histogram2d\"}],\"histogram2dcontour\":[{\"colorbar\":{\"outlinewidth\":0,\"ticks\":\"\"},\"colorscale\":[[0.0,\"#0d0887\"],[0.1111111111111111,\"#46039f\"],[0.2222222222222222,\"#7201a8\"],[0.3333333333333333,\"#9c179e\"],[0.4444444444444444,\"#bd3786\"],[0.5555555555555556,\"#d8576b\"],[0.6666666666666666,\"#ed7953\"],[0.7777777777777778,\"#fb9f3a\"],[0.8888888888888888,\"#fdca26\"],[1.0,\"#f0f921\"]],\"type\":\"histogram2dcontour\"}],\"mesh3d\":[{\"colorbar\":{\"outlinewidth\":0,\"ticks\":\"\"},\"type\":\"mesh3d\"}],\"parcoords\":[{\"line\":{\"colorbar\":{\"outlinewidth\":0,\"ticks\":\"\"}},\"type\":\"parcoords\"}],\"pie\":[{\"automargin\":true,\"type\":\"pie\"}],\"scatter\":[{\"marker\":{\"colorbar\":{\"outlinewidth\":0,\"ticks\":\"\"}},\"type\":\"scatter\"}],\"scatter3d\":[{\"line\":{\"colorbar\":{\"outlinewidth\":0,\"ticks\":\"\"}},\"marker\":{\"colorbar\":{\"outlinewidth\":0,\"ticks\":\"\"}},\"type\":\"scatter3d\"}],\"scattercarpet\":[{\"marker\":{\"colorbar\":{\"outlinewidth\":0,\"ticks\":\"\"}},\"type\":\"scattercarpet\"}],\"scattergeo\":[{\"marker\":{\"colorbar\":{\"outlinewidth\":0,\"ticks\":\"\"}},\"type\":\"scattergeo\"}],\"scattergl\":[{\"marker\":{\"colorbar\":{\"outlinewidth\":0,\"ticks\":\"\"}},\"type\":\"scattergl\"}],\"scattermapbox\":[{\"marker\":{\"colorbar\":{\"outlinewidth\":0,\"ticks\":\"\"}},\"type\":\"scattermapbox\"}],\"scatterpolar\":[{\"marker\":{\"colorbar\":{\"outlinewidth\":0,\"ticks\":\"\"}},\"type\":\"scatterpolar\"}],\"scatterpolargl\":[{\"marker\":{\"colorbar\":{\"outlinewidth\":0,\"ticks\":\"\"}},\"type\":\"scatterpolargl\"}],\"scatterternary\":[{\"marker\":{\"colorbar\":{\"outlinewidth\":0,\"ticks\":\"\"}},\"type\":\"scatterternary\"}],\"surface\":[{\"colorbar\":{\"outlinewidth\":0,\"ticks\":\"\"},\"colorscale\":[[0.0,\"#0d0887\"],[0.1111111111111111,\"#46039f\"],[0.2222222222222222,\"#7201a8\"],[0.3333333333333333,\"#9c179e\"],[0.4444444444444444,\"#bd3786\"],[0.5555555555555556,\"#d8576b\"],[0.6666666666666666,\"#ed7953\"],[0.7777777777777778,\"#fb9f3a\"],[0.8888888888888888,\"#fdca26\"],[1.0,\"#f0f921\"]],\"type\":\"surface\"}],\"table\":[{\"cells\":{\"fill\":{\"color\":\"#EBF0F8\"},\"line\":{\"color\":\"white\"}},\"header\":{\"fill\":{\"color\":\"#C8D4E3\"},\"line\":{\"color\":\"white\"}},\"type\":\"table\"}]},\"layout\":{\"annotationdefaults\":{\"arrowcolor\":\"#2a3f5f\",\"arrowhead\":0,\"arrowwidth\":1},\"autotypenumbers\":\"strict\",\"coloraxis\":{\"colorbar\":{\"outlinewidth\":0,\"ticks\":\"\"}},\"colorscale\":{\"diverging\":[[0,\"#8e0152\"],[0.1,\"#c51b7d\"],[0.2,\"#de77ae\"],[0.3,\"#f1b6da\"],[0.4,\"#fde0ef\"],[0.5,\"#f7f7f7\"],[0.6,\"#e6f5d0\"],[0.7,\"#b8e186\"],[0.8,\"#7fbc41\"],[0.9,\"#4d9221\"],[1,\"#276419\"]],\"sequential\":[[0.0,\"#0d0887\"],[0.1111111111111111,\"#46039f\"],[0.2222222222222222,\"#7201a8\"],[0.3333333333333333,\"#9c179e\"],[0.4444444444444444,\"#bd3786\"],[0.5555555555555556,\"#d8576b\"],[0.6666666666666666,\"#ed7953\"],[0.7777777777777778,\"#fb9f3a\"],[0.8888888888888888,\"#fdca26\"],[1.0,\"#f0f921\"]],\"sequentialminus\":[[0.0,\"#0d0887\"],[0.1111111111111111,\"#46039f\"],[0.2222222222222222,\"#7201a8\"],[0.3333333333333333,\"#9c179e\"],[0.4444444444444444,\"#bd3786\"],[0.5555555555555556,\"#d8576b\"],[0.6666666666666666,\"#ed7953\"],[0.7777777777777778,\"#fb9f3a\"],[0.8888888888888888,\"#fdca26\"],[1.0,\"#f0f921\"]]},\"colorway\":[\"#636efa\",\"#EF553B\",\"#00cc96\",\"#ab63fa\",\"#FFA15A\",\"#19d3f3\",\"#FF6692\",\"#B6E880\",\"#FF97FF\",\"#FECB52\"],\"font\":{\"color\":\"#2a3f5f\"},\"geo\":{\"bgcolor\":\"white\",\"lakecolor\":\"white\",\"landcolor\":\"#E5ECF6\",\"showlakes\":true,\"showland\":true,\"subunitcolor\":\"white\"},\"hoverlabel\":{\"align\":\"left\"},\"hovermode\":\"closest\",\"mapbox\":{\"style\":\"light\"},\"paper_bgcolor\":\"white\",\"plot_bgcolor\":\"#E5ECF6\",\"polar\":{\"angularaxis\":{\"gridcolor\":\"white\",\"linecolor\":\"white\",\"ticks\":\"\"},\"bgcolor\":\"#E5ECF6\",\"radialaxis\":{\"gridcolor\":\"white\",\"linecolor\":\"white\",\"ticks\":\"\"}},\"scene\":{\"xaxis\":{\"backgroundcolor\":\"#E5ECF6\",\"gridcolor\":\"white\",\"gridwidth\":2,\"linecolor\":\"white\",\"showbackground\":true,\"ticks\":\"\",\"zerolinecolor\":\"white\"},\"yaxis\":{\"backgroundcolor\":\"#E5ECF6\",\"gridcolor\":\"white\",\"gridwidth\":2,\"linecolor\":\"white\",\"showbackground\":true,\"ticks\":\"\",\"zerolinecolor\":\"white\"},\"zaxis\":{\"backgroundcolor\":\"#E5ECF6\",\"gridcolor\":\"white\",\"gridwidth\":2,\"linecolor\":\"white\",\"showbackground\":true,\"ticks\":\"\",\"zerolinecolor\":\"white\"}},\"shapedefaults\":{\"line\":{\"color\":\"#2a3f5f\"}},\"ternary\":{\"aaxis\":{\"gridcolor\":\"white\",\"linecolor\":\"white\",\"ticks\":\"\"},\"baxis\":{\"gridcolor\":\"white\",\"linecolor\":\"white\",\"ticks\":\"\"},\"bgcolor\":\"#E5ECF6\",\"caxis\":{\"gridcolor\":\"white\",\"linecolor\":\"white\",\"ticks\":\"\"}},\"title\":{\"x\":0.05},\"xaxis\":{\"automargin\":true,\"gridcolor\":\"white\",\"linecolor\":\"white\",\"ticks\":\"\",\"title\":{\"standoff\":15},\"zerolinecolor\":\"white\",\"zerolinewidth\":2},\"yaxis\":{\"automargin\":true,\"gridcolor\":\"white\",\"linecolor\":\"white\",\"ticks\":\"\",\"title\":{\"standoff\":15},\"zerolinecolor\":\"white\",\"zerolinewidth\":2}}},\"xaxis\":{\"anchor\":\"y\",\"domain\":[0.0,1.0],\"title\":{\"text\":\"IMDB Score\"}},\"yaxis\":{\"anchor\":\"x\",\"domain\":[0.0,1.0],\"title\":{\"text\":\"count\"}},\"legend\":{\"tracegroupgap\":0},\"title\":{\"text\":\"IMDB Scores of the Programs\"},\"barmode\":\"relative\"},                        {\"responsive\": true}                    ).then(function(){\n",
              "                            \n",
              "var gd = document.getElementById('d426135d-fb64-4a6a-abd4-7f40c28d3439');\n",
              "var x = new MutationObserver(function (mutations, observer) {{\n",
              "        var display = window.getComputedStyle(gd).display;\n",
              "        if (!display || display === 'none') {{\n",
              "            console.log([gd, 'removed!']);\n",
              "            Plotly.purge(gd);\n",
              "            observer.disconnect();\n",
              "        }}\n",
              "}});\n",
              "\n",
              "// Listen for the removal of the full notebook cells\n",
              "var notebookContainer = gd.closest('#notebook-container');\n",
              "if (notebookContainer) {{\n",
              "    x.observe(notebookContainer, {childList: true});\n",
              "}}\n",
              "\n",
              "// Listen for the clearing of the current output cell\n",
              "var outputEl = gd.closest('.output');\n",
              "if (outputEl) {{\n",
              "    x.observe(outputEl, {childList: true});\n",
              "}}\n",
              "\n",
              "                        })                };                            </script>        </div>\n",
              "</body>\n",
              "</html>"
            ]
          },
          "metadata": {}
        }
      ]
    },
    {
      "cell_type": "markdown",
      "source": [
        "*Yukarıda şekilde görüldüğü gibi dağılım negatif(sola) çarpıktır.*"
      ],
      "metadata": {
        "id": "5AbISb4KXMzK"
      }
    },
    {
      "cell_type": "code",
      "source": [
        "fig = px.box(data_frame=df, x=df[\"IMDB Score\"], hover_data=df[[\"Title\", \"Genre\"]])\n",
        "fig.update_traces(overwrite=False)\n",
        "\n",
        "fig.show()"
      ],
      "metadata": {
        "colab": {
          "base_uri": "https://localhost:8080/",
          "height": 542
        },
        "id": "F6nYeiimXRmY",
        "outputId": "b40ceede-1b17-49b9-fb2c-25a641f1ea76"
      },
      "execution_count": 33,
      "outputs": [
        {
          "output_type": "display_data",
          "data": {
            "text/html": [
              "<html>\n",
              "<head><meta charset=\"utf-8\" /></head>\n",
              "<body>\n",
              "    <div>            <script src=\"https://cdnjs.cloudflare.com/ajax/libs/mathjax/2.7.5/MathJax.js?config=TeX-AMS-MML_SVG\"></script><script type=\"text/javascript\">if (window.MathJax) {MathJax.Hub.Config({SVG: {font: \"STIX-Web\"}});}</script>                <script type=\"text/javascript\">window.PlotlyConfig = {MathJaxConfig: 'local'};</script>\n",
              "        <script src=\"https://cdn.plot.ly/plotly-2.8.3.min.js\"></script>                <div id=\"5bb33c50-f74d-452a-80a4-04bac8d99a5a\" class=\"plotly-graph-div\" style=\"height:525px; width:100%;\"></div>            <script type=\"text/javascript\">                                    window.PLOTLYENV=window.PLOTLYENV || {};                                    if (document.getElementById(\"5bb33c50-f74d-452a-80a4-04bac8d99a5a\")) {                    Plotly.newPlot(                        \"5bb33c50-f74d-452a-80a4-04bac8d99a5a\",                        [{\"alignmentgroup\":\"True\",\"customdata\":[[\"Enter the Anime\",\"Documentary\"],[\"Dark Forces\",\"Thriller\"],[\"The App\",\"Science fiction/Drama\"],[\"The Open House\",\"Horror thriller\"],[\"Kaali Khuhi\",\"Mystery\"],[\"Drive\",\"Action\"],[\"Leyla Everlasting\",\"Comedy\"],[\"The Last Days of American Crime\",\"Heist film/Thriller\"],[\"Paradox\",\"Musical/Western/Fantasy\"],[\"Sardar Ka Grandson\",\"Comedy\"],[\"Searching for Sheela\",\"Documentary\"],[\"The Call\",\"Drama\"],[\"Whipped\",\"Romantic comedy\"],[\"All Because of You\",\"Action comedy\"],[\"Mercy\",\"Thriller\"],[\"After the Raid\",\"Documentary\"],[\"Ghost Stories\",\"Horror anthology\"],[\"The Last Thing He Wanted\",\"Political thriller\"],[\"What Happened to Mr. Cha?\",\"Comedy\"],[\"Death Note\",\"Horror thriller\"],[\"Hello Privilege. It's Me, Chelsea\",\"Documentary\"],[\"Secret Obsession\",\"Thriller\"],[\"Sextuplets\",\"Comedy\"],[\"The Girl on the Train\",\"Thriller\"],[\"Thunder Force\",\"Superhero-Comedy\"],[\"Fatal Affair\",\"Thriller\"],[\"Just Say Yes\",\"Romantic comedy\"],[\"Seriously Single\",\"Comedy\"],[\"The Misadventures of Hedi and Cokeman\",\"Comedy\"],[\"5 Star Christmas\",\"Comedy\"],[\"After Maria\",\"Documentary\"],[\"I Am the Pretty Thing That Lives in the House\",\"Horror\"],[\"Paris Is Us\",\"Romance drama\"],[\"Porta dos Fundos: The First Temptation of Christ\",\"Comedy\"],[\"Rattlesnake\",\"Horror\"],[\"The Players\",\"Comedy\"],[\"We Are One\",\"Documentary\"],[\"Finding Agnes\",\"Drama\"],[\"IO\",\"Science fiction/Drama\"],[\"Sentinelle\",\"Action\"],[\"Sol Levante\",\"Anime / Short\"],[\"The Binding\",\"Drama\"],[\"We Can Be Heroes\",\"Superhero\"],[\"Christmas Crossfire\",\"Thriller\"],[\"Coin Heist\",\"Heist\"],[\"Mrs. Serial Killer\",\"Thriller\"],[\"Nobody Sleeps in the Woods Tonight\",\"Horror\"],[\"Take the 10\",\"Comedy\"],[\"The Main Event\",\"Comedy\"],[\"The Ridiculous 6\",\"Western\"],[\"Earth and Blood\",\"Action\"],[\"Fearless\",\"Animation/Superhero\"],[\"Holiday Rush\",\"Family film\"],[\"The Day of the Lord\",\"Drama\"],[\"Airplane Mode\",\"Comedy\"],[\"How It Ends\",\"Action-thriller\"],[\"Love Like the Falling Rain\",\"Drama\"],[\"Rebirth\",\"Thriller\"],[\"Squared Love\",\"Romantic comedy\"],[\"Cadaver\",\"Horror\"],[\"Clinical\",\"Thriller\"],[\"Coffee & Kareem\",\"Action comedy\"],[\"Dude\",\"Teen comedy-drama\"],[\"Geez & Ann\",\"Romantic drama\"],[\"The Larva Island Movie\",\"Animation\"],[\"#REALITYHIGH\",\"Comedy\"],[\"American Factory: A Conversation with the Obamas \",\"Aftershow / Interview\"],[\"Desperados\",\"Romantic comedy\"],[\"Dolly Parton's Christmas on the Square\",\"Christmas musical\"],[\"Father of the Year\",\"Comedy\"],[\"Firebrand\",\"Drama\"],[\"Ghost Lab\",\"Horror\"],[\"Girlfriend's Day\",\"Comedy\"],[\"Handsome: A Netflix Mystery Movie\",\"Comedy\"],[\"Hubie Halloween\",\"Comedy\"],[\"Ibiza\",\"Comedy\"],[\"Rim of the World\",\"Science fiction adventure\"],[\"Sandy Wexler\",\"Comedy\"],[\"See You Yesterday\",\"Science fiction\"],[\"Still Laugh-In: The Stars Celebrate\",\"Variety show\"],[\"Strip Down, Rise Up\",\"Documentary\"],[\"Tall Girl\",\"Comedy-drama\"],[\"The Beast\",\"Drama\"],[\"The Week Of\",\"Comedy\"],[\"A Christmas Prince: The Royal Wedding\",\"Romantic comedy\"],[\"Back to School\",\"Comedy\"],[\"Dangerous Lies\",\"Thriller\"],[\"Gunjan Saxena: The Kargil Girl\",\"Drama\"],[\"Intuition\",\"Thriller\"],[\"The Most Assassinated Woman in the World\",\"Thriller\"],[\"Things Heard & Seen\",\"Horror\"],[\"To Each, Her Own\",\"Romantic comedy\"],[\"Who Would You Take to a Deserted Island?\",\"Drama\"],[\"XOXO\",\"Drama\"],[\"A Babysitter's Guide to Monster Hunting\",\"Comedy/Fantasy/Family\"],[\"A Christmas Prince: The Royal Baby\",\"Romantic comedy\"],[\"Despite Everything\",\"Comedy\"],[\"Dolly Kitty and Those Twinkling Stars\",\"Drama\"],[\"Freaks: You're One of Us\",\"Supernatural drama\"],[\"Game Over, Man!\",\"Action/Comedy\"],[\"Guilty\",\"Thriller\"],[\"In the Tall Grass\",\"Horror\"],[\"Madame Claude\",\"Drama\"],[\"Naked\",\"Comedy\"],[\"Outside the Wire\",\"Action/Science fiction\"],[\"The Princess Switch: Switched Again\",\"Romantic comedy\"],[\"Under the Riccione Sun\",\"Romantic teenage drama\"],[\"A Very Murray Christmas\",\"Comedy / Musical\"],[\"Been So Long\",\"Musical\"],[\"Dead Kids\",\"Thriller\"],[\"Get the Grift\",\"Comedy\"],[\"Ghosts of Sugar Land\",\"Documentary\"],[\"House Arrest\",\"Comedy\"],[\"Kevin Hart's Guide to Black History\",\"Variety show\"],[\"Love Wedding Repeat\",\"Romantic comedy\"],[\"Mute\",\"Science fiction/Mystery\"],[\"\\u00d2l\\u00f2t?r\\u00e9\",\"Crime drama\"],[\"Red Dot\",\"Thriller\"],[\"Ride or Die\",\"Psychological thriller drama\"],[\"Step Sisters\",\"Comedy\"],[\"The Cloverfield Paradox\",\"Science fiction\"],[\"The Knight Before Christmas\",\"Romantic comedy\"],[\"The Legacy of a Whitetail Deer Hunter\",\"Adventure/Comedy\"],[\"The Package\",\"Black comedy\"],[\"Unicorn Store\",\"Comedy\"],[\"Wine Country\",\"Comedy\"],[\"Bomb Scared\",\"Black comedy\"],[\"Brahman Naman\",\"Comedy\"],[\"Double Dad\",\"Comedy-drama\"],[\"Falling Inn Love\",\"Romantic comedy\"],[\"Hold the Dark\",\"Thriller\"],[\"Love, Guaranteed\",\"Romantic comedy\"],[\"One-Way to Tomorrow\",\"Romance\"],[\"Sarah Cooper: Everything's Fine\",\"Variety show\"],[\"The Last Laugh\",\"Comedy-drama\"],[\"The Last Paradiso\",\"Romantic drama\"],[\"The Midnight Sky\",\"Science fiction\"],[\"The Paramedic\",\"Thriller\"],[\"The Sleepover\",\"Comedy\"],[\"Vampires vs. the Bronx\",\"Horror comedy\"],[\"Why Did You Kill Me?\",\"Documentary\"],[\"A Week Away\",\"Christian musical\"],[\"Caught by a Wave\",\"Romantic teen drama\"],[\"Christmas Inheritance\",\"Romantic drama\"],[\"Dad Wanted\",\"Family\"],[\"El Camino Christmas\",\"Dark comedy\"],[\"Eli\",\"Horror\"],[\"Ginny Weds Sunny\",\"Romantic comedy\"],[\"Good Sam\",\"Drama\"],[\"Lionheart\",\"Comedy\"],[\"Little Evil\",\"Comedy horror\"],[\"One Take\",\"Documentary\"],[\"Out of Many, One\",\"Documentary\"],[\"Point Blank\",\"Action\"],[\"Prime Time\",\"Thriller\"],[\"The Do-Over\",\"Action comedy\"],[\"The Holiday Calendar\",\"Romantic comedy\"],[\"The Woman in the Window\",\"Psychological thriller\"],[\"The Wrong Missy\",\"Comedy\"],[\"Velvet Buzzsaw\",\"Thriller\"],[\"Yes Day\",\"Comedy\"],[\"15 August\",\"Comedy-drama\"],[\"A California Christmas\",\"Romantic comedy\"],[\"A Christmas Prince\",\"Romantic comedy\"],[\"All Day and a Night\",\"Drama\"],[\"American Son\",\"Drama\"],[\"Barry\",\"Biopic\"],[\"Candy Jar\",\"Comedy\"],[\"Choked: Paisa Bolta Hai\",\"Drama\"],[\"Class of '83\",\"Drama\"],[\"Extinction\",\"Science fiction/Thriller\"],[\"Happy Anniversary\",\"Romantic comedy\"],[\"I Am All Girls\",\"Thriller\"],[\"Let It Snow\",\"Romantic comedy\"],[\"Mascots\",\"Mockumentary\"],[\"Operation Christmas Drop\",\"Romantic comedy\"],[\"Rajma Chawal\",\"Comedy-drama\"],[\"Rich in Love\",\"Romantic comedy\"],[\"Rising High\",\"Satire\"],[\"Rodney King\",\"One-man show\"],[\"Sierra Burgess Is a Loser\",\"Romantic comedy-drama\"],[\"Small Crimes\",\"Dark comedy\"],[\"Special Correspondents\",\"Satire\"],[\"TAU\",\"Science fiction/Thriller\"],[\"The After Party\",\"Comedy\"],[\"The Babysitter: Killer Queen\",\"Comedy/Horror\"],[\"The Claus Family\",\"Fantasy\"],[\"The Kissing Booth 2\",\"Romantic comedy\"],[\"The Perfect Date\",\"Romantic comedy\"],[\"What We Wanted\",\"Drama\"],[\"You've Got This\",\"Romantic comedy\"],[\"6 Balloons\",\"Drama\"],[\"A Fall from Grace\",\"Thriller\"],[\"Amateur\",\"Sports-drama\"],[\"Army of the Dead\",\"Zombie/Heist\"],[\"Cam\",\"Psychological horror\"],[\"Earthquake Bird\",\"Mystery\"],[\"Frankenstein's Monster's Monster, Frankenstein\",\"Mockumentary\"],[\"Horse Girl\",\"Drama\"],[\"Notes from Dunblane: Lesson from a School Shooting\",\"Documentary\"],[\"Maska\",\"Romantic comedy\"],[\"The Decline\",\"Thriller\"],[\"The Minimalists: Less Is Now\",\"Documentary\"],[\"The Polka King\",\"Comedy-drama\"],[\"The Prom\",\"Musical\"],[\"True Memoirs of an International Assassin\",\"Action comedy\"],[\"Ultras\",\"Sports film\"],[\"Come Sunday\",\"Biopic\"],[\"Forgive Us Our Debts\",\"Drama\"],[\"iBoy\",\"Science fiction/Thriller\"],[\"Lovefucked\",\"Drama\"],[\"Juanita\",\"Drama\"],[\"Murder Mystery\",\"Comedy mystery\"],[\"Project Power\",\"Superhero\"],[\"Rebecca\",\"Romantic thriller\"],[\"The Christmas Chronicles: Part Two\",\"Christmas comedy\"],[\"The Kissing Booth\",\"Romantic comedy\"],[\"The Princess Switch\",\"Romantic comedy\"],[\"To All the Boys: P.S. I Still Love You\",\"Romantic comedy\"],[\"War Machine\",\"War-Comedy\"],[\"6 Underground\",\"Action\"],[\"Between Two Ferns: The Movie\",\"Comedy\"],[\"Burning Sands\",\"Drama\"],[\"Casting JonBenet\",\"Documentary\"],[\"Deidra & Laney Rob a Train\",\"Drama\"],[\"Finding 'Ohana\",\"Family\"],[\"Holidate\",\"Romantic comedy/Holiday\"],[\"Holiday in the Wild\",\"Adventure-romance\"],[\"Hot Girls Wanted\",\"Documentary\"],[\"Like Father\",\"Comedy\"],[\"Lost Girls\",\"Crime drama\"],[\"Otherhood\",\"Comedy\"],[\"Pee-wee's Big Holiday\",\"Adventure\"],[\"Rogue City\",\"Crime drama\"],[\"Sergio\",\"Biopic\"],[\"Stuck Apart\",\"Drama\"],[\"Tersanjung the Movie\",\"Drama\"],[\"The Killer\",\"Western\"],[\"The Lovebirds\",\"Romantic comedy\"],[\"The Most Hated Woman in America\",\"Biopic\"],[\"The Perfection\",\"Horror-thriller\"],[\"Tribhanga \\u0096 Tedhi Medhi Crazy\",\"Drama\"],[\"Unknown Origins\",\"Thriller\"],[\"Work It\",\"Dance comedy\"],[\"Alien Xmas\",\"Stop Motion\"],[\"Baggio: The Divine Ponytail\",\"Biopic\"],[\"Below Zero\",\"Drama\"],[\"Citation\",\"Drama\"],[\"Crazy Awesome Teachers\",\"Comedy-drama\"],[\"Have You Ever Seen Fireflies?\",\"Comedy\"],[\"High Flying Bird\",\"Sports-drama\"],[\"In the Shadow of the Moon\",\"Thriller\"],[\"Lost Bullet\",\"Thriller\"],[\"Octonauts & the Caves of Sac Actun\",\"Animation\"],[\"Offering to the Storm\",\"Thriller\"],[\"Roxanne Roxanne\",\"Biopic\"],[\"Someone Great\",\"Romantic comedy\"],[\"Spenser Confidential\",\"Action comedy\"],[\"The Land of Steady Habits\",\"Drama\"],[\"The Rachel Divide\",\"Documentary\"],[\"Voyuer \",\"Documentary\"],[\"Win It All\",\"Comedy\"],[\"1922\",\"Horror/Crime drama\"],[\"A Tale of Two Kitchens\",\"Documentary\"],[\"Alex Strangelove\",\"Romantic comedy\"],[\"Apostle\",\"Horror-thriller\"],[\"Benji\",\"Family film\"],[\"Bright\",\"Urban fantasy\"],[\"Cargo\",\"Drama/Horror\"],[\"Concrete Cowboy\",\"Drama\"],[\"Feel the Beat\",\"Family/Comedy-drama\"],[\"Get the Goat\",\"Comedy\"],[\"I Am Not an Easy Man\",\"Romantic comedy\"],[\"June & Kopi\",\"Drama\"],[\"Music Teacher\",\"Drama\"],[\"Nail Bomber: Manhunt\",\"Documentary\"],[\"Notes for My Son\",\"Drama\"],[\"Polar\",\"Action\"],[\"Porta dos Fundos: The Last Hangover\",\"Comedy\"],[\"Sand Castle\",\"War\"],[\"Shimmer Lake\",\"Crime thriller\"],[\"Spectral\",\"Science fiction/Action\"],[\"The Babysitter\",\"Teen comedy horror\"],[\"The Discovery\",\"Science fiction/Drama\"],[\"The Forest of Love\",\"Drama\"],[\"The Laundromat\",\"Comedy-drama\"],[\"The Legend of Cocaine Island\",\"Documentary\"],[\"The Outsider\",\"Crime drama\"],[\"Time to Hunt\",\"Thriller\"],[\"To All the Boys: Always and Forever\",\"Romantic comedy\"],[\"Travis Scott: Look Mom I Can Fly\",\"Documentary\"],[\"Uncorked\",\"Drama\"],[\"Anelka: Misunderstood\",\"Documentary\"],[\"Ariana Grande: Excuse Me, I Love You\",\"Concert Film\"],[\"ARQ\",\"Science fiction/Thriller\"],[\"Birders\",\"Documentary\"],[\"Como Ca\\u00eddo del Cielo\",\"Musical comedy\"],[\"First Match\",\"Sports-drama\"],[\"Fractured\",\"Thriller\"],[\"Irreplaceable You\",\"Drama\"],[\"Isi & Ossi\",\"Romantic comedy\"],[\"John Was Trying to Contact Aliens\",\"Documentary\"],[\"Layla Majnun\",\"Romantic drama\"],[\"Murder to Mercy: The Cyntoia Brown Story\",\"Documentary\"],[\"My Own Man\",\"Documentary\"],[\"Nappily Ever After\",\"Comedy-drama\"],[\"Over the Moon\",\"Animation/Musical/Adventure\"],[\"Street Flow\",\"Drama\"],[\"Strong Island\",\"Documentary\"],[\"Sturgill Simpson Presents: Sound & Fury\",\"Animation / Musicial\"],[\"Take Your Pills\",\"Documentary\"],[\"The Heartbreak Club\",\"Comedy-drama\"],[\"The Mars Generation\",\"Documentary\"],[\"The Occupant\",\"Thriller\"],[\"The Willoughbys\",\"Animation/Comedy/Adventure\"],[\"Triple Frontier\",\"Action-thriller\"],[\"Two Catalonias\",\"Documentary\"],[\"Walk. Ride. Rodeo.\",\"Drama\"],[\"Wheelman\",\"Action thriller\"],[\"When We First Met\",\"Romantic comedy\"],[\"A 3 Minute Hug\",\"Documentary\"],[\"All the Bright Places\",\"Romance\"],[\"All Together Now\",\"Drama\"],[\"Altered Carbon: Resleeved\",\"Anime/Science fiction\"],[\"Antoine Griezmann: The Making of a Legend\",\"Documentary\"],[\"Canvas \",\"Animation / Short\"],[\"Chadwick Boseman: Portrait of an Artist\",\"Documentary\"],[\"Chopsticks\",\"Comedy\"],[\"Da 5 Bloods\",\"War drama\"],[\"Dolly Parton: A MusiCares Tribute\",\"Documentary\"],[\"Eurovision Song Contest: The Story of Fire Saga\",\"Musical comedy\"],[\"Gerald's Game\",\"Horror thriller\"],[\"His House\",\"Thriller\"],[\"Jingle Jangle: A Christmas Journey\",\"Family/Christmas musical\"],[\"Life Overtakes Me\",\"Documentary\"],[\"Lust Stories\",\"Drama\"],[\"Monster\",\"Drama\"],[\"Mowgli: Legend of the Jungle\",\"Adventure\"],[\"Nobody Knows I'm Here\",\"Drama\"],[\"Nobody Speak: Trials of the Free Press\",\"Documentary\"],[\"Oxygen\",\"Science fiction thriller\"],[\"Set It Up\",\"Romantic comedy\"],[\"The Incredible Jessica James\",\"Comedy\"],[\"Tigertail\",\"Drama\"],[\"Tramps\",\"Romance\"],[\"What Did Jack Do?\",\"Drama / Short\"],[\"Bad Trip\",\"Hidden-camera prank comedy\"],[\"Bird Box\",\"Psychological thriller\"],[\"Bulbbul\",\"Horror\"],[\"Crazy About Her\",\"Romantic comedy\"],[\"Elisa & Marcela\",\"Romance\"],[\"I'll Sleep When I'm Dead\",\"Documentary\"],[\"I'm Thinking of Ending Things\",\"Psychological thriller\"],[\"It Takes a Lunatic\",\"Documentary\"],[\"Milestone\",\"Drama\"],[\"Recovery Boys\",\"Documentary\"],[\"ReMastered: Who Killed Jam Master Jay?\",\"Documentary\"],[\"Shawn Mendes: In Wonder\",\"Documentary\"],[\"Space Sweepers\",\"Science fiction\"],[\"The American Meme\",\"Documentary\"],[\"The Angel\",\"Spy thriller\"],[\"The Crimes That Bind\",\"Crime drama\"],[\"The Red Sea Diving Resort\",\"Spy thriller\"],[\"What Would Sophia Loren Do?\",\"Documentary\"],[\"A Whisker Away\",\"Anime/Fantasy\"],[\"Ajeeb Daastaans\",\"Drama\"],[\"Arlo the Alligator Boy\",\"Animated musical comedy\"],[\"Bikram: Yogi, Guru, Predator\",\"Documentary\"],[\"Blame!\",\"Anime/Science fiction\"],[\"Blue Miracle\",\"Drama\"],[\"CounterPunch \",\"Documentary\"],[\"Crack: Cocaine, Corruption & Conspiracy\",\"Documentary\"],[\"Extraction\",\"Action\"],[\"Giving Voice\",\"Documentary\"],[\"Hillbilly Elegy\",\"Drama\"],[\"Hope Frozen: A Quest to Live Twice\",\"Documentary\"],[\"Imperial Dreams\",\"Drama\"],[\"Just Another Christmas\",\"Comedy\"],[\"Little Miss Sumo\",\"Documentary\"],[\"Malcolm & Marie\",\"Romantic drama\"],[\"Michael Bolton's Big, Sexy, Valentine's Day Special\",\"Variety Show\"],[\"Moxie\",\"Drama\"],[\"Night in Paradise\",\"Drama\"],[\"Paper Lives\",\"Drama\"],[\"Parchis: The Documentary\",\"Documentary\"],[\"Tallulah\",\"Comedy-drama\"],[\"The Old Guard\",\"Superhero/Action\"],[\"Tony Robbins: I Am Not Your Guru\",\"Documentary\"],[\"Upstarts\",\"Drama\"],[\"22 July\",\"Drama\"],[\"7 a\\u00f1os\",\"Drama\"],[\"A Futile and Stupid Gesture\",\"Biographical/Comedy\"],[\"A Life of Speed: The Juan Manuel Fangio Story\",\"Documentary\"],[\"A Love Song for Latasha\",\"Documentary\"],[\"All in My Family\",\"Documentary\"],[\"Always Be My Maybe\",\"Romantic comedy\"],[\"Becoming\",\"Documentary\"],[\"Long Live Brij Mohan\",\"Comedy\"],[\"Calibre\",\"Thriller\"],[\"Death to 2020\",\"Comedy\"],[\"GIMS: On the Record\",\"Documentary\"],[\"Have a Good Trip: Adventures in Psychedelics\",\"Documentary\"],[\"Heroin(e) \",\"Documentary\"],[\"Mercury 13\",\"Documentary\"],[\"Saving Capitalism\",\"Documentary\"],[\"Serious Men\",\"Drama\"],[\"The Boys in the Band\",\"Drama\"],[\"The Boys in the Band: Something Personal\",\"Aftershow / Interview\"],[\"The Life Ahead\",\"Drama\"],[\"The Other Side of the Wind\",\"Drama\"],[\"The Trader\",\"Documentary\"],[\"To the Bone\",\"Drama\"],[\"Tony Parker: The Final Shot\",\"Documentary\"],[\"AK vs AK\",\"Thriller\"],[\"Amanda Knox\",\"Documentary\"],[\"Bigflo & Oil: Hip Hop Frenzy\",\"Documentary\"],[\"Biggie: I Got a Story to Tell\",\"Documentary\"],[\"Cops and Robbers\",\"Animation / Short\"],[\"I Don't Feel at Home in This World Anymore\",\"Drama\"],[\"Laerte-se\",\"Documentary\"],[\"Mank\",\"Biopic\"],[\"Our Souls at Night\",\"Romance\"],[\"Outlaw King\",\"Historical-epic\"],[\"Pagglait\",\"Comedy-drama\"],[\"ReMastered: Who Shot the Sheriff?\",\"Documentary\"],[\"Seeing Allred\",\"Documentary\"],[\"Spelling the Dream\",\"Documentary\"],[\"The Claudia Kishi Club\",\"Documentary\"],[\"The Half of It\",\"Romance\"],[\"The Highwaymen\",\"Crime drama\"],[\"The Lonely Island Presents: The Unauthorized Bash Brothers Experience\",\"Comedy / Musical\"],[\"The Meyerowitz Stories (New and Selected)\",\"Comedy-drama\"],[\"Feminists: What Were They Thinking?\",\"Documentary\"],[\"Gaga: Five Foot Two\",\"Documentary\"],[\"I'm No Longer Here: A Discussion with Guillermo del Toro and Alfonso Cuaron\",\"Aftershow / Interview\"],[\"Kingdom of Us\",\"Documentary\"],[\"Lorena, Light-Footed Woman\",\"Documentary\"],[\"Los Tigres del Norte at Folsom Prison\",\"Documentary\"],[\"Ma Rainey's Black Bottom\",\"Drama\"],[\"Ma Rainey's Black Bottom: A Legacy Brought to Screen\",\"Aftershow / Interview\"],[\"Operation Varsity Blues: The College Admissions Scandal\",\"Documentary\"],[\"Pele\",\"Documentary\"],[\"ReMastered: Devil at the Crossroads\",\"Documentary\"],[\"ReMastered: The Lion's Share\",\"Documentary\"],[\"ReMastered: The Miami Showband Massacre\",\"Documentary\"],[\"Resurface\",\"Documentary\"],[\"Rocko's Modern Life: Static Cling\",\"Animation / Comedy\"],[\"Rose Island\",\"Comedy\"],[\"The Christmas Chronicles\",\"Christmas/Fantasy/Adventure/Comedy\"],[\"The Dirt\",\"Biopic\"],[\"The Night Comes for Us\",\"Action-thriller\"],[\"13th: A Conversation with Oprah Winfrey & Ava DuVernay\",\"Aftershow / Interview\"],[\"Angela's Christmas\",\"Animation\"],[\"Angela's Christmas Wish\",\"Animation\"],[\"Beats\",\"Drama\"],[\"Circus of Books\",\"Documentary\"],[\"Dance Dreams: Hot Chocolate Nutcracker\",\"Documentary\"],[\"Derren Brown: Sacrifice\",\"Mentalism special\"],[\"El Pepe: A Supreme Life\",\"Documentary\"],[\"End Game\",\"Documentary\"],[\"Evelyn\",\"Documentary\"],[\"Ferry\",\"Crime drama\"],[\"Grass Is Greener\",\"Documentary\"],[\"Guillermo Vilas: Settling the Score\",\"Documentary\"],[\"Joshua: Teenager vs. Superpower\",\"Documentary\"],[\"Keith Richards: Under the Influence\",\"Documentary\"],[\"Knock Down the House\",\"Documentary\"],[\"Loudon Wainwright III: Surviving Twin\",\"One-man show\"],[\"My Beautiful Broken Brain\",\"Documentary\"],[\"One of Us\",\"Documentary\"],[\"Pieces of a Woman\",\"Drama\"],[\"Ram Dass, Going Home\",\"Documentary\"],[\"ReMastered: Tricky Dick & the Man in Black\",\"Documentary\"],[\"Rooting for Roona\",\"Documentary\"],[\"The Devil All the Time\",\"Psychological thriller\"],[\"The Dig\",\"Drama\"],[\"The Great Hack\",\"Documentary\"],[\"The White Tiger\",\"Drama\"],[\"To All the Boys I've Loved Before\",\"Romantic comedy\"],[\"American Murder: The Family Next Door\",\"Documentary\"],[\"Audrie & Daisy\",\"Documentary\"],[\"First They Killed My Father\",\"Drama\"],[\"Fyre: The Greatest Party That Never Happened\",\"Documentary\"],[\"Into the Inferno\",\"Documentary\"],[\"LA Originals\",\"Documentary\"],[\"Ladies First\",\"Documentary\"],[\"Love per Square Foot\",\"Romantic comedy\"],[\"Paddleton\",\"Drama-Comedy\"],[\"Private Life\",\"Drama\"],[\"Seventeen\",\"Coming-of-age comedy-drama\"],[\"Sometimes\",\"Drama\"],[\"Soni\",\"Crime drama\"],[\"The 40-Year-Old Version\",\"Comedy\"],[\"The Disciple\",\"Drama\"],[\"The Edge of Democracy\",\"Documentary\"],[\"The King\",\"Historical drama\"],[\"The Road to El Camino: A Breaking Bad Movie\",\"Making-of\"],[\"The Siege of Jadotville\",\"War\"],[\"Zion \",\"Documentary\"],[\"Dolemite Is My Name\",\"Biopic\"],[\"El Camino: A Breaking Bad Movie\",\"Crime drama\"],[\"Extremis\",\"Documentary\"],[\"Father Soldier Son\",\"Documentary\"],[\"Get Me Roger Stone\",\"Documentary\"],[\"I'm No Longer Here\",\"Drama\"],[\"Mucho Mucho Amor: The Legend of Walter Mercado \",\"Documentary\"],[\"Octonauts & the Great Barrier Reef\",\"Animation\"],[\"Okja\",\"Action-adventure\"],[\"On My Skin\",\"Crime drama\"],[\"Raat Akeli Hai\",\"Thriller\"],[\"ReMastered: Massacre at the Stadium\",\"Documentary\"],[\"ReMastered: The Two Killings of Sam Cooke\",\"Documentary\"],[\"Secrets of the Saqqara Tomb\",\"Documentary\"],[\"Sitara: Let Girls Dream\",\"Animation / Short\"],[\"Sky Ladder: The Art of Cai Guo-Qiang\",\"Documentary\"],[\"Team Foxcatcher\",\"Documentary\"],[\"The Ballad of Buster Scruggs\",\"Western\"],[\"The Death and Life of Marsha P. Johnson\",\"Documentary\"],[\"The Fundamentals of Caring\",\"Comedy-drama\"],[\"The Other One: The Long Strange Trip of Bob Weir\",\"Documentary\"],[\"American Factory\",\"Documentary\"],[\"Fire in Paradise\",\"Documentary\"],[\"Long Shot\",\"Documentary\"],[\"Miss Americana\",\"Documentary\"],[\"Period. End of Sentence.\",\"Documentary\"],[\"Shawn Mendes: Live in Concert\",\"Concert Film\"],[\"Shirkers\",\"Documentary\"],[\"The Black Godfather\",\"Documentary\"],[\"The Irishman: In Conversation\",\"Aftershow / Interview\"],[\"The Speed Cubers\",\"Documentary\"],[\"They'll Love Me When I'm Dead\",\"Documentary\"],[\"Tig\",\"Documentary\"],[\"Barbra: The Music, The Mem'ries, The Magic!\",\"Concert Film\"],[\"Blackpink: Light Up the Sky\",\"Documentary\"],[\"City of Joy\",\"Documentary\"],[\"Dick Johnson Is Dead\",\"Documentary\"],[\"Homecoming: A Film by Beyonce \",\"Documentary\"],[\"Invader Zim: Enter the Florpus\",\"Animation / Science Fiction\"],[\"Joan Didion: The Center Will Not Hold\",\"Documentary\"],[\"John Mulaney & the Sack Lunch Bunch\",\"Variety show\"],[\"Reversing Roe\",\"Documentary\"],[\"The White Helmets\",\"Documentary\"],[\"Athlete A\",\"Documentary\"],[\"Ludo\",\"Anthology/Dark comedy\"],[\"Quincy\",\"Documentary\"],[\"Rolling Thunder Revue: A bob Dylan Story by Martin Scorsere\",\"Documentary\"],[\"Tell Me Who I Am\",\"Documentary\"],[\"The Bleeding Edge\",\"Documentary\"],[\"The Social Dilemma\",\"Documentary\"],[\"The Two Popes\",\"Drama\"],[\"What Happened, Miss Simone?\",\"Documentary\"],[\"Yeh Ballet\",\"Drama\"],[\"Anima\",\"Musical / Short\"],[\"Beasts of No Nation\",\"War drama\"],[\"Brene Brown: The Call to Courage\",\"Documentary\"],[\"Crip Camp: A Disability Revolution\",\"Documentary\"],[\"Jim & Andy: The Great Beyond - Featuring a Very Special, Contractually Obligated Mention of Tony Cliffton \",\"Documentary\"],[\"Justin Timberlake + The Tennessee Kids\",\"Concert Film\"],[\"Road to Roma\",\"Making-of\"],[\"Roma\",\"Drama\"],[\"If Anything Happens I Love You\",\"Animation / Short\"],[\"The Irishman\",\"Crime drama\"],[\"The Trial of the Chicago 7\",\"Drama\"],[\"A Secret Love\",\"Documentary\"],[\"Icarus\",\"Documentary\"],[\"Marriage Story\",\"Drama\"],[\"The Ivory Game\",\"Documentary\"],[\"Struggle: The Life and Lost Art of Szukaiski\",\"Documentary\"],[\"Chasing Coral \",\"Documentary\"],[\"My Octopus Teacher\",\"Documentary\"],[\"Rising Phoenix\",\"Documentary\"],[\"13th\",\"Documentary\"],[\"Disclosure: Trans Lives on Screen\",\"Documentary\"],[\"Klaus\",\"Animation/Christmas/Comedy/Adventure\"],[\"Seaspiracy\",\"Documentary\"],[\"The Three Deaths of Marisela Escobedo\",\"Documentary\"],[\"Cuba and the Cameraman \",\"Documentary\"],[\"Dancing with the Birds\",\"Documentary\"],[\"Ben Platt: Live from Radio City Music Hall\",\"Concert Film\"],[\"Taylor Swift: Reputation Stadium Tour\",\"Concert Film\"],[\"Winter on Fire: Ukraine's Fight for Freedom\",\"Documentary\"],[\"Springsteen on Broadway\",\"One-man show\"],[\"Emicida: AmarElo - It's All For Yesterday\",\"Documentary\"],[\"David Attenborough: A Life on Our Planet\",\"Documentary\"]],\"hovertemplate\":\"IMDB Score=%{x}<br>Title=%{customdata[0]}<br>Genre=%{customdata[1]}<extra></extra>\",\"legendgroup\":\"\",\"marker\":{\"color\":\"#636efa\"},\"name\":\"\",\"notched\":false,\"offsetgroup\":\"\",\"orientation\":\"h\",\"showlegend\":false,\"x\":[2.5,2.6,2.6,3.2,3.4,3.5,3.7,3.7,3.9,4.1,4.1,4.1,4.1,4.2,4.2,4.3,4.3,4.3,4.3,4.4,4.4,4.4,4.4,4.4,4.4,4.5,4.5,4.5,4.5,4.6,4.6,4.6,4.6,4.6,4.6,4.6,4.6,4.7,4.7,4.7,4.7,4.7,4.7,4.8,4.8,4.8,4.8,4.8,4.8,4.8,4.9,4.9,4.9,4.9,5.0,5.0,5.0,5.0,5.0,5.1,5.1,5.1,5.1,5.1,5.1,5.2,5.2,5.2,5.2,5.2,5.2,5.2,5.2,5.2,5.2,5.2,5.2,5.2,5.2,5.2,5.2,5.2,5.2,5.2,5.3,5.3,5.3,5.3,5.3,5.3,5.3,5.3,5.3,5.3,5.4,5.4,5.4,5.4,5.4,5.4,5.4,5.4,5.4,5.4,5.4,5.4,5.4,5.5,5.5,5.5,5.5,5.5,5.5,5.5,5.5,5.5,5.5,5.5,5.5,5.5,5.5,5.5,5.5,5.5,5.5,5.5,5.6,5.6,5.6,5.6,5.6,5.6,5.6,5.6,5.6,5.6,5.6,5.6,5.6,5.6,5.6,5.7,5.7,5.7,5.7,5.7,5.7,5.7,5.7,5.7,5.7,5.7,5.7,5.7,5.7,5.7,5.7,5.7,5.7,5.7,5.7,5.8,5.8,5.8,5.8,5.8,5.8,5.8,5.8,5.8,5.8,5.8,5.8,5.8,5.8,5.8,5.8,5.8,5.8,5.8,5.8,5.8,5.8,5.8,5.8,5.8,5.8,5.8,5.8,5.8,5.8,5.9,5.9,5.9,5.9,5.9,5.9,5.9,5.9,5.9,5.9,5.9,5.9,5.9,5.9,5.9,5.9,6.0,6.0,6.0,6.0,6.0,6.0,6.0,6.0,6.0,6.0,6.0,6.0,6.0,6.1,6.1,6.1,6.1,6.1,6.1,6.1,6.1,6.1,6.1,6.1,6.1,6.1,6.1,6.1,6.1,6.1,6.1,6.1,6.1,6.1,6.1,6.1,6.1,6.2,6.2,6.2,6.2,6.2,6.2,6.2,6.2,6.2,6.2,6.2,6.2,6.2,6.2,6.2,6.2,6.2,6.2,6.3,6.3,6.3,6.3,6.3,6.3,6.3,6.3,6.3,6.3,6.3,6.3,6.3,6.3,6.3,6.3,6.3,6.3,6.3,6.3,6.3,6.3,6.3,6.3,6.3,6.3,6.3,6.3,6.3,6.3,6.4,6.4,6.4,6.4,6.4,6.4,6.4,6.4,6.4,6.4,6.4,6.4,6.4,6.4,6.4,6.4,6.4,6.4,6.4,6.4,6.4,6.4,6.4,6.4,6.4,6.4,6.4,6.4,6.5,6.5,6.5,6.5,6.5,6.5,6.5,6.5,6.5,6.5,6.5,6.5,6.5,6.5,6.5,6.5,6.5,6.5,6.5,6.5,6.5,6.5,6.5,6.5,6.5,6.5,6.6,6.6,6.6,6.6,6.6,6.6,6.6,6.6,6.6,6.6,6.6,6.6,6.6,6.6,6.6,6.6,6.6,6.6,6.7,6.7,6.7,6.7,6.7,6.7,6.7,6.7,6.7,6.7,6.7,6.7,6.7,6.7,6.7,6.7,6.7,6.7,6.7,6.7,6.7,6.7,6.7,6.7,6.7,6.8,6.8,6.8,6.8,6.8,6.8,6.8,6.8,6.8,6.8,6.8,6.8,6.8,6.8,6.8,6.8,6.8,6.8,6.8,6.8,6.8,6.8,6.8,6.8,6.9,6.9,6.9,6.9,6.9,6.9,6.9,6.9,6.9,6.9,6.9,6.9,6.9,6.9,6.9,6.9,6.9,6.9,6.9,7.0,7.0,7.0,7.0,7.0,7.0,7.0,7.0,7.0,7.0,7.0,7.0,7.0,7.0,7.0,7.0,7.0,7.0,7.0,7.1,7.1,7.1,7.1,7.1,7.1,7.1,7.1,7.1,7.1,7.1,7.1,7.1,7.1,7.1,7.1,7.1,7.1,7.1,7.1,7.1,7.1,7.1,7.1,7.1,7.1,7.1,7.1,7.2,7.2,7.2,7.2,7.2,7.2,7.2,7.2,7.2,7.2,7.2,7.2,7.2,7.2,7.2,7.2,7.2,7.2,7.2,7.2,7.3,7.3,7.3,7.3,7.3,7.3,7.3,7.3,7.3,7.3,7.3,7.3,7.3,7.3,7.3,7.3,7.3,7.3,7.3,7.3,7.3,7.4,7.4,7.4,7.4,7.4,7.4,7.4,7.4,7.4,7.4,7.4,7.4,7.5,7.5,7.5,7.5,7.5,7.5,7.5,7.5,7.5,7.5,7.6,7.6,7.6,7.6,7.6,7.6,7.6,7.6,7.6,7.6,7.7,7.7,7.7,7.7,7.7,7.7,7.7,7.7,7.8,7.8,7.8,7.9,7.9,7.9,7.9,8.0,8.1,8.1,8.1,8.2,8.2,8.2,8.2,8.2,8.3,8.3,8.4,8.4,8.4,8.5,8.6,9.0],\"x0\":\" \",\"xaxis\":\"x\",\"y0\":\" \",\"yaxis\":\"y\",\"type\":\"box\"}],                        {\"template\":{\"data\":{\"bar\":[{\"error_x\":{\"color\":\"#2a3f5f\"},\"error_y\":{\"color\":\"#2a3f5f\"},\"marker\":{\"line\":{\"color\":\"#E5ECF6\",\"width\":0.5},\"pattern\":{\"fillmode\":\"overlay\",\"size\":10,\"solidity\":0.2}},\"type\":\"bar\"}],\"barpolar\":[{\"marker\":{\"line\":{\"color\":\"#E5ECF6\",\"width\":0.5},\"pattern\":{\"fillmode\":\"overlay\",\"size\":10,\"solidity\":0.2}},\"type\":\"barpolar\"}],\"carpet\":[{\"aaxis\":{\"endlinecolor\":\"#2a3f5f\",\"gridcolor\":\"white\",\"linecolor\":\"white\",\"minorgridcolor\":\"white\",\"startlinecolor\":\"#2a3f5f\"},\"baxis\":{\"endlinecolor\":\"#2a3f5f\",\"gridcolor\":\"white\",\"linecolor\":\"white\",\"minorgridcolor\":\"white\",\"startlinecolor\":\"#2a3f5f\"},\"type\":\"carpet\"}],\"choropleth\":[{\"colorbar\":{\"outlinewidth\":0,\"ticks\":\"\"},\"type\":\"choropleth\"}],\"contour\":[{\"colorbar\":{\"outlinewidth\":0,\"ticks\":\"\"},\"colorscale\":[[0.0,\"#0d0887\"],[0.1111111111111111,\"#46039f\"],[0.2222222222222222,\"#7201a8\"],[0.3333333333333333,\"#9c179e\"],[0.4444444444444444,\"#bd3786\"],[0.5555555555555556,\"#d8576b\"],[0.6666666666666666,\"#ed7953\"],[0.7777777777777778,\"#fb9f3a\"],[0.8888888888888888,\"#fdca26\"],[1.0,\"#f0f921\"]],\"type\":\"contour\"}],\"contourcarpet\":[{\"colorbar\":{\"outlinewidth\":0,\"ticks\":\"\"},\"type\":\"contourcarpet\"}],\"heatmap\":[{\"colorbar\":{\"outlinewidth\":0,\"ticks\":\"\"},\"colorscale\":[[0.0,\"#0d0887\"],[0.1111111111111111,\"#46039f\"],[0.2222222222222222,\"#7201a8\"],[0.3333333333333333,\"#9c179e\"],[0.4444444444444444,\"#bd3786\"],[0.5555555555555556,\"#d8576b\"],[0.6666666666666666,\"#ed7953\"],[0.7777777777777778,\"#fb9f3a\"],[0.8888888888888888,\"#fdca26\"],[1.0,\"#f0f921\"]],\"type\":\"heatmap\"}],\"heatmapgl\":[{\"colorbar\":{\"outlinewidth\":0,\"ticks\":\"\"},\"colorscale\":[[0.0,\"#0d0887\"],[0.1111111111111111,\"#46039f\"],[0.2222222222222222,\"#7201a8\"],[0.3333333333333333,\"#9c179e\"],[0.4444444444444444,\"#bd3786\"],[0.5555555555555556,\"#d8576b\"],[0.6666666666666666,\"#ed7953\"],[0.7777777777777778,\"#fb9f3a\"],[0.8888888888888888,\"#fdca26\"],[1.0,\"#f0f921\"]],\"type\":\"heatmapgl\"}],\"histogram\":[{\"marker\":{\"pattern\":{\"fillmode\":\"overlay\",\"size\":10,\"solidity\":0.2}},\"type\":\"histogram\"}],\"histogram2d\":[{\"colorbar\":{\"outlinewidth\":0,\"ticks\":\"\"},\"colorscale\":[[0.0,\"#0d0887\"],[0.1111111111111111,\"#46039f\"],[0.2222222222222222,\"#7201a8\"],[0.3333333333333333,\"#9c179e\"],[0.4444444444444444,\"#bd3786\"],[0.5555555555555556,\"#d8576b\"],[0.6666666666666666,\"#ed7953\"],[0.7777777777777778,\"#fb9f3a\"],[0.8888888888888888,\"#fdca26\"],[1.0,\"#f0f921\"]],\"type\":\"histogram2d\"}],\"histogram2dcontour\":[{\"colorbar\":{\"outlinewidth\":0,\"ticks\":\"\"},\"colorscale\":[[0.0,\"#0d0887\"],[0.1111111111111111,\"#46039f\"],[0.2222222222222222,\"#7201a8\"],[0.3333333333333333,\"#9c179e\"],[0.4444444444444444,\"#bd3786\"],[0.5555555555555556,\"#d8576b\"],[0.6666666666666666,\"#ed7953\"],[0.7777777777777778,\"#fb9f3a\"],[0.8888888888888888,\"#fdca26\"],[1.0,\"#f0f921\"]],\"type\":\"histogram2dcontour\"}],\"mesh3d\":[{\"colorbar\":{\"outlinewidth\":0,\"ticks\":\"\"},\"type\":\"mesh3d\"}],\"parcoords\":[{\"line\":{\"colorbar\":{\"outlinewidth\":0,\"ticks\":\"\"}},\"type\":\"parcoords\"}],\"pie\":[{\"automargin\":true,\"type\":\"pie\"}],\"scatter\":[{\"marker\":{\"colorbar\":{\"outlinewidth\":0,\"ticks\":\"\"}},\"type\":\"scatter\"}],\"scatter3d\":[{\"line\":{\"colorbar\":{\"outlinewidth\":0,\"ticks\":\"\"}},\"marker\":{\"colorbar\":{\"outlinewidth\":0,\"ticks\":\"\"}},\"type\":\"scatter3d\"}],\"scattercarpet\":[{\"marker\":{\"colorbar\":{\"outlinewidth\":0,\"ticks\":\"\"}},\"type\":\"scattercarpet\"}],\"scattergeo\":[{\"marker\":{\"colorbar\":{\"outlinewidth\":0,\"ticks\":\"\"}},\"type\":\"scattergeo\"}],\"scattergl\":[{\"marker\":{\"colorbar\":{\"outlinewidth\":0,\"ticks\":\"\"}},\"type\":\"scattergl\"}],\"scattermapbox\":[{\"marker\":{\"colorbar\":{\"outlinewidth\":0,\"ticks\":\"\"}},\"type\":\"scattermapbox\"}],\"scatterpolar\":[{\"marker\":{\"colorbar\":{\"outlinewidth\":0,\"ticks\":\"\"}},\"type\":\"scatterpolar\"}],\"scatterpolargl\":[{\"marker\":{\"colorbar\":{\"outlinewidth\":0,\"ticks\":\"\"}},\"type\":\"scatterpolargl\"}],\"scatterternary\":[{\"marker\":{\"colorbar\":{\"outlinewidth\":0,\"ticks\":\"\"}},\"type\":\"scatterternary\"}],\"surface\":[{\"colorbar\":{\"outlinewidth\":0,\"ticks\":\"\"},\"colorscale\":[[0.0,\"#0d0887\"],[0.1111111111111111,\"#46039f\"],[0.2222222222222222,\"#7201a8\"],[0.3333333333333333,\"#9c179e\"],[0.4444444444444444,\"#bd3786\"],[0.5555555555555556,\"#d8576b\"],[0.6666666666666666,\"#ed7953\"],[0.7777777777777778,\"#fb9f3a\"],[0.8888888888888888,\"#fdca26\"],[1.0,\"#f0f921\"]],\"type\":\"surface\"}],\"table\":[{\"cells\":{\"fill\":{\"color\":\"#EBF0F8\"},\"line\":{\"color\":\"white\"}},\"header\":{\"fill\":{\"color\":\"#C8D4E3\"},\"line\":{\"color\":\"white\"}},\"type\":\"table\"}]},\"layout\":{\"annotationdefaults\":{\"arrowcolor\":\"#2a3f5f\",\"arrowhead\":0,\"arrowwidth\":1},\"autotypenumbers\":\"strict\",\"coloraxis\":{\"colorbar\":{\"outlinewidth\":0,\"ticks\":\"\"}},\"colorscale\":{\"diverging\":[[0,\"#8e0152\"],[0.1,\"#c51b7d\"],[0.2,\"#de77ae\"],[0.3,\"#f1b6da\"],[0.4,\"#fde0ef\"],[0.5,\"#f7f7f7\"],[0.6,\"#e6f5d0\"],[0.7,\"#b8e186\"],[0.8,\"#7fbc41\"],[0.9,\"#4d9221\"],[1,\"#276419\"]],\"sequential\":[[0.0,\"#0d0887\"],[0.1111111111111111,\"#46039f\"],[0.2222222222222222,\"#7201a8\"],[0.3333333333333333,\"#9c179e\"],[0.4444444444444444,\"#bd3786\"],[0.5555555555555556,\"#d8576b\"],[0.6666666666666666,\"#ed7953\"],[0.7777777777777778,\"#fb9f3a\"],[0.8888888888888888,\"#fdca26\"],[1.0,\"#f0f921\"]],\"sequentialminus\":[[0.0,\"#0d0887\"],[0.1111111111111111,\"#46039f\"],[0.2222222222222222,\"#7201a8\"],[0.3333333333333333,\"#9c179e\"],[0.4444444444444444,\"#bd3786\"],[0.5555555555555556,\"#d8576b\"],[0.6666666666666666,\"#ed7953\"],[0.7777777777777778,\"#fb9f3a\"],[0.8888888888888888,\"#fdca26\"],[1.0,\"#f0f921\"]]},\"colorway\":[\"#636efa\",\"#EF553B\",\"#00cc96\",\"#ab63fa\",\"#FFA15A\",\"#19d3f3\",\"#FF6692\",\"#B6E880\",\"#FF97FF\",\"#FECB52\"],\"font\":{\"color\":\"#2a3f5f\"},\"geo\":{\"bgcolor\":\"white\",\"lakecolor\":\"white\",\"landcolor\":\"#E5ECF6\",\"showlakes\":true,\"showland\":true,\"subunitcolor\":\"white\"},\"hoverlabel\":{\"align\":\"left\"},\"hovermode\":\"closest\",\"mapbox\":{\"style\":\"light\"},\"paper_bgcolor\":\"white\",\"plot_bgcolor\":\"#E5ECF6\",\"polar\":{\"angularaxis\":{\"gridcolor\":\"white\",\"linecolor\":\"white\",\"ticks\":\"\"},\"bgcolor\":\"#E5ECF6\",\"radialaxis\":{\"gridcolor\":\"white\",\"linecolor\":\"white\",\"ticks\":\"\"}},\"scene\":{\"xaxis\":{\"backgroundcolor\":\"#E5ECF6\",\"gridcolor\":\"white\",\"gridwidth\":2,\"linecolor\":\"white\",\"showbackground\":true,\"ticks\":\"\",\"zerolinecolor\":\"white\"},\"yaxis\":{\"backgroundcolor\":\"#E5ECF6\",\"gridcolor\":\"white\",\"gridwidth\":2,\"linecolor\":\"white\",\"showbackground\":true,\"ticks\":\"\",\"zerolinecolor\":\"white\"},\"zaxis\":{\"backgroundcolor\":\"#E5ECF6\",\"gridcolor\":\"white\",\"gridwidth\":2,\"linecolor\":\"white\",\"showbackground\":true,\"ticks\":\"\",\"zerolinecolor\":\"white\"}},\"shapedefaults\":{\"line\":{\"color\":\"#2a3f5f\"}},\"ternary\":{\"aaxis\":{\"gridcolor\":\"white\",\"linecolor\":\"white\",\"ticks\":\"\"},\"baxis\":{\"gridcolor\":\"white\",\"linecolor\":\"white\",\"ticks\":\"\"},\"bgcolor\":\"#E5ECF6\",\"caxis\":{\"gridcolor\":\"white\",\"linecolor\":\"white\",\"ticks\":\"\"}},\"title\":{\"x\":0.05},\"xaxis\":{\"automargin\":true,\"gridcolor\":\"white\",\"linecolor\":\"white\",\"ticks\":\"\",\"title\":{\"standoff\":15},\"zerolinecolor\":\"white\",\"zerolinewidth\":2},\"yaxis\":{\"automargin\":true,\"gridcolor\":\"white\",\"linecolor\":\"white\",\"ticks\":\"\",\"title\":{\"standoff\":15},\"zerolinecolor\":\"white\",\"zerolinewidth\":2}}},\"xaxis\":{\"anchor\":\"y\",\"domain\":[0.0,1.0],\"title\":{\"text\":\"IMDB Score\"}},\"yaxis\":{\"anchor\":\"x\",\"domain\":[0.0,1.0]},\"legend\":{\"tracegroupgap\":0},\"margin\":{\"t\":60},\"boxmode\":\"group\"},                        {\"responsive\": true}                    ).then(function(){\n",
              "                            \n",
              "var gd = document.getElementById('5bb33c50-f74d-452a-80a4-04bac8d99a5a');\n",
              "var x = new MutationObserver(function (mutations, observer) {{\n",
              "        var display = window.getComputedStyle(gd).display;\n",
              "        if (!display || display === 'none') {{\n",
              "            console.log([gd, 'removed!']);\n",
              "            Plotly.purge(gd);\n",
              "            observer.disconnect();\n",
              "        }}\n",
              "}});\n",
              "\n",
              "// Listen for the removal of the full notebook cells\n",
              "var notebookContainer = gd.closest('#notebook-container');\n",
              "if (notebookContainer) {{\n",
              "    x.observe(notebookContainer, {childList: true});\n",
              "}}\n",
              "\n",
              "// Listen for the clearing of the current output cell\n",
              "var outputEl = gd.closest('.output');\n",
              "if (outputEl) {{\n",
              "    x.observe(outputEl, {childList: true});\n",
              "}}\n",
              "\n",
              "                        })                };                            </script>        </div>\n",
              "</body>\n",
              "</html>"
            ]
          },
          "metadata": {}
        }
      ]
    },
    {
      "cell_type": "markdown",
      "source": [
        "*Veri kümesinden en yüksek puana sahip film.*"
      ],
      "metadata": {
        "id": "Ov1GIiT1XeB7"
      }
    },
    {
      "cell_type": "code",
      "source": [
        "df[df[\"IMDB Score\"] == df[\"IMDB Score\"].max()][[\"Title\", \"Genre\"]]"
      ],
      "metadata": {
        "colab": {
          "base_uri": "https://localhost:8080/",
          "height": 81
        },
        "id": "hzdZXGCiXXHt",
        "outputId": "cf50fb05-701a-475d-dc93-8e77ced93d40"
      },
      "execution_count": 34,
      "outputs": [
        {
          "output_type": "execute_result",
          "data": {
            "text/plain": [
              "                                        Title        Genre\n",
              "583  David Attenborough: A Life on Our Planet  Documentary"
            ],
            "text/html": [
              "\n",
              "  <div id=\"df-35802578-769e-4670-8846-c06747112c22\">\n",
              "    <div class=\"colab-df-container\">\n",
              "      <div>\n",
              "<style scoped>\n",
              "    .dataframe tbody tr th:only-of-type {\n",
              "        vertical-align: middle;\n",
              "    }\n",
              "\n",
              "    .dataframe tbody tr th {\n",
              "        vertical-align: top;\n",
              "    }\n",
              "\n",
              "    .dataframe thead th {\n",
              "        text-align: right;\n",
              "    }\n",
              "</style>\n",
              "<table border=\"1\" class=\"dataframe\">\n",
              "  <thead>\n",
              "    <tr style=\"text-align: right;\">\n",
              "      <th></th>\n",
              "      <th>Title</th>\n",
              "      <th>Genre</th>\n",
              "    </tr>\n",
              "  </thead>\n",
              "  <tbody>\n",
              "    <tr>\n",
              "      <th>583</th>\n",
              "      <td>David Attenborough: A Life on Our Planet</td>\n",
              "      <td>Documentary</td>\n",
              "    </tr>\n",
              "  </tbody>\n",
              "</table>\n",
              "</div>\n",
              "      <button class=\"colab-df-convert\" onclick=\"convertToInteractive('df-35802578-769e-4670-8846-c06747112c22')\"\n",
              "              title=\"Convert this dataframe to an interactive table.\"\n",
              "              style=\"display:none;\">\n",
              "        \n",
              "  <svg xmlns=\"http://www.w3.org/2000/svg\" height=\"24px\"viewBox=\"0 0 24 24\"\n",
              "       width=\"24px\">\n",
              "    <path d=\"M0 0h24v24H0V0z\" fill=\"none\"/>\n",
              "    <path d=\"M18.56 5.44l.94 2.06.94-2.06 2.06-.94-2.06-.94-.94-2.06-.94 2.06-2.06.94zm-11 1L8.5 8.5l.94-2.06 2.06-.94-2.06-.94L8.5 2.5l-.94 2.06-2.06.94zm10 10l.94 2.06.94-2.06 2.06-.94-2.06-.94-.94-2.06-.94 2.06-2.06.94z\"/><path d=\"M17.41 7.96l-1.37-1.37c-.4-.4-.92-.59-1.43-.59-.52 0-1.04.2-1.43.59L10.3 9.45l-7.72 7.72c-.78.78-.78 2.05 0 2.83L4 21.41c.39.39.9.59 1.41.59.51 0 1.02-.2 1.41-.59l7.78-7.78 2.81-2.81c.8-.78.8-2.07 0-2.86zM5.41 20L4 18.59l7.72-7.72 1.47 1.35L5.41 20z\"/>\n",
              "  </svg>\n",
              "      </button>\n",
              "      \n",
              "  <style>\n",
              "    .colab-df-container {\n",
              "      display:flex;\n",
              "      flex-wrap:wrap;\n",
              "      gap: 12px;\n",
              "    }\n",
              "\n",
              "    .colab-df-convert {\n",
              "      background-color: #E8F0FE;\n",
              "      border: none;\n",
              "      border-radius: 50%;\n",
              "      cursor: pointer;\n",
              "      display: none;\n",
              "      fill: #1967D2;\n",
              "      height: 32px;\n",
              "      padding: 0 0 0 0;\n",
              "      width: 32px;\n",
              "    }\n",
              "\n",
              "    .colab-df-convert:hover {\n",
              "      background-color: #E2EBFA;\n",
              "      box-shadow: 0px 1px 2px rgba(60, 64, 67, 0.3), 0px 1px 3px 1px rgba(60, 64, 67, 0.15);\n",
              "      fill: #174EA6;\n",
              "    }\n",
              "\n",
              "    [theme=dark] .colab-df-convert {\n",
              "      background-color: #3B4455;\n",
              "      fill: #D2E3FC;\n",
              "    }\n",
              "\n",
              "    [theme=dark] .colab-df-convert:hover {\n",
              "      background-color: #434B5C;\n",
              "      box-shadow: 0px 1px 3px 1px rgba(0, 0, 0, 0.15);\n",
              "      filter: drop-shadow(0px 1px 2px rgba(0, 0, 0, 0.3));\n",
              "      fill: #FFFFFF;\n",
              "    }\n",
              "  </style>\n",
              "\n",
              "      <script>\n",
              "        const buttonEl =\n",
              "          document.querySelector('#df-35802578-769e-4670-8846-c06747112c22 button.colab-df-convert');\n",
              "        buttonEl.style.display =\n",
              "          google.colab.kernel.accessAllowed ? 'block' : 'none';\n",
              "\n",
              "        async function convertToInteractive(key) {\n",
              "          const element = document.querySelector('#df-35802578-769e-4670-8846-c06747112c22');\n",
              "          const dataTable =\n",
              "            await google.colab.kernel.invokeFunction('convertToInteractive',\n",
              "                                                     [key], {});\n",
              "          if (!dataTable) return;\n",
              "\n",
              "          const docLinkHtml = 'Like what you see? Visit the ' +\n",
              "            '<a target=\"_blank\" href=https://colab.research.google.com/notebooks/data_table.ipynb>data table notebook</a>'\n",
              "            + ' to learn more about interactive tables.';\n",
              "          element.innerHTML = '';\n",
              "          dataTable['output_type'] = 'display_data';\n",
              "          await google.colab.output.renderOutput(dataTable, element);\n",
              "          const docLink = document.createElement('div');\n",
              "          docLink.innerHTML = docLinkHtml;\n",
              "          element.appendChild(docLink);\n",
              "        }\n",
              "      </script>\n",
              "    </div>\n",
              "  </div>\n",
              "  "
            ]
          },
          "metadata": {},
          "execution_count": 34
        }
      ]
    },
    {
      "cell_type": "markdown",
      "source": [
        "*Veri kümesinden en düşük derecelendirmeye sahip film.*"
      ],
      "metadata": {
        "id": "GU2REiP1Xj4_"
      }
    },
    {
      "cell_type": "code",
      "source": [
        "df[df[\"IMDB Score\"] == df[\"IMDB Score\"].min()][[\"Title\", \"Genre\"]]"
      ],
      "metadata": {
        "colab": {
          "base_uri": "https://localhost:8080/",
          "height": 81
        },
        "id": "8M9ozksgXsX1",
        "outputId": "902bc367-7ae5-4726-de5f-bf337e0b27aa"
      },
      "execution_count": 35,
      "outputs": [
        {
          "output_type": "execute_result",
          "data": {
            "text/plain": [
              "             Title        Genre\n",
              "0  Enter the Anime  Documentary"
            ],
            "text/html": [
              "\n",
              "  <div id=\"df-4f58c519-0c60-477c-8b95-0ea678ba3772\">\n",
              "    <div class=\"colab-df-container\">\n",
              "      <div>\n",
              "<style scoped>\n",
              "    .dataframe tbody tr th:only-of-type {\n",
              "        vertical-align: middle;\n",
              "    }\n",
              "\n",
              "    .dataframe tbody tr th {\n",
              "        vertical-align: top;\n",
              "    }\n",
              "\n",
              "    .dataframe thead th {\n",
              "        text-align: right;\n",
              "    }\n",
              "</style>\n",
              "<table border=\"1\" class=\"dataframe\">\n",
              "  <thead>\n",
              "    <tr style=\"text-align: right;\">\n",
              "      <th></th>\n",
              "      <th>Title</th>\n",
              "      <th>Genre</th>\n",
              "    </tr>\n",
              "  </thead>\n",
              "  <tbody>\n",
              "    <tr>\n",
              "      <th>0</th>\n",
              "      <td>Enter the Anime</td>\n",
              "      <td>Documentary</td>\n",
              "    </tr>\n",
              "  </tbody>\n",
              "</table>\n",
              "</div>\n",
              "      <button class=\"colab-df-convert\" onclick=\"convertToInteractive('df-4f58c519-0c60-477c-8b95-0ea678ba3772')\"\n",
              "              title=\"Convert this dataframe to an interactive table.\"\n",
              "              style=\"display:none;\">\n",
              "        \n",
              "  <svg xmlns=\"http://www.w3.org/2000/svg\" height=\"24px\"viewBox=\"0 0 24 24\"\n",
              "       width=\"24px\">\n",
              "    <path d=\"M0 0h24v24H0V0z\" fill=\"none\"/>\n",
              "    <path d=\"M18.56 5.44l.94 2.06.94-2.06 2.06-.94-2.06-.94-.94-2.06-.94 2.06-2.06.94zm-11 1L8.5 8.5l.94-2.06 2.06-.94-2.06-.94L8.5 2.5l-.94 2.06-2.06.94zm10 10l.94 2.06.94-2.06 2.06-.94-2.06-.94-.94-2.06-.94 2.06-2.06.94z\"/><path d=\"M17.41 7.96l-1.37-1.37c-.4-.4-.92-.59-1.43-.59-.52 0-1.04.2-1.43.59L10.3 9.45l-7.72 7.72c-.78.78-.78 2.05 0 2.83L4 21.41c.39.39.9.59 1.41.59.51 0 1.02-.2 1.41-.59l7.78-7.78 2.81-2.81c.8-.78.8-2.07 0-2.86zM5.41 20L4 18.59l7.72-7.72 1.47 1.35L5.41 20z\"/>\n",
              "  </svg>\n",
              "      </button>\n",
              "      \n",
              "  <style>\n",
              "    .colab-df-container {\n",
              "      display:flex;\n",
              "      flex-wrap:wrap;\n",
              "      gap: 12px;\n",
              "    }\n",
              "\n",
              "    .colab-df-convert {\n",
              "      background-color: #E8F0FE;\n",
              "      border: none;\n",
              "      border-radius: 50%;\n",
              "      cursor: pointer;\n",
              "      display: none;\n",
              "      fill: #1967D2;\n",
              "      height: 32px;\n",
              "      padding: 0 0 0 0;\n",
              "      width: 32px;\n",
              "    }\n",
              "\n",
              "    .colab-df-convert:hover {\n",
              "      background-color: #E2EBFA;\n",
              "      box-shadow: 0px 1px 2px rgba(60, 64, 67, 0.3), 0px 1px 3px 1px rgba(60, 64, 67, 0.15);\n",
              "      fill: #174EA6;\n",
              "    }\n",
              "\n",
              "    [theme=dark] .colab-df-convert {\n",
              "      background-color: #3B4455;\n",
              "      fill: #D2E3FC;\n",
              "    }\n",
              "\n",
              "    [theme=dark] .colab-df-convert:hover {\n",
              "      background-color: #434B5C;\n",
              "      box-shadow: 0px 1px 3px 1px rgba(0, 0, 0, 0.15);\n",
              "      filter: drop-shadow(0px 1px 2px rgba(0, 0, 0, 0.3));\n",
              "      fill: #FFFFFF;\n",
              "    }\n",
              "  </style>\n",
              "\n",
              "      <script>\n",
              "        const buttonEl =\n",
              "          document.querySelector('#df-4f58c519-0c60-477c-8b95-0ea678ba3772 button.colab-df-convert');\n",
              "        buttonEl.style.display =\n",
              "          google.colab.kernel.accessAllowed ? 'block' : 'none';\n",
              "\n",
              "        async function convertToInteractive(key) {\n",
              "          const element = document.querySelector('#df-4f58c519-0c60-477c-8b95-0ea678ba3772');\n",
              "          const dataTable =\n",
              "            await google.colab.kernel.invokeFunction('convertToInteractive',\n",
              "                                                     [key], {});\n",
              "          if (!dataTable) return;\n",
              "\n",
              "          const docLinkHtml = 'Like what you see? Visit the ' +\n",
              "            '<a target=\"_blank\" href=https://colab.research.google.com/notebooks/data_table.ipynb>data table notebook</a>'\n",
              "            + ' to learn more about interactive tables.';\n",
              "          element.innerHTML = '';\n",
              "          dataTable['output_type'] = 'display_data';\n",
              "          await google.colab.output.renderOutput(dataTable, element);\n",
              "          const docLink = document.createElement('div');\n",
              "          docLink.innerHTML = docLinkHtml;\n",
              "          element.appendChild(docLink);\n",
              "        }\n",
              "      </script>\n",
              "    </div>\n",
              "  </div>\n",
              "  "
            ]
          },
          "metadata": {},
          "execution_count": 35
        }
      ]
    },
    {
      "cell_type": "markdown",
      "source": [
        "**Runtime ve IMDB Derecelendirmesi Arasındaki İlişki**"
      ],
      "metadata": {
        "id": "OGHQChX8X1_g"
      }
    },
    {
      "cell_type": "code",
      "source": [
        "df[\"Runtime\"].corr(df[\"IMDB Score\"])"
      ],
      "metadata": {
        "colab": {
          "base_uri": "https://localhost:8080/"
        },
        "id": "xwTSNjkyX5q9",
        "outputId": "99a156a2-f5ec-4b90-8ba6-c21b493e7db7"
      },
      "execution_count": 36,
      "outputs": [
        {
          "output_type": "execute_result",
          "data": {
            "text/plain": [
              "-0.04089629142078858"
            ]
          },
          "metadata": {},
          "execution_count": 36
        }
      ]
    },
    {
      "cell_type": "code",
      "source": [
        "df[[\"IMDB Score\", \"Runtime\"]].corr()"
      ],
      "metadata": {
        "colab": {
          "base_uri": "https://localhost:8080/",
          "height": 112
        },
        "id": "DmU4wiaWYA7-",
        "outputId": "a97a0851-58af-49bf-d693-6e9fde95833b"
      },
      "execution_count": 37,
      "outputs": [
        {
          "output_type": "execute_result",
          "data": {
            "text/plain": [
              "            IMDB Score   Runtime\n",
              "IMDB Score    1.000000 -0.040896\n",
              "Runtime      -0.040896  1.000000"
            ],
            "text/html": [
              "\n",
              "  <div id=\"df-ecb1c617-b523-4309-b487-0cce528853ae\">\n",
              "    <div class=\"colab-df-container\">\n",
              "      <div>\n",
              "<style scoped>\n",
              "    .dataframe tbody tr th:only-of-type {\n",
              "        vertical-align: middle;\n",
              "    }\n",
              "\n",
              "    .dataframe tbody tr th {\n",
              "        vertical-align: top;\n",
              "    }\n",
              "\n",
              "    .dataframe thead th {\n",
              "        text-align: right;\n",
              "    }\n",
              "</style>\n",
              "<table border=\"1\" class=\"dataframe\">\n",
              "  <thead>\n",
              "    <tr style=\"text-align: right;\">\n",
              "      <th></th>\n",
              "      <th>IMDB Score</th>\n",
              "      <th>Runtime</th>\n",
              "    </tr>\n",
              "  </thead>\n",
              "  <tbody>\n",
              "    <tr>\n",
              "      <th>IMDB Score</th>\n",
              "      <td>1.000000</td>\n",
              "      <td>-0.040896</td>\n",
              "    </tr>\n",
              "    <tr>\n",
              "      <th>Runtime</th>\n",
              "      <td>-0.040896</td>\n",
              "      <td>1.000000</td>\n",
              "    </tr>\n",
              "  </tbody>\n",
              "</table>\n",
              "</div>\n",
              "      <button class=\"colab-df-convert\" onclick=\"convertToInteractive('df-ecb1c617-b523-4309-b487-0cce528853ae')\"\n",
              "              title=\"Convert this dataframe to an interactive table.\"\n",
              "              style=\"display:none;\">\n",
              "        \n",
              "  <svg xmlns=\"http://www.w3.org/2000/svg\" height=\"24px\"viewBox=\"0 0 24 24\"\n",
              "       width=\"24px\">\n",
              "    <path d=\"M0 0h24v24H0V0z\" fill=\"none\"/>\n",
              "    <path d=\"M18.56 5.44l.94 2.06.94-2.06 2.06-.94-2.06-.94-.94-2.06-.94 2.06-2.06.94zm-11 1L8.5 8.5l.94-2.06 2.06-.94-2.06-.94L8.5 2.5l-.94 2.06-2.06.94zm10 10l.94 2.06.94-2.06 2.06-.94-2.06-.94-.94-2.06-.94 2.06-2.06.94z\"/><path d=\"M17.41 7.96l-1.37-1.37c-.4-.4-.92-.59-1.43-.59-.52 0-1.04.2-1.43.59L10.3 9.45l-7.72 7.72c-.78.78-.78 2.05 0 2.83L4 21.41c.39.39.9.59 1.41.59.51 0 1.02-.2 1.41-.59l7.78-7.78 2.81-2.81c.8-.78.8-2.07 0-2.86zM5.41 20L4 18.59l7.72-7.72 1.47 1.35L5.41 20z\"/>\n",
              "  </svg>\n",
              "      </button>\n",
              "      \n",
              "  <style>\n",
              "    .colab-df-container {\n",
              "      display:flex;\n",
              "      flex-wrap:wrap;\n",
              "      gap: 12px;\n",
              "    }\n",
              "\n",
              "    .colab-df-convert {\n",
              "      background-color: #E8F0FE;\n",
              "      border: none;\n",
              "      border-radius: 50%;\n",
              "      cursor: pointer;\n",
              "      display: none;\n",
              "      fill: #1967D2;\n",
              "      height: 32px;\n",
              "      padding: 0 0 0 0;\n",
              "      width: 32px;\n",
              "    }\n",
              "\n",
              "    .colab-df-convert:hover {\n",
              "      background-color: #E2EBFA;\n",
              "      box-shadow: 0px 1px 2px rgba(60, 64, 67, 0.3), 0px 1px 3px 1px rgba(60, 64, 67, 0.15);\n",
              "      fill: #174EA6;\n",
              "    }\n",
              "\n",
              "    [theme=dark] .colab-df-convert {\n",
              "      background-color: #3B4455;\n",
              "      fill: #D2E3FC;\n",
              "    }\n",
              "\n",
              "    [theme=dark] .colab-df-convert:hover {\n",
              "      background-color: #434B5C;\n",
              "      box-shadow: 0px 1px 3px 1px rgba(0, 0, 0, 0.15);\n",
              "      filter: drop-shadow(0px 1px 2px rgba(0, 0, 0, 0.3));\n",
              "      fill: #FFFFFF;\n",
              "    }\n",
              "  </style>\n",
              "\n",
              "      <script>\n",
              "        const buttonEl =\n",
              "          document.querySelector('#df-ecb1c617-b523-4309-b487-0cce528853ae button.colab-df-convert');\n",
              "        buttonEl.style.display =\n",
              "          google.colab.kernel.accessAllowed ? 'block' : 'none';\n",
              "\n",
              "        async function convertToInteractive(key) {\n",
              "          const element = document.querySelector('#df-ecb1c617-b523-4309-b487-0cce528853ae');\n",
              "          const dataTable =\n",
              "            await google.colab.kernel.invokeFunction('convertToInteractive',\n",
              "                                                     [key], {});\n",
              "          if (!dataTable) return;\n",
              "\n",
              "          const docLinkHtml = 'Like what you see? Visit the ' +\n",
              "            '<a target=\"_blank\" href=https://colab.research.google.com/notebooks/data_table.ipynb>data table notebook</a>'\n",
              "            + ' to learn more about interactive tables.';\n",
              "          element.innerHTML = '';\n",
              "          dataTable['output_type'] = 'display_data';\n",
              "          await google.colab.output.renderOutput(dataTable, element);\n",
              "          const docLink = document.createElement('div');\n",
              "          docLink.innerHTML = docLinkHtml;\n",
              "          element.appendChild(docLink);\n",
              "        }\n",
              "      </script>\n",
              "    </div>\n",
              "  </div>\n",
              "  "
            ]
          },
          "metadata": {},
          "execution_count": 37
        }
      ]
    },
    {
      "cell_type": "markdown",
      "source": [
        "*Mükemmel. Şimdi bir dağılım grafiği kullanarak Runtime ve IMDB puanına bir göz atalım*"
      ],
      "metadata": {
        "id": "bNmG2aYZYLEk"
      }
    },
    {
      "cell_type": "code",
      "source": [
        "fig = px.scatter(data_frame=df, x=\"IMDB Score\", y=\"Runtime\")\n",
        "fig.update_layout(autosize=False, width=800, height=600,)\n",
        "\n",
        "fig.show()"
      ],
      "metadata": {
        "colab": {
          "base_uri": "https://localhost:8080/",
          "height": 617
        },
        "id": "Yr1feWRgYMOl",
        "outputId": "37029113-aa6c-42f0-ae35-fc336bf450d5"
      },
      "execution_count": 38,
      "outputs": [
        {
          "output_type": "display_data",
          "data": {
            "text/html": [
              "<html>\n",
              "<head><meta charset=\"utf-8\" /></head>\n",
              "<body>\n",
              "    <div>            <script src=\"https://cdnjs.cloudflare.com/ajax/libs/mathjax/2.7.5/MathJax.js?config=TeX-AMS-MML_SVG\"></script><script type=\"text/javascript\">if (window.MathJax) {MathJax.Hub.Config({SVG: {font: \"STIX-Web\"}});}</script>                <script type=\"text/javascript\">window.PlotlyConfig = {MathJaxConfig: 'local'};</script>\n",
              "        <script src=\"https://cdn.plot.ly/plotly-2.8.3.min.js\"></script>                <div id=\"4f51c463-8d07-4456-bc39-aa96415d4450\" class=\"plotly-graph-div\" style=\"height:600px; width:800px;\"></div>            <script type=\"text/javascript\">                                    window.PLOTLYENV=window.PLOTLYENV || {};                                    if (document.getElementById(\"4f51c463-8d07-4456-bc39-aa96415d4450\")) {                    Plotly.newPlot(                        \"4f51c463-8d07-4456-bc39-aa96415d4450\",                        [{\"hovertemplate\":\"IMDB Score=%{x}<br>Runtime=%{y}<extra></extra>\",\"legendgroup\":\"\",\"marker\":{\"color\":\"#636efa\",\"symbol\":\"circle\"},\"mode\":\"markers\",\"name\":\"\",\"orientation\":\"v\",\"showlegend\":false,\"x\":[2.5,2.6,2.6,3.2,3.4,3.5,3.7,3.7,3.9,4.1,4.1,4.1,4.1,4.2,4.2,4.3,4.3,4.3,4.3,4.4,4.4,4.4,4.4,4.4,4.4,4.5,4.5,4.5,4.5,4.6,4.6,4.6,4.6,4.6,4.6,4.6,4.6,4.7,4.7,4.7,4.7,4.7,4.7,4.8,4.8,4.8,4.8,4.8,4.8,4.8,4.9,4.9,4.9,4.9,5.0,5.0,5.0,5.0,5.0,5.1,5.1,5.1,5.1,5.1,5.1,5.2,5.2,5.2,5.2,5.2,5.2,5.2,5.2,5.2,5.2,5.2,5.2,5.2,5.2,5.2,5.2,5.2,5.2,5.2,5.3,5.3,5.3,5.3,5.3,5.3,5.3,5.3,5.3,5.3,5.4,5.4,5.4,5.4,5.4,5.4,5.4,5.4,5.4,5.4,5.4,5.4,5.4,5.5,5.5,5.5,5.5,5.5,5.5,5.5,5.5,5.5,5.5,5.5,5.5,5.5,5.5,5.5,5.5,5.5,5.5,5.5,5.6,5.6,5.6,5.6,5.6,5.6,5.6,5.6,5.6,5.6,5.6,5.6,5.6,5.6,5.6,5.7,5.7,5.7,5.7,5.7,5.7,5.7,5.7,5.7,5.7,5.7,5.7,5.7,5.7,5.7,5.7,5.7,5.7,5.7,5.7,5.8,5.8,5.8,5.8,5.8,5.8,5.8,5.8,5.8,5.8,5.8,5.8,5.8,5.8,5.8,5.8,5.8,5.8,5.8,5.8,5.8,5.8,5.8,5.8,5.8,5.8,5.8,5.8,5.8,5.8,5.9,5.9,5.9,5.9,5.9,5.9,5.9,5.9,5.9,5.9,5.9,5.9,5.9,5.9,5.9,5.9,6.0,6.0,6.0,6.0,6.0,6.0,6.0,6.0,6.0,6.0,6.0,6.0,6.0,6.1,6.1,6.1,6.1,6.1,6.1,6.1,6.1,6.1,6.1,6.1,6.1,6.1,6.1,6.1,6.1,6.1,6.1,6.1,6.1,6.1,6.1,6.1,6.1,6.2,6.2,6.2,6.2,6.2,6.2,6.2,6.2,6.2,6.2,6.2,6.2,6.2,6.2,6.2,6.2,6.2,6.2,6.3,6.3,6.3,6.3,6.3,6.3,6.3,6.3,6.3,6.3,6.3,6.3,6.3,6.3,6.3,6.3,6.3,6.3,6.3,6.3,6.3,6.3,6.3,6.3,6.3,6.3,6.3,6.3,6.3,6.3,6.4,6.4,6.4,6.4,6.4,6.4,6.4,6.4,6.4,6.4,6.4,6.4,6.4,6.4,6.4,6.4,6.4,6.4,6.4,6.4,6.4,6.4,6.4,6.4,6.4,6.4,6.4,6.4,6.5,6.5,6.5,6.5,6.5,6.5,6.5,6.5,6.5,6.5,6.5,6.5,6.5,6.5,6.5,6.5,6.5,6.5,6.5,6.5,6.5,6.5,6.5,6.5,6.5,6.5,6.6,6.6,6.6,6.6,6.6,6.6,6.6,6.6,6.6,6.6,6.6,6.6,6.6,6.6,6.6,6.6,6.6,6.6,6.7,6.7,6.7,6.7,6.7,6.7,6.7,6.7,6.7,6.7,6.7,6.7,6.7,6.7,6.7,6.7,6.7,6.7,6.7,6.7,6.7,6.7,6.7,6.7,6.7,6.8,6.8,6.8,6.8,6.8,6.8,6.8,6.8,6.8,6.8,6.8,6.8,6.8,6.8,6.8,6.8,6.8,6.8,6.8,6.8,6.8,6.8,6.8,6.8,6.9,6.9,6.9,6.9,6.9,6.9,6.9,6.9,6.9,6.9,6.9,6.9,6.9,6.9,6.9,6.9,6.9,6.9,6.9,7.0,7.0,7.0,7.0,7.0,7.0,7.0,7.0,7.0,7.0,7.0,7.0,7.0,7.0,7.0,7.0,7.0,7.0,7.0,7.1,7.1,7.1,7.1,7.1,7.1,7.1,7.1,7.1,7.1,7.1,7.1,7.1,7.1,7.1,7.1,7.1,7.1,7.1,7.1,7.1,7.1,7.1,7.1,7.1,7.1,7.1,7.1,7.2,7.2,7.2,7.2,7.2,7.2,7.2,7.2,7.2,7.2,7.2,7.2,7.2,7.2,7.2,7.2,7.2,7.2,7.2,7.2,7.3,7.3,7.3,7.3,7.3,7.3,7.3,7.3,7.3,7.3,7.3,7.3,7.3,7.3,7.3,7.3,7.3,7.3,7.3,7.3,7.3,7.4,7.4,7.4,7.4,7.4,7.4,7.4,7.4,7.4,7.4,7.4,7.4,7.5,7.5,7.5,7.5,7.5,7.5,7.5,7.5,7.5,7.5,7.6,7.6,7.6,7.6,7.6,7.6,7.6,7.6,7.6,7.6,7.7,7.7,7.7,7.7,7.7,7.7,7.7,7.7,7.8,7.8,7.8,7.9,7.9,7.9,7.9,8.0,8.1,8.1,8.1,8.2,8.2,8.2,8.2,8.2,8.3,8.3,8.4,8.4,8.4,8.5,8.6,9.0],\"xaxis\":\"x\",\"y\":[58,81,79,94,90,147,112,149,73,139,58,112,97,101,90,25,144,115,102,100,64,97,99,120,105,89,97,107,99,95,37,89,83,46,85,88,86,105,95,80,4,93,100,106,97,106,103,80,101,119,80,89,94,93,96,113,86,100,102,86,104,88,97,105,90,99,10,106,98,94,112,117,70,81,103,94,98,131,87,60,112,102,99,116,92,83,97,112,116,102,121,95,93,92,98,85,78,120,92,101,119,101,112,96,114,97,101,56,100,94,94,21,104,63,100,126,106,86,142,108,102,92,83,94,92,103,89,95,103,97,125,91,90,49,98,107,118,94,103,86,83,97,99,104,102,89,98,125,89,94,94,85,34,86,91,108,95,100,90,112,86,124,107,92,121,90,104,92,114,98,95,78,107,92,95,96,118,105,94,52,105,95,100,97,89,102,96,131,89,93,111,75,120,96,148,94,107,32,104,23,111,83,53,95,132,98,108,106,104,90,106,90,97,113,123,115,105,101,102,122,128,82,102,80,94,123,104,85,84,103,95,100,89,116,118,96,114,99,87,92,90,95,96,93,42,92,106,151,101,114,90,115,92,72,139,98,92,111,98,104,95,88,102,30,99,129,87,117,104,111,107,97,98,90,101,72,83,118,44,113,86,108,85,102,151,98,87,120,134,109,85,103,94,97,88,37,112,102,100,96,113,16,119,97,81,98,95,96,107,41,87,101,97,103,90,125,116,99,82,97,28,108,93,74,60,9,21,100,155,55,123,103,93,119,40,120,98,104,91,95,101,105,83,91,83,17,86,124,94,102,118,79,134,126,98,89,58,83,136,98,114,99,130,32,104,142,92,86,106,95,91,89,117,90,117,80,87,101,19,106,54,111,132,97,106,111,124,116,112,144,76,101,92,19,39,102,89,105,101,70,96,85,39,79,73,114,121,28,95,122,23,107,98,108,92,100,97,7,96,100,132,103,121,114,57,95,83,17,105,131,30,112,86,100,14,109,28,64,94,31,99,108,48,84,70,27,45,117,104,108,121,36,30,47,110,92,80,49,73,40,96,106,97,94,78,81,87,91,91,95,126,31,58,41,138,112,114,125,99,82,98,136,97,107,92,39,133,89,124,99,101,97,124,129,121,140,13,108,11,118,121,24,100,101,105,96,47,121,100,149,64,64,114,15,79,90,132,105,97,83,110,39,40,85,26,87,97,118,23,40,98,80,108,79,74,90,137,71,98,70,99,40,104,149,124,144,85,100,94,125,84,117,15,136,76,108,94,90,72,135,12,209,130,82,120,136,112,105,89,85,106,100,107,97,89,109,114,51,85,125,91,153,89,83],\"yaxis\":\"y\",\"type\":\"scatter\"}],                        {\"template\":{\"data\":{\"bar\":[{\"error_x\":{\"color\":\"#2a3f5f\"},\"error_y\":{\"color\":\"#2a3f5f\"},\"marker\":{\"line\":{\"color\":\"#E5ECF6\",\"width\":0.5},\"pattern\":{\"fillmode\":\"overlay\",\"size\":10,\"solidity\":0.2}},\"type\":\"bar\"}],\"barpolar\":[{\"marker\":{\"line\":{\"color\":\"#E5ECF6\",\"width\":0.5},\"pattern\":{\"fillmode\":\"overlay\",\"size\":10,\"solidity\":0.2}},\"type\":\"barpolar\"}],\"carpet\":[{\"aaxis\":{\"endlinecolor\":\"#2a3f5f\",\"gridcolor\":\"white\",\"linecolor\":\"white\",\"minorgridcolor\":\"white\",\"startlinecolor\":\"#2a3f5f\"},\"baxis\":{\"endlinecolor\":\"#2a3f5f\",\"gridcolor\":\"white\",\"linecolor\":\"white\",\"minorgridcolor\":\"white\",\"startlinecolor\":\"#2a3f5f\"},\"type\":\"carpet\"}],\"choropleth\":[{\"colorbar\":{\"outlinewidth\":0,\"ticks\":\"\"},\"type\":\"choropleth\"}],\"contour\":[{\"colorbar\":{\"outlinewidth\":0,\"ticks\":\"\"},\"colorscale\":[[0.0,\"#0d0887\"],[0.1111111111111111,\"#46039f\"],[0.2222222222222222,\"#7201a8\"],[0.3333333333333333,\"#9c179e\"],[0.4444444444444444,\"#bd3786\"],[0.5555555555555556,\"#d8576b\"],[0.6666666666666666,\"#ed7953\"],[0.7777777777777778,\"#fb9f3a\"],[0.8888888888888888,\"#fdca26\"],[1.0,\"#f0f921\"]],\"type\":\"contour\"}],\"contourcarpet\":[{\"colorbar\":{\"outlinewidth\":0,\"ticks\":\"\"},\"type\":\"contourcarpet\"}],\"heatmap\":[{\"colorbar\":{\"outlinewidth\":0,\"ticks\":\"\"},\"colorscale\":[[0.0,\"#0d0887\"],[0.1111111111111111,\"#46039f\"],[0.2222222222222222,\"#7201a8\"],[0.3333333333333333,\"#9c179e\"],[0.4444444444444444,\"#bd3786\"],[0.5555555555555556,\"#d8576b\"],[0.6666666666666666,\"#ed7953\"],[0.7777777777777778,\"#fb9f3a\"],[0.8888888888888888,\"#fdca26\"],[1.0,\"#f0f921\"]],\"type\":\"heatmap\"}],\"heatmapgl\":[{\"colorbar\":{\"outlinewidth\":0,\"ticks\":\"\"},\"colorscale\":[[0.0,\"#0d0887\"],[0.1111111111111111,\"#46039f\"],[0.2222222222222222,\"#7201a8\"],[0.3333333333333333,\"#9c179e\"],[0.4444444444444444,\"#bd3786\"],[0.5555555555555556,\"#d8576b\"],[0.6666666666666666,\"#ed7953\"],[0.7777777777777778,\"#fb9f3a\"],[0.8888888888888888,\"#fdca26\"],[1.0,\"#f0f921\"]],\"type\":\"heatmapgl\"}],\"histogram\":[{\"marker\":{\"pattern\":{\"fillmode\":\"overlay\",\"size\":10,\"solidity\":0.2}},\"type\":\"histogram\"}],\"histogram2d\":[{\"colorbar\":{\"outlinewidth\":0,\"ticks\":\"\"},\"colorscale\":[[0.0,\"#0d0887\"],[0.1111111111111111,\"#46039f\"],[0.2222222222222222,\"#7201a8\"],[0.3333333333333333,\"#9c179e\"],[0.4444444444444444,\"#bd3786\"],[0.5555555555555556,\"#d8576b\"],[0.6666666666666666,\"#ed7953\"],[0.7777777777777778,\"#fb9f3a\"],[0.8888888888888888,\"#fdca26\"],[1.0,\"#f0f921\"]],\"type\":\"histogram2d\"}],\"histogram2dcontour\":[{\"colorbar\":{\"outlinewidth\":0,\"ticks\":\"\"},\"colorscale\":[[0.0,\"#0d0887\"],[0.1111111111111111,\"#46039f\"],[0.2222222222222222,\"#7201a8\"],[0.3333333333333333,\"#9c179e\"],[0.4444444444444444,\"#bd3786\"],[0.5555555555555556,\"#d8576b\"],[0.6666666666666666,\"#ed7953\"],[0.7777777777777778,\"#fb9f3a\"],[0.8888888888888888,\"#fdca26\"],[1.0,\"#f0f921\"]],\"type\":\"histogram2dcontour\"}],\"mesh3d\":[{\"colorbar\":{\"outlinewidth\":0,\"ticks\":\"\"},\"type\":\"mesh3d\"}],\"parcoords\":[{\"line\":{\"colorbar\":{\"outlinewidth\":0,\"ticks\":\"\"}},\"type\":\"parcoords\"}],\"pie\":[{\"automargin\":true,\"type\":\"pie\"}],\"scatter\":[{\"marker\":{\"colorbar\":{\"outlinewidth\":0,\"ticks\":\"\"}},\"type\":\"scatter\"}],\"scatter3d\":[{\"line\":{\"colorbar\":{\"outlinewidth\":0,\"ticks\":\"\"}},\"marker\":{\"colorbar\":{\"outlinewidth\":0,\"ticks\":\"\"}},\"type\":\"scatter3d\"}],\"scattercarpet\":[{\"marker\":{\"colorbar\":{\"outlinewidth\":0,\"ticks\":\"\"}},\"type\":\"scattercarpet\"}],\"scattergeo\":[{\"marker\":{\"colorbar\":{\"outlinewidth\":0,\"ticks\":\"\"}},\"type\":\"scattergeo\"}],\"scattergl\":[{\"marker\":{\"colorbar\":{\"outlinewidth\":0,\"ticks\":\"\"}},\"type\":\"scattergl\"}],\"scattermapbox\":[{\"marker\":{\"colorbar\":{\"outlinewidth\":0,\"ticks\":\"\"}},\"type\":\"scattermapbox\"}],\"scatterpolar\":[{\"marker\":{\"colorbar\":{\"outlinewidth\":0,\"ticks\":\"\"}},\"type\":\"scatterpolar\"}],\"scatterpolargl\":[{\"marker\":{\"colorbar\":{\"outlinewidth\":0,\"ticks\":\"\"}},\"type\":\"scatterpolargl\"}],\"scatterternary\":[{\"marker\":{\"colorbar\":{\"outlinewidth\":0,\"ticks\":\"\"}},\"type\":\"scatterternary\"}],\"surface\":[{\"colorbar\":{\"outlinewidth\":0,\"ticks\":\"\"},\"colorscale\":[[0.0,\"#0d0887\"],[0.1111111111111111,\"#46039f\"],[0.2222222222222222,\"#7201a8\"],[0.3333333333333333,\"#9c179e\"],[0.4444444444444444,\"#bd3786\"],[0.5555555555555556,\"#d8576b\"],[0.6666666666666666,\"#ed7953\"],[0.7777777777777778,\"#fb9f3a\"],[0.8888888888888888,\"#fdca26\"],[1.0,\"#f0f921\"]],\"type\":\"surface\"}],\"table\":[{\"cells\":{\"fill\":{\"color\":\"#EBF0F8\"},\"line\":{\"color\":\"white\"}},\"header\":{\"fill\":{\"color\":\"#C8D4E3\"},\"line\":{\"color\":\"white\"}},\"type\":\"table\"}]},\"layout\":{\"annotationdefaults\":{\"arrowcolor\":\"#2a3f5f\",\"arrowhead\":0,\"arrowwidth\":1},\"autotypenumbers\":\"strict\",\"coloraxis\":{\"colorbar\":{\"outlinewidth\":0,\"ticks\":\"\"}},\"colorscale\":{\"diverging\":[[0,\"#8e0152\"],[0.1,\"#c51b7d\"],[0.2,\"#de77ae\"],[0.3,\"#f1b6da\"],[0.4,\"#fde0ef\"],[0.5,\"#f7f7f7\"],[0.6,\"#e6f5d0\"],[0.7,\"#b8e186\"],[0.8,\"#7fbc41\"],[0.9,\"#4d9221\"],[1,\"#276419\"]],\"sequential\":[[0.0,\"#0d0887\"],[0.1111111111111111,\"#46039f\"],[0.2222222222222222,\"#7201a8\"],[0.3333333333333333,\"#9c179e\"],[0.4444444444444444,\"#bd3786\"],[0.5555555555555556,\"#d8576b\"],[0.6666666666666666,\"#ed7953\"],[0.7777777777777778,\"#fb9f3a\"],[0.8888888888888888,\"#fdca26\"],[1.0,\"#f0f921\"]],\"sequentialminus\":[[0.0,\"#0d0887\"],[0.1111111111111111,\"#46039f\"],[0.2222222222222222,\"#7201a8\"],[0.3333333333333333,\"#9c179e\"],[0.4444444444444444,\"#bd3786\"],[0.5555555555555556,\"#d8576b\"],[0.6666666666666666,\"#ed7953\"],[0.7777777777777778,\"#fb9f3a\"],[0.8888888888888888,\"#fdca26\"],[1.0,\"#f0f921\"]]},\"colorway\":[\"#636efa\",\"#EF553B\",\"#00cc96\",\"#ab63fa\",\"#FFA15A\",\"#19d3f3\",\"#FF6692\",\"#B6E880\",\"#FF97FF\",\"#FECB52\"],\"font\":{\"color\":\"#2a3f5f\"},\"geo\":{\"bgcolor\":\"white\",\"lakecolor\":\"white\",\"landcolor\":\"#E5ECF6\",\"showlakes\":true,\"showland\":true,\"subunitcolor\":\"white\"},\"hoverlabel\":{\"align\":\"left\"},\"hovermode\":\"closest\",\"mapbox\":{\"style\":\"light\"},\"paper_bgcolor\":\"white\",\"plot_bgcolor\":\"#E5ECF6\",\"polar\":{\"angularaxis\":{\"gridcolor\":\"white\",\"linecolor\":\"white\",\"ticks\":\"\"},\"bgcolor\":\"#E5ECF6\",\"radialaxis\":{\"gridcolor\":\"white\",\"linecolor\":\"white\",\"ticks\":\"\"}},\"scene\":{\"xaxis\":{\"backgroundcolor\":\"#E5ECF6\",\"gridcolor\":\"white\",\"gridwidth\":2,\"linecolor\":\"white\",\"showbackground\":true,\"ticks\":\"\",\"zerolinecolor\":\"white\"},\"yaxis\":{\"backgroundcolor\":\"#E5ECF6\",\"gridcolor\":\"white\",\"gridwidth\":2,\"linecolor\":\"white\",\"showbackground\":true,\"ticks\":\"\",\"zerolinecolor\":\"white\"},\"zaxis\":{\"backgroundcolor\":\"#E5ECF6\",\"gridcolor\":\"white\",\"gridwidth\":2,\"linecolor\":\"white\",\"showbackground\":true,\"ticks\":\"\",\"zerolinecolor\":\"white\"}},\"shapedefaults\":{\"line\":{\"color\":\"#2a3f5f\"}},\"ternary\":{\"aaxis\":{\"gridcolor\":\"white\",\"linecolor\":\"white\",\"ticks\":\"\"},\"baxis\":{\"gridcolor\":\"white\",\"linecolor\":\"white\",\"ticks\":\"\"},\"bgcolor\":\"#E5ECF6\",\"caxis\":{\"gridcolor\":\"white\",\"linecolor\":\"white\",\"ticks\":\"\"}},\"title\":{\"x\":0.05},\"xaxis\":{\"automargin\":true,\"gridcolor\":\"white\",\"linecolor\":\"white\",\"ticks\":\"\",\"title\":{\"standoff\":15},\"zerolinecolor\":\"white\",\"zerolinewidth\":2},\"yaxis\":{\"automargin\":true,\"gridcolor\":\"white\",\"linecolor\":\"white\",\"ticks\":\"\",\"title\":{\"standoff\":15},\"zerolinecolor\":\"white\",\"zerolinewidth\":2}}},\"xaxis\":{\"anchor\":\"y\",\"domain\":[0.0,1.0],\"title\":{\"text\":\"IMDB Score\"}},\"yaxis\":{\"anchor\":\"x\",\"domain\":[0.0,1.0],\"title\":{\"text\":\"Runtime\"}},\"legend\":{\"tracegroupgap\":0},\"margin\":{\"t\":60},\"autosize\":false,\"width\":800,\"height\":600},                        {\"responsive\": true}                    ).then(function(){\n",
              "                            \n",
              "var gd = document.getElementById('4f51c463-8d07-4456-bc39-aa96415d4450');\n",
              "var x = new MutationObserver(function (mutations, observer) {{\n",
              "        var display = window.getComputedStyle(gd).display;\n",
              "        if (!display || display === 'none') {{\n",
              "            console.log([gd, 'removed!']);\n",
              "            Plotly.purge(gd);\n",
              "            observer.disconnect();\n",
              "        }}\n",
              "}});\n",
              "\n",
              "// Listen for the removal of the full notebook cells\n",
              "var notebookContainer = gd.closest('#notebook-container');\n",
              "if (notebookContainer) {{\n",
              "    x.observe(notebookContainer, {childList: true});\n",
              "}}\n",
              "\n",
              "// Listen for the clearing of the current output cell\n",
              "var outputEl = gd.closest('.output');\n",
              "if (outputEl) {{\n",
              "    x.observe(outputEl, {childList: true});\n",
              "}}\n",
              "\n",
              "                        })                };                            </script>        </div>\n",
              "</body>\n",
              "</html>"
            ]
          },
          "metadata": {}
        }
      ]
    },
    {
      "cell_type": "markdown",
      "source": [
        "**Yıl bazında analiz**\n",
        " * **Hangi yılda en fazla film yayımlanmıştır? Görselleştiriniz.**"
      ],
      "metadata": {
        "id": "9H6WeR50Ymvg"
      }
    },
    {
      "cell_type": "code",
      "source": [
        "year = df.Year.value_counts()\n",
        "year"
      ],
      "metadata": {
        "id": "6SSPyZC5YMvq",
        "colab": {
          "base_uri": "https://localhost:8080/"
        },
        "outputId": "a3678dc9-df8f-45e1-acdc-05d2a18aacc3"
      },
      "execution_count": 39,
      "outputs": [
        {
          "output_type": "execute_result",
          "data": {
            "text/plain": [
              "2020    183\n",
              "2019    125\n",
              "2018     99\n",
              "2021     71\n",
              "2017     66\n",
              "2016     30\n",
              "2015      9\n",
              "2014      1\n",
              "Name: Year, dtype: int64"
            ]
          },
          "metadata": {},
          "execution_count": 39
        }
      ]
    },
    {
      "cell_type": "code",
      "source": [
        "fig = px.bar(data_frame=df, x=year.index, y=year.values, labels={\"y\":\"Movies\", \"x\":\"Year\"})\n",
        "fig.update_layout(xaxis={'categoryorder':'total descending'})\n",
        "\n",
        "fig.show()"
      ],
      "metadata": {
        "colab": {
          "base_uri": "https://localhost:8080/",
          "height": 542
        },
        "id": "UW9cQLIPztFB",
        "outputId": "136f5f77-b5b3-47cc-c11e-7af110b60f13"
      },
      "execution_count": 40,
      "outputs": [
        {
          "output_type": "display_data",
          "data": {
            "text/html": [
              "<html>\n",
              "<head><meta charset=\"utf-8\" /></head>\n",
              "<body>\n",
              "    <div>            <script src=\"https://cdnjs.cloudflare.com/ajax/libs/mathjax/2.7.5/MathJax.js?config=TeX-AMS-MML_SVG\"></script><script type=\"text/javascript\">if (window.MathJax) {MathJax.Hub.Config({SVG: {font: \"STIX-Web\"}});}</script>                <script type=\"text/javascript\">window.PlotlyConfig = {MathJaxConfig: 'local'};</script>\n",
              "        <script src=\"https://cdn.plot.ly/plotly-2.8.3.min.js\"></script>                <div id=\"3491a7df-f797-41a3-b80f-b81e1ead5800\" class=\"plotly-graph-div\" style=\"height:525px; width:100%;\"></div>            <script type=\"text/javascript\">                                    window.PLOTLYENV=window.PLOTLYENV || {};                                    if (document.getElementById(\"3491a7df-f797-41a3-b80f-b81e1ead5800\")) {                    Plotly.newPlot(                        \"3491a7df-f797-41a3-b80f-b81e1ead5800\",                        [{\"alignmentgroup\":\"True\",\"hovertemplate\":\"Year=%{x}<br>Movies=%{y}<extra></extra>\",\"legendgroup\":\"\",\"marker\":{\"color\":\"#636efa\",\"pattern\":{\"shape\":\"\"}},\"name\":\"\",\"offsetgroup\":\"\",\"orientation\":\"v\",\"showlegend\":false,\"textposition\":\"auto\",\"x\":[2020,2019,2018,2021,2017,2016,2015,2014],\"xaxis\":\"x\",\"y\":[183,125,99,71,66,30,9,1],\"yaxis\":\"y\",\"type\":\"bar\"}],                        {\"template\":{\"data\":{\"bar\":[{\"error_x\":{\"color\":\"#2a3f5f\"},\"error_y\":{\"color\":\"#2a3f5f\"},\"marker\":{\"line\":{\"color\":\"#E5ECF6\",\"width\":0.5},\"pattern\":{\"fillmode\":\"overlay\",\"size\":10,\"solidity\":0.2}},\"type\":\"bar\"}],\"barpolar\":[{\"marker\":{\"line\":{\"color\":\"#E5ECF6\",\"width\":0.5},\"pattern\":{\"fillmode\":\"overlay\",\"size\":10,\"solidity\":0.2}},\"type\":\"barpolar\"}],\"carpet\":[{\"aaxis\":{\"endlinecolor\":\"#2a3f5f\",\"gridcolor\":\"white\",\"linecolor\":\"white\",\"minorgridcolor\":\"white\",\"startlinecolor\":\"#2a3f5f\"},\"baxis\":{\"endlinecolor\":\"#2a3f5f\",\"gridcolor\":\"white\",\"linecolor\":\"white\",\"minorgridcolor\":\"white\",\"startlinecolor\":\"#2a3f5f\"},\"type\":\"carpet\"}],\"choropleth\":[{\"colorbar\":{\"outlinewidth\":0,\"ticks\":\"\"},\"type\":\"choropleth\"}],\"contour\":[{\"colorbar\":{\"outlinewidth\":0,\"ticks\":\"\"},\"colorscale\":[[0.0,\"#0d0887\"],[0.1111111111111111,\"#46039f\"],[0.2222222222222222,\"#7201a8\"],[0.3333333333333333,\"#9c179e\"],[0.4444444444444444,\"#bd3786\"],[0.5555555555555556,\"#d8576b\"],[0.6666666666666666,\"#ed7953\"],[0.7777777777777778,\"#fb9f3a\"],[0.8888888888888888,\"#fdca26\"],[1.0,\"#f0f921\"]],\"type\":\"contour\"}],\"contourcarpet\":[{\"colorbar\":{\"outlinewidth\":0,\"ticks\":\"\"},\"type\":\"contourcarpet\"}],\"heatmap\":[{\"colorbar\":{\"outlinewidth\":0,\"ticks\":\"\"},\"colorscale\":[[0.0,\"#0d0887\"],[0.1111111111111111,\"#46039f\"],[0.2222222222222222,\"#7201a8\"],[0.3333333333333333,\"#9c179e\"],[0.4444444444444444,\"#bd3786\"],[0.5555555555555556,\"#d8576b\"],[0.6666666666666666,\"#ed7953\"],[0.7777777777777778,\"#fb9f3a\"],[0.8888888888888888,\"#fdca26\"],[1.0,\"#f0f921\"]],\"type\":\"heatmap\"}],\"heatmapgl\":[{\"colorbar\":{\"outlinewidth\":0,\"ticks\":\"\"},\"colorscale\":[[0.0,\"#0d0887\"],[0.1111111111111111,\"#46039f\"],[0.2222222222222222,\"#7201a8\"],[0.3333333333333333,\"#9c179e\"],[0.4444444444444444,\"#bd3786\"],[0.5555555555555556,\"#d8576b\"],[0.6666666666666666,\"#ed7953\"],[0.7777777777777778,\"#fb9f3a\"],[0.8888888888888888,\"#fdca26\"],[1.0,\"#f0f921\"]],\"type\":\"heatmapgl\"}],\"histogram\":[{\"marker\":{\"pattern\":{\"fillmode\":\"overlay\",\"size\":10,\"solidity\":0.2}},\"type\":\"histogram\"}],\"histogram2d\":[{\"colorbar\":{\"outlinewidth\":0,\"ticks\":\"\"},\"colorscale\":[[0.0,\"#0d0887\"],[0.1111111111111111,\"#46039f\"],[0.2222222222222222,\"#7201a8\"],[0.3333333333333333,\"#9c179e\"],[0.4444444444444444,\"#bd3786\"],[0.5555555555555556,\"#d8576b\"],[0.6666666666666666,\"#ed7953\"],[0.7777777777777778,\"#fb9f3a\"],[0.8888888888888888,\"#fdca26\"],[1.0,\"#f0f921\"]],\"type\":\"histogram2d\"}],\"histogram2dcontour\":[{\"colorbar\":{\"outlinewidth\":0,\"ticks\":\"\"},\"colorscale\":[[0.0,\"#0d0887\"],[0.1111111111111111,\"#46039f\"],[0.2222222222222222,\"#7201a8\"],[0.3333333333333333,\"#9c179e\"],[0.4444444444444444,\"#bd3786\"],[0.5555555555555556,\"#d8576b\"],[0.6666666666666666,\"#ed7953\"],[0.7777777777777778,\"#fb9f3a\"],[0.8888888888888888,\"#fdca26\"],[1.0,\"#f0f921\"]],\"type\":\"histogram2dcontour\"}],\"mesh3d\":[{\"colorbar\":{\"outlinewidth\":0,\"ticks\":\"\"},\"type\":\"mesh3d\"}],\"parcoords\":[{\"line\":{\"colorbar\":{\"outlinewidth\":0,\"ticks\":\"\"}},\"type\":\"parcoords\"}],\"pie\":[{\"automargin\":true,\"type\":\"pie\"}],\"scatter\":[{\"marker\":{\"colorbar\":{\"outlinewidth\":0,\"ticks\":\"\"}},\"type\":\"scatter\"}],\"scatter3d\":[{\"line\":{\"colorbar\":{\"outlinewidth\":0,\"ticks\":\"\"}},\"marker\":{\"colorbar\":{\"outlinewidth\":0,\"ticks\":\"\"}},\"type\":\"scatter3d\"}],\"scattercarpet\":[{\"marker\":{\"colorbar\":{\"outlinewidth\":0,\"ticks\":\"\"}},\"type\":\"scattercarpet\"}],\"scattergeo\":[{\"marker\":{\"colorbar\":{\"outlinewidth\":0,\"ticks\":\"\"}},\"type\":\"scattergeo\"}],\"scattergl\":[{\"marker\":{\"colorbar\":{\"outlinewidth\":0,\"ticks\":\"\"}},\"type\":\"scattergl\"}],\"scattermapbox\":[{\"marker\":{\"colorbar\":{\"outlinewidth\":0,\"ticks\":\"\"}},\"type\":\"scattermapbox\"}],\"scatterpolar\":[{\"marker\":{\"colorbar\":{\"outlinewidth\":0,\"ticks\":\"\"}},\"type\":\"scatterpolar\"}],\"scatterpolargl\":[{\"marker\":{\"colorbar\":{\"outlinewidth\":0,\"ticks\":\"\"}},\"type\":\"scatterpolargl\"}],\"scatterternary\":[{\"marker\":{\"colorbar\":{\"outlinewidth\":0,\"ticks\":\"\"}},\"type\":\"scatterternary\"}],\"surface\":[{\"colorbar\":{\"outlinewidth\":0,\"ticks\":\"\"},\"colorscale\":[[0.0,\"#0d0887\"],[0.1111111111111111,\"#46039f\"],[0.2222222222222222,\"#7201a8\"],[0.3333333333333333,\"#9c179e\"],[0.4444444444444444,\"#bd3786\"],[0.5555555555555556,\"#d8576b\"],[0.6666666666666666,\"#ed7953\"],[0.7777777777777778,\"#fb9f3a\"],[0.8888888888888888,\"#fdca26\"],[1.0,\"#f0f921\"]],\"type\":\"surface\"}],\"table\":[{\"cells\":{\"fill\":{\"color\":\"#EBF0F8\"},\"line\":{\"color\":\"white\"}},\"header\":{\"fill\":{\"color\":\"#C8D4E3\"},\"line\":{\"color\":\"white\"}},\"type\":\"table\"}]},\"layout\":{\"annotationdefaults\":{\"arrowcolor\":\"#2a3f5f\",\"arrowhead\":0,\"arrowwidth\":1},\"autotypenumbers\":\"strict\",\"coloraxis\":{\"colorbar\":{\"outlinewidth\":0,\"ticks\":\"\"}},\"colorscale\":{\"diverging\":[[0,\"#8e0152\"],[0.1,\"#c51b7d\"],[0.2,\"#de77ae\"],[0.3,\"#f1b6da\"],[0.4,\"#fde0ef\"],[0.5,\"#f7f7f7\"],[0.6,\"#e6f5d0\"],[0.7,\"#b8e186\"],[0.8,\"#7fbc41\"],[0.9,\"#4d9221\"],[1,\"#276419\"]],\"sequential\":[[0.0,\"#0d0887\"],[0.1111111111111111,\"#46039f\"],[0.2222222222222222,\"#7201a8\"],[0.3333333333333333,\"#9c179e\"],[0.4444444444444444,\"#bd3786\"],[0.5555555555555556,\"#d8576b\"],[0.6666666666666666,\"#ed7953\"],[0.7777777777777778,\"#fb9f3a\"],[0.8888888888888888,\"#fdca26\"],[1.0,\"#f0f921\"]],\"sequentialminus\":[[0.0,\"#0d0887\"],[0.1111111111111111,\"#46039f\"],[0.2222222222222222,\"#7201a8\"],[0.3333333333333333,\"#9c179e\"],[0.4444444444444444,\"#bd3786\"],[0.5555555555555556,\"#d8576b\"],[0.6666666666666666,\"#ed7953\"],[0.7777777777777778,\"#fb9f3a\"],[0.8888888888888888,\"#fdca26\"],[1.0,\"#f0f921\"]]},\"colorway\":[\"#636efa\",\"#EF553B\",\"#00cc96\",\"#ab63fa\",\"#FFA15A\",\"#19d3f3\",\"#FF6692\",\"#B6E880\",\"#FF97FF\",\"#FECB52\"],\"font\":{\"color\":\"#2a3f5f\"},\"geo\":{\"bgcolor\":\"white\",\"lakecolor\":\"white\",\"landcolor\":\"#E5ECF6\",\"showlakes\":true,\"showland\":true,\"subunitcolor\":\"white\"},\"hoverlabel\":{\"align\":\"left\"},\"hovermode\":\"closest\",\"mapbox\":{\"style\":\"light\"},\"paper_bgcolor\":\"white\",\"plot_bgcolor\":\"#E5ECF6\",\"polar\":{\"angularaxis\":{\"gridcolor\":\"white\",\"linecolor\":\"white\",\"ticks\":\"\"},\"bgcolor\":\"#E5ECF6\",\"radialaxis\":{\"gridcolor\":\"white\",\"linecolor\":\"white\",\"ticks\":\"\"}},\"scene\":{\"xaxis\":{\"backgroundcolor\":\"#E5ECF6\",\"gridcolor\":\"white\",\"gridwidth\":2,\"linecolor\":\"white\",\"showbackground\":true,\"ticks\":\"\",\"zerolinecolor\":\"white\"},\"yaxis\":{\"backgroundcolor\":\"#E5ECF6\",\"gridcolor\":\"white\",\"gridwidth\":2,\"linecolor\":\"white\",\"showbackground\":true,\"ticks\":\"\",\"zerolinecolor\":\"white\"},\"zaxis\":{\"backgroundcolor\":\"#E5ECF6\",\"gridcolor\":\"white\",\"gridwidth\":2,\"linecolor\":\"white\",\"showbackground\":true,\"ticks\":\"\",\"zerolinecolor\":\"white\"}},\"shapedefaults\":{\"line\":{\"color\":\"#2a3f5f\"}},\"ternary\":{\"aaxis\":{\"gridcolor\":\"white\",\"linecolor\":\"white\",\"ticks\":\"\"},\"baxis\":{\"gridcolor\":\"white\",\"linecolor\":\"white\",\"ticks\":\"\"},\"bgcolor\":\"#E5ECF6\",\"caxis\":{\"gridcolor\":\"white\",\"linecolor\":\"white\",\"ticks\":\"\"}},\"title\":{\"x\":0.05},\"xaxis\":{\"automargin\":true,\"gridcolor\":\"white\",\"linecolor\":\"white\",\"ticks\":\"\",\"title\":{\"standoff\":15},\"zerolinecolor\":\"white\",\"zerolinewidth\":2},\"yaxis\":{\"automargin\":true,\"gridcolor\":\"white\",\"linecolor\":\"white\",\"ticks\":\"\",\"title\":{\"standoff\":15},\"zerolinecolor\":\"white\",\"zerolinewidth\":2}}},\"xaxis\":{\"anchor\":\"y\",\"domain\":[0.0,1.0],\"title\":{\"text\":\"Year\"},\"categoryorder\":\"total descending\"},\"yaxis\":{\"anchor\":\"x\",\"domain\":[0.0,1.0],\"title\":{\"text\":\"Movies\"}},\"legend\":{\"tracegroupgap\":0},\"margin\":{\"t\":60},\"barmode\":\"relative\"},                        {\"responsive\": true}                    ).then(function(){\n",
              "                            \n",
              "var gd = document.getElementById('3491a7df-f797-41a3-b80f-b81e1ead5800');\n",
              "var x = new MutationObserver(function (mutations, observer) {{\n",
              "        var display = window.getComputedStyle(gd).display;\n",
              "        if (!display || display === 'none') {{\n",
              "            console.log([gd, 'removed!']);\n",
              "            Plotly.purge(gd);\n",
              "            observer.disconnect();\n",
              "        }}\n",
              "}});\n",
              "\n",
              "// Listen for the removal of the full notebook cells\n",
              "var notebookContainer = gd.closest('#notebook-container');\n",
              "if (notebookContainer) {{\n",
              "    x.observe(notebookContainer, {childList: true});\n",
              "}}\n",
              "\n",
              "// Listen for the clearing of the current output cell\n",
              "var outputEl = gd.closest('.output');\n",
              "if (outputEl) {{\n",
              "    x.observe(outputEl, {childList: true});\n",
              "}}\n",
              "\n",
              "                        })                };                            </script>        </div>\n",
              "</body>\n",
              "</html>"
            ]
          },
          "metadata": {}
        }
      ]
    },
    {
      "cell_type": "markdown",
      "source": [
        "*Görüldüğü gibi Netflix'te her yıl film sayısı artıyor. 2021 tamamlanmadı, bu nedenle grafik düştü.*"
      ],
      "metadata": {
        "id": "OHpdjIBN0lkv"
      }
    },
    {
      "cell_type": "markdown",
      "source": [
        "**Ay bazında analiz**"
      ],
      "metadata": {
        "id": "JEDoXvJu15Fc"
      }
    },
    {
      "cell_type": "code",
      "source": [
        "month = df.Month.value_counts(sort=False)\n",
        "month"
      ],
      "metadata": {
        "colab": {
          "base_uri": "https://localhost:8080/"
        },
        "id": "fm8XX__g0qbq",
        "outputId": "d8da54f7-6c8f-4c06-a398-296a59fbf540"
      },
      "execution_count": 41,
      "outputs": [
        {
          "output_type": "execute_result",
          "data": {
            "text/plain": [
              "8     37\n",
              "12    51\n",
              "1     37\n",
              "10    77\n",
              "11    57\n",
              "6     35\n",
              "3     48\n",
              "5     53\n",
              "4     63\n",
              "9     53\n",
              "2     39\n",
              "7     34\n",
              "Name: Month, dtype: int64"
            ]
          },
          "metadata": {},
          "execution_count": 41
        }
      ]
    },
    {
      "cell_type": "code",
      "source": [
        "months = ['Jan','Feb','Mar','Apr','May','Jun','Jul','Aug','Sep','Oct','Nov','Dec']\n",
        "\n",
        "fig = px.bar(data_frame=df, x=months, y=month.values, labels={\"y\":\"Movies\", \"x\":\"Month\"})\n",
        "\n",
        "fig.show()"
      ],
      "metadata": {
        "colab": {
          "base_uri": "https://localhost:8080/",
          "height": 542
        },
        "id": "qEZ3qP3X2AnG",
        "outputId": "e4c07aa6-21ef-4597-fd09-c2c731aa7f7d"
      },
      "execution_count": 42,
      "outputs": [
        {
          "output_type": "display_data",
          "data": {
            "text/html": [
              "<html>\n",
              "<head><meta charset=\"utf-8\" /></head>\n",
              "<body>\n",
              "    <div>            <script src=\"https://cdnjs.cloudflare.com/ajax/libs/mathjax/2.7.5/MathJax.js?config=TeX-AMS-MML_SVG\"></script><script type=\"text/javascript\">if (window.MathJax) {MathJax.Hub.Config({SVG: {font: \"STIX-Web\"}});}</script>                <script type=\"text/javascript\">window.PlotlyConfig = {MathJaxConfig: 'local'};</script>\n",
              "        <script src=\"https://cdn.plot.ly/plotly-2.8.3.min.js\"></script>                <div id=\"d2d82eee-894b-4faa-85c1-915be065e9c1\" class=\"plotly-graph-div\" style=\"height:525px; width:100%;\"></div>            <script type=\"text/javascript\">                                    window.PLOTLYENV=window.PLOTLYENV || {};                                    if (document.getElementById(\"d2d82eee-894b-4faa-85c1-915be065e9c1\")) {                    Plotly.newPlot(                        \"d2d82eee-894b-4faa-85c1-915be065e9c1\",                        [{\"alignmentgroup\":\"True\",\"hovertemplate\":\"Month=%{x}<br>Movies=%{y}<extra></extra>\",\"legendgroup\":\"\",\"marker\":{\"color\":\"#636efa\",\"pattern\":{\"shape\":\"\"}},\"name\":\"\",\"offsetgroup\":\"\",\"orientation\":\"v\",\"showlegend\":false,\"textposition\":\"auto\",\"x\":[\"Jan\",\"Feb\",\"Mar\",\"Apr\",\"May\",\"Jun\",\"Jul\",\"Aug\",\"Sep\",\"Oct\",\"Nov\",\"Dec\"],\"xaxis\":\"x\",\"y\":[37,51,37,77,57,35,48,53,63,53,39,34],\"yaxis\":\"y\",\"type\":\"bar\"}],                        {\"template\":{\"data\":{\"bar\":[{\"error_x\":{\"color\":\"#2a3f5f\"},\"error_y\":{\"color\":\"#2a3f5f\"},\"marker\":{\"line\":{\"color\":\"#E5ECF6\",\"width\":0.5},\"pattern\":{\"fillmode\":\"overlay\",\"size\":10,\"solidity\":0.2}},\"type\":\"bar\"}],\"barpolar\":[{\"marker\":{\"line\":{\"color\":\"#E5ECF6\",\"width\":0.5},\"pattern\":{\"fillmode\":\"overlay\",\"size\":10,\"solidity\":0.2}},\"type\":\"barpolar\"}],\"carpet\":[{\"aaxis\":{\"endlinecolor\":\"#2a3f5f\",\"gridcolor\":\"white\",\"linecolor\":\"white\",\"minorgridcolor\":\"white\",\"startlinecolor\":\"#2a3f5f\"},\"baxis\":{\"endlinecolor\":\"#2a3f5f\",\"gridcolor\":\"white\",\"linecolor\":\"white\",\"minorgridcolor\":\"white\",\"startlinecolor\":\"#2a3f5f\"},\"type\":\"carpet\"}],\"choropleth\":[{\"colorbar\":{\"outlinewidth\":0,\"ticks\":\"\"},\"type\":\"choropleth\"}],\"contour\":[{\"colorbar\":{\"outlinewidth\":0,\"ticks\":\"\"},\"colorscale\":[[0.0,\"#0d0887\"],[0.1111111111111111,\"#46039f\"],[0.2222222222222222,\"#7201a8\"],[0.3333333333333333,\"#9c179e\"],[0.4444444444444444,\"#bd3786\"],[0.5555555555555556,\"#d8576b\"],[0.6666666666666666,\"#ed7953\"],[0.7777777777777778,\"#fb9f3a\"],[0.8888888888888888,\"#fdca26\"],[1.0,\"#f0f921\"]],\"type\":\"contour\"}],\"contourcarpet\":[{\"colorbar\":{\"outlinewidth\":0,\"ticks\":\"\"},\"type\":\"contourcarpet\"}],\"heatmap\":[{\"colorbar\":{\"outlinewidth\":0,\"ticks\":\"\"},\"colorscale\":[[0.0,\"#0d0887\"],[0.1111111111111111,\"#46039f\"],[0.2222222222222222,\"#7201a8\"],[0.3333333333333333,\"#9c179e\"],[0.4444444444444444,\"#bd3786\"],[0.5555555555555556,\"#d8576b\"],[0.6666666666666666,\"#ed7953\"],[0.7777777777777778,\"#fb9f3a\"],[0.8888888888888888,\"#fdca26\"],[1.0,\"#f0f921\"]],\"type\":\"heatmap\"}],\"heatmapgl\":[{\"colorbar\":{\"outlinewidth\":0,\"ticks\":\"\"},\"colorscale\":[[0.0,\"#0d0887\"],[0.1111111111111111,\"#46039f\"],[0.2222222222222222,\"#7201a8\"],[0.3333333333333333,\"#9c179e\"],[0.4444444444444444,\"#bd3786\"],[0.5555555555555556,\"#d8576b\"],[0.6666666666666666,\"#ed7953\"],[0.7777777777777778,\"#fb9f3a\"],[0.8888888888888888,\"#fdca26\"],[1.0,\"#f0f921\"]],\"type\":\"heatmapgl\"}],\"histogram\":[{\"marker\":{\"pattern\":{\"fillmode\":\"overlay\",\"size\":10,\"solidity\":0.2}},\"type\":\"histogram\"}],\"histogram2d\":[{\"colorbar\":{\"outlinewidth\":0,\"ticks\":\"\"},\"colorscale\":[[0.0,\"#0d0887\"],[0.1111111111111111,\"#46039f\"],[0.2222222222222222,\"#7201a8\"],[0.3333333333333333,\"#9c179e\"],[0.4444444444444444,\"#bd3786\"],[0.5555555555555556,\"#d8576b\"],[0.6666666666666666,\"#ed7953\"],[0.7777777777777778,\"#fb9f3a\"],[0.8888888888888888,\"#fdca26\"],[1.0,\"#f0f921\"]],\"type\":\"histogram2d\"}],\"histogram2dcontour\":[{\"colorbar\":{\"outlinewidth\":0,\"ticks\":\"\"},\"colorscale\":[[0.0,\"#0d0887\"],[0.1111111111111111,\"#46039f\"],[0.2222222222222222,\"#7201a8\"],[0.3333333333333333,\"#9c179e\"],[0.4444444444444444,\"#bd3786\"],[0.5555555555555556,\"#d8576b\"],[0.6666666666666666,\"#ed7953\"],[0.7777777777777778,\"#fb9f3a\"],[0.8888888888888888,\"#fdca26\"],[1.0,\"#f0f921\"]],\"type\":\"histogram2dcontour\"}],\"mesh3d\":[{\"colorbar\":{\"outlinewidth\":0,\"ticks\":\"\"},\"type\":\"mesh3d\"}],\"parcoords\":[{\"line\":{\"colorbar\":{\"outlinewidth\":0,\"ticks\":\"\"}},\"type\":\"parcoords\"}],\"pie\":[{\"automargin\":true,\"type\":\"pie\"}],\"scatter\":[{\"marker\":{\"colorbar\":{\"outlinewidth\":0,\"ticks\":\"\"}},\"type\":\"scatter\"}],\"scatter3d\":[{\"line\":{\"colorbar\":{\"outlinewidth\":0,\"ticks\":\"\"}},\"marker\":{\"colorbar\":{\"outlinewidth\":0,\"ticks\":\"\"}},\"type\":\"scatter3d\"}],\"scattercarpet\":[{\"marker\":{\"colorbar\":{\"outlinewidth\":0,\"ticks\":\"\"}},\"type\":\"scattercarpet\"}],\"scattergeo\":[{\"marker\":{\"colorbar\":{\"outlinewidth\":0,\"ticks\":\"\"}},\"type\":\"scattergeo\"}],\"scattergl\":[{\"marker\":{\"colorbar\":{\"outlinewidth\":0,\"ticks\":\"\"}},\"type\":\"scattergl\"}],\"scattermapbox\":[{\"marker\":{\"colorbar\":{\"outlinewidth\":0,\"ticks\":\"\"}},\"type\":\"scattermapbox\"}],\"scatterpolar\":[{\"marker\":{\"colorbar\":{\"outlinewidth\":0,\"ticks\":\"\"}},\"type\":\"scatterpolar\"}],\"scatterpolargl\":[{\"marker\":{\"colorbar\":{\"outlinewidth\":0,\"ticks\":\"\"}},\"type\":\"scatterpolargl\"}],\"scatterternary\":[{\"marker\":{\"colorbar\":{\"outlinewidth\":0,\"ticks\":\"\"}},\"type\":\"scatterternary\"}],\"surface\":[{\"colorbar\":{\"outlinewidth\":0,\"ticks\":\"\"},\"colorscale\":[[0.0,\"#0d0887\"],[0.1111111111111111,\"#46039f\"],[0.2222222222222222,\"#7201a8\"],[0.3333333333333333,\"#9c179e\"],[0.4444444444444444,\"#bd3786\"],[0.5555555555555556,\"#d8576b\"],[0.6666666666666666,\"#ed7953\"],[0.7777777777777778,\"#fb9f3a\"],[0.8888888888888888,\"#fdca26\"],[1.0,\"#f0f921\"]],\"type\":\"surface\"}],\"table\":[{\"cells\":{\"fill\":{\"color\":\"#EBF0F8\"},\"line\":{\"color\":\"white\"}},\"header\":{\"fill\":{\"color\":\"#C8D4E3\"},\"line\":{\"color\":\"white\"}},\"type\":\"table\"}]},\"layout\":{\"annotationdefaults\":{\"arrowcolor\":\"#2a3f5f\",\"arrowhead\":0,\"arrowwidth\":1},\"autotypenumbers\":\"strict\",\"coloraxis\":{\"colorbar\":{\"outlinewidth\":0,\"ticks\":\"\"}},\"colorscale\":{\"diverging\":[[0,\"#8e0152\"],[0.1,\"#c51b7d\"],[0.2,\"#de77ae\"],[0.3,\"#f1b6da\"],[0.4,\"#fde0ef\"],[0.5,\"#f7f7f7\"],[0.6,\"#e6f5d0\"],[0.7,\"#b8e186\"],[0.8,\"#7fbc41\"],[0.9,\"#4d9221\"],[1,\"#276419\"]],\"sequential\":[[0.0,\"#0d0887\"],[0.1111111111111111,\"#46039f\"],[0.2222222222222222,\"#7201a8\"],[0.3333333333333333,\"#9c179e\"],[0.4444444444444444,\"#bd3786\"],[0.5555555555555556,\"#d8576b\"],[0.6666666666666666,\"#ed7953\"],[0.7777777777777778,\"#fb9f3a\"],[0.8888888888888888,\"#fdca26\"],[1.0,\"#f0f921\"]],\"sequentialminus\":[[0.0,\"#0d0887\"],[0.1111111111111111,\"#46039f\"],[0.2222222222222222,\"#7201a8\"],[0.3333333333333333,\"#9c179e\"],[0.4444444444444444,\"#bd3786\"],[0.5555555555555556,\"#d8576b\"],[0.6666666666666666,\"#ed7953\"],[0.7777777777777778,\"#fb9f3a\"],[0.8888888888888888,\"#fdca26\"],[1.0,\"#f0f921\"]]},\"colorway\":[\"#636efa\",\"#EF553B\",\"#00cc96\",\"#ab63fa\",\"#FFA15A\",\"#19d3f3\",\"#FF6692\",\"#B6E880\",\"#FF97FF\",\"#FECB52\"],\"font\":{\"color\":\"#2a3f5f\"},\"geo\":{\"bgcolor\":\"white\",\"lakecolor\":\"white\",\"landcolor\":\"#E5ECF6\",\"showlakes\":true,\"showland\":true,\"subunitcolor\":\"white\"},\"hoverlabel\":{\"align\":\"left\"},\"hovermode\":\"closest\",\"mapbox\":{\"style\":\"light\"},\"paper_bgcolor\":\"white\",\"plot_bgcolor\":\"#E5ECF6\",\"polar\":{\"angularaxis\":{\"gridcolor\":\"white\",\"linecolor\":\"white\",\"ticks\":\"\"},\"bgcolor\":\"#E5ECF6\",\"radialaxis\":{\"gridcolor\":\"white\",\"linecolor\":\"white\",\"ticks\":\"\"}},\"scene\":{\"xaxis\":{\"backgroundcolor\":\"#E5ECF6\",\"gridcolor\":\"white\",\"gridwidth\":2,\"linecolor\":\"white\",\"showbackground\":true,\"ticks\":\"\",\"zerolinecolor\":\"white\"},\"yaxis\":{\"backgroundcolor\":\"#E5ECF6\",\"gridcolor\":\"white\",\"gridwidth\":2,\"linecolor\":\"white\",\"showbackground\":true,\"ticks\":\"\",\"zerolinecolor\":\"white\"},\"zaxis\":{\"backgroundcolor\":\"#E5ECF6\",\"gridcolor\":\"white\",\"gridwidth\":2,\"linecolor\":\"white\",\"showbackground\":true,\"ticks\":\"\",\"zerolinecolor\":\"white\"}},\"shapedefaults\":{\"line\":{\"color\":\"#2a3f5f\"}},\"ternary\":{\"aaxis\":{\"gridcolor\":\"white\",\"linecolor\":\"white\",\"ticks\":\"\"},\"baxis\":{\"gridcolor\":\"white\",\"linecolor\":\"white\",\"ticks\":\"\"},\"bgcolor\":\"#E5ECF6\",\"caxis\":{\"gridcolor\":\"white\",\"linecolor\":\"white\",\"ticks\":\"\"}},\"title\":{\"x\":0.05},\"xaxis\":{\"automargin\":true,\"gridcolor\":\"white\",\"linecolor\":\"white\",\"ticks\":\"\",\"title\":{\"standoff\":15},\"zerolinecolor\":\"white\",\"zerolinewidth\":2},\"yaxis\":{\"automargin\":true,\"gridcolor\":\"white\",\"linecolor\":\"white\",\"ticks\":\"\",\"title\":{\"standoff\":15},\"zerolinecolor\":\"white\",\"zerolinewidth\":2}}},\"xaxis\":{\"anchor\":\"y\",\"domain\":[0.0,1.0],\"title\":{\"text\":\"Month\"}},\"yaxis\":{\"anchor\":\"x\",\"domain\":[0.0,1.0],\"title\":{\"text\":\"Movies\"}},\"legend\":{\"tracegroupgap\":0},\"margin\":{\"t\":60},\"barmode\":\"relative\"},                        {\"responsive\": true}                    ).then(function(){\n",
              "                            \n",
              "var gd = document.getElementById('d2d82eee-894b-4faa-85c1-915be065e9c1');\n",
              "var x = new MutationObserver(function (mutations, observer) {{\n",
              "        var display = window.getComputedStyle(gd).display;\n",
              "        if (!display || display === 'none') {{\n",
              "            console.log([gd, 'removed!']);\n",
              "            Plotly.purge(gd);\n",
              "            observer.disconnect();\n",
              "        }}\n",
              "}});\n",
              "\n",
              "// Listen for the removal of the full notebook cells\n",
              "var notebookContainer = gd.closest('#notebook-container');\n",
              "if (notebookContainer) {{\n",
              "    x.observe(notebookContainer, {childList: true});\n",
              "}}\n",
              "\n",
              "// Listen for the clearing of the current output cell\n",
              "var outputEl = gd.closest('.output');\n",
              "if (outputEl) {{\n",
              "    x.observe(outputEl, {childList: true});\n",
              "}}\n",
              "\n",
              "                        })                };                            </script>        </div>\n",
              "</body>\n",
              "</html>"
            ]
          },
          "metadata": {}
        }
      ]
    },
    {
      "cell_type": "markdown",
      "source": [
        "*Ekim ve Nisan, Netflix'te en yüksek sayıda film yayınına sahip. Yani, bir Netflix aboneliği satın almayı planlıyorsanız, bu ikisi sizin aylarınızdır.*"
      ],
      "metadata": {
        "id": "as523N3b2tdS"
      }
    },
    {
      "cell_type": "markdown",
      "source": [
        "  *  IMDB Puanı en yüksek olan ilk 10 'Genre' hangileridir? Görselleştiriniz."
      ],
      "metadata": {
        "id": "bCUMUHA024y2"
      }
    },
    {
      "cell_type": "code",
      "source": [
        "df.groupby(\"Genre\")[\"IMDB Score\"].nlargest(10)"
      ],
      "metadata": {
        "colab": {
          "base_uri": "https://localhost:8080/"
        },
        "id": "vdFLAFGP214C",
        "outputId": "bcc244a2-7224-4acc-c01d-cb1bf37f368a"
      },
      "execution_count": 43,
      "outputs": [
        {
          "output_type": "execute_result",
          "data": {
            "text/plain": [
              "Genre            \n",
              "Action        372    6.7\n",
              "              277    6.3\n",
              "              220    6.1\n",
              "              153    5.7\n",
              "              50     4.9\n",
              "                    ... \n",
              "War-Comedy    219    6.0\n",
              "Western       516    7.3\n",
              "              237    6.1\n",
              "              49     4.8\n",
              "Zombie/Heist  194    5.9\n",
              "Name: IMDB Score, Length: 272, dtype: float64"
            ]
          },
          "metadata": {},
          "execution_count": 43
        }
      ]
    },
    {
      "cell_type": "code",
      "source": [
        "top_10_ratings_by_genre = df.groupby(\"Genre\")[\"IMDB Score\"].mean().nlargest(10)\n",
        "top_10_ratings_by_genre"
      ],
      "metadata": {
        "colab": {
          "base_uri": "https://localhost:8080/"
        },
        "id": "Kr3Sm1m53yVw",
        "outputId": "0ac3f27f-e033-4bb5-80bc-79e73245df4a"
      },
      "execution_count": 45,
      "outputs": [
        {
          "output_type": "execute_result",
          "data": {
            "text/plain": [
              "Genre\n",
              "Animation/Christmas/Comedy/Adventure    8.200000\n",
              "Musical / Short                         7.700000\n",
              "Concert Film                            7.633333\n",
              "Anthology/Dark comedy                   7.600000\n",
              "Animation / Science Fiction             7.500000\n",
              "Making-of                               7.450000\n",
              "Action-adventure                        7.300000\n",
              "Coming-of-age comedy-drama              7.200000\n",
              "Drama-Comedy                            7.200000\n",
              "Historical drama                        7.200000\n",
              "Name: IMDB Score, dtype: float64"
            ]
          },
          "metadata": {},
          "execution_count": 45
        }
      ]
    },
    {
      "cell_type": "code",
      "source": [
        "fig = px.bar(data_frame=top_10_ratings_by_genre, x=top_10_ratings_by_genre.index, y=top_10_ratings_by_genre.values, \n",
        "             labels={'y':'Average Rating Score', 'x':'Genre'})\n",
        "\n",
        "fig.show()"
      ],
      "metadata": {
        "colab": {
          "base_uri": "https://localhost:8080/",
          "height": 542
        },
        "id": "U4jJyaob39y9",
        "outputId": "7244195f-6ccd-43aa-cdc3-deb064ee0b19"
      },
      "execution_count": 46,
      "outputs": [
        {
          "output_type": "display_data",
          "data": {
            "text/html": [
              "<html>\n",
              "<head><meta charset=\"utf-8\" /></head>\n",
              "<body>\n",
              "    <div>            <script src=\"https://cdnjs.cloudflare.com/ajax/libs/mathjax/2.7.5/MathJax.js?config=TeX-AMS-MML_SVG\"></script><script type=\"text/javascript\">if (window.MathJax) {MathJax.Hub.Config({SVG: {font: \"STIX-Web\"}});}</script>                <script type=\"text/javascript\">window.PlotlyConfig = {MathJaxConfig: 'local'};</script>\n",
              "        <script src=\"https://cdn.plot.ly/plotly-2.8.3.min.js\"></script>                <div id=\"ea74ffcc-7588-4e86-a4b4-8fbe15824d79\" class=\"plotly-graph-div\" style=\"height:525px; width:100%;\"></div>            <script type=\"text/javascript\">                                    window.PLOTLYENV=window.PLOTLYENV || {};                                    if (document.getElementById(\"ea74ffcc-7588-4e86-a4b4-8fbe15824d79\")) {                    Plotly.newPlot(                        \"ea74ffcc-7588-4e86-a4b4-8fbe15824d79\",                        [{\"alignmentgroup\":\"True\",\"hovertemplate\":\"Genre=%{x}<br>Average Rating Score=%{y}<extra></extra>\",\"legendgroup\":\"\",\"marker\":{\"color\":\"#636efa\",\"pattern\":{\"shape\":\"\"}},\"name\":\"\",\"offsetgroup\":\"\",\"orientation\":\"v\",\"showlegend\":false,\"textposition\":\"auto\",\"x\":[\"Animation/Christmas/Comedy/Adventure\",\"Musical / Short\",\"Concert Film\",\"Anthology/Dark comedy\",\"Animation / Science Fiction\",\"Making-of\",\"Action-adventure\",\"Coming-of-age comedy-drama\",\"Drama-Comedy\",\"Historical drama\"],\"xaxis\":\"x\",\"y\":[8.2,7.7,7.633333333333334,7.6,7.5,7.45,7.3,7.2,7.2,7.2],\"yaxis\":\"y\",\"type\":\"bar\"}],                        {\"template\":{\"data\":{\"bar\":[{\"error_x\":{\"color\":\"#2a3f5f\"},\"error_y\":{\"color\":\"#2a3f5f\"},\"marker\":{\"line\":{\"color\":\"#E5ECF6\",\"width\":0.5},\"pattern\":{\"fillmode\":\"overlay\",\"size\":10,\"solidity\":0.2}},\"type\":\"bar\"}],\"barpolar\":[{\"marker\":{\"line\":{\"color\":\"#E5ECF6\",\"width\":0.5},\"pattern\":{\"fillmode\":\"overlay\",\"size\":10,\"solidity\":0.2}},\"type\":\"barpolar\"}],\"carpet\":[{\"aaxis\":{\"endlinecolor\":\"#2a3f5f\",\"gridcolor\":\"white\",\"linecolor\":\"white\",\"minorgridcolor\":\"white\",\"startlinecolor\":\"#2a3f5f\"},\"baxis\":{\"endlinecolor\":\"#2a3f5f\",\"gridcolor\":\"white\",\"linecolor\":\"white\",\"minorgridcolor\":\"white\",\"startlinecolor\":\"#2a3f5f\"},\"type\":\"carpet\"}],\"choropleth\":[{\"colorbar\":{\"outlinewidth\":0,\"ticks\":\"\"},\"type\":\"choropleth\"}],\"contour\":[{\"colorbar\":{\"outlinewidth\":0,\"ticks\":\"\"},\"colorscale\":[[0.0,\"#0d0887\"],[0.1111111111111111,\"#46039f\"],[0.2222222222222222,\"#7201a8\"],[0.3333333333333333,\"#9c179e\"],[0.4444444444444444,\"#bd3786\"],[0.5555555555555556,\"#d8576b\"],[0.6666666666666666,\"#ed7953\"],[0.7777777777777778,\"#fb9f3a\"],[0.8888888888888888,\"#fdca26\"],[1.0,\"#f0f921\"]],\"type\":\"contour\"}],\"contourcarpet\":[{\"colorbar\":{\"outlinewidth\":0,\"ticks\":\"\"},\"type\":\"contourcarpet\"}],\"heatmap\":[{\"colorbar\":{\"outlinewidth\":0,\"ticks\":\"\"},\"colorscale\":[[0.0,\"#0d0887\"],[0.1111111111111111,\"#46039f\"],[0.2222222222222222,\"#7201a8\"],[0.3333333333333333,\"#9c179e\"],[0.4444444444444444,\"#bd3786\"],[0.5555555555555556,\"#d8576b\"],[0.6666666666666666,\"#ed7953\"],[0.7777777777777778,\"#fb9f3a\"],[0.8888888888888888,\"#fdca26\"],[1.0,\"#f0f921\"]],\"type\":\"heatmap\"}],\"heatmapgl\":[{\"colorbar\":{\"outlinewidth\":0,\"ticks\":\"\"},\"colorscale\":[[0.0,\"#0d0887\"],[0.1111111111111111,\"#46039f\"],[0.2222222222222222,\"#7201a8\"],[0.3333333333333333,\"#9c179e\"],[0.4444444444444444,\"#bd3786\"],[0.5555555555555556,\"#d8576b\"],[0.6666666666666666,\"#ed7953\"],[0.7777777777777778,\"#fb9f3a\"],[0.8888888888888888,\"#fdca26\"],[1.0,\"#f0f921\"]],\"type\":\"heatmapgl\"}],\"histogram\":[{\"marker\":{\"pattern\":{\"fillmode\":\"overlay\",\"size\":10,\"solidity\":0.2}},\"type\":\"histogram\"}],\"histogram2d\":[{\"colorbar\":{\"outlinewidth\":0,\"ticks\":\"\"},\"colorscale\":[[0.0,\"#0d0887\"],[0.1111111111111111,\"#46039f\"],[0.2222222222222222,\"#7201a8\"],[0.3333333333333333,\"#9c179e\"],[0.4444444444444444,\"#bd3786\"],[0.5555555555555556,\"#d8576b\"],[0.6666666666666666,\"#ed7953\"],[0.7777777777777778,\"#fb9f3a\"],[0.8888888888888888,\"#fdca26\"],[1.0,\"#f0f921\"]],\"type\":\"histogram2d\"}],\"histogram2dcontour\":[{\"colorbar\":{\"outlinewidth\":0,\"ticks\":\"\"},\"colorscale\":[[0.0,\"#0d0887\"],[0.1111111111111111,\"#46039f\"],[0.2222222222222222,\"#7201a8\"],[0.3333333333333333,\"#9c179e\"],[0.4444444444444444,\"#bd3786\"],[0.5555555555555556,\"#d8576b\"],[0.6666666666666666,\"#ed7953\"],[0.7777777777777778,\"#fb9f3a\"],[0.8888888888888888,\"#fdca26\"],[1.0,\"#f0f921\"]],\"type\":\"histogram2dcontour\"}],\"mesh3d\":[{\"colorbar\":{\"outlinewidth\":0,\"ticks\":\"\"},\"type\":\"mesh3d\"}],\"parcoords\":[{\"line\":{\"colorbar\":{\"outlinewidth\":0,\"ticks\":\"\"}},\"type\":\"parcoords\"}],\"pie\":[{\"automargin\":true,\"type\":\"pie\"}],\"scatter\":[{\"marker\":{\"colorbar\":{\"outlinewidth\":0,\"ticks\":\"\"}},\"type\":\"scatter\"}],\"scatter3d\":[{\"line\":{\"colorbar\":{\"outlinewidth\":0,\"ticks\":\"\"}},\"marker\":{\"colorbar\":{\"outlinewidth\":0,\"ticks\":\"\"}},\"type\":\"scatter3d\"}],\"scattercarpet\":[{\"marker\":{\"colorbar\":{\"outlinewidth\":0,\"ticks\":\"\"}},\"type\":\"scattercarpet\"}],\"scattergeo\":[{\"marker\":{\"colorbar\":{\"outlinewidth\":0,\"ticks\":\"\"}},\"type\":\"scattergeo\"}],\"scattergl\":[{\"marker\":{\"colorbar\":{\"outlinewidth\":0,\"ticks\":\"\"}},\"type\":\"scattergl\"}],\"scattermapbox\":[{\"marker\":{\"colorbar\":{\"outlinewidth\":0,\"ticks\":\"\"}},\"type\":\"scattermapbox\"}],\"scatterpolar\":[{\"marker\":{\"colorbar\":{\"outlinewidth\":0,\"ticks\":\"\"}},\"type\":\"scatterpolar\"}],\"scatterpolargl\":[{\"marker\":{\"colorbar\":{\"outlinewidth\":0,\"ticks\":\"\"}},\"type\":\"scatterpolargl\"}],\"scatterternary\":[{\"marker\":{\"colorbar\":{\"outlinewidth\":0,\"ticks\":\"\"}},\"type\":\"scatterternary\"}],\"surface\":[{\"colorbar\":{\"outlinewidth\":0,\"ticks\":\"\"},\"colorscale\":[[0.0,\"#0d0887\"],[0.1111111111111111,\"#46039f\"],[0.2222222222222222,\"#7201a8\"],[0.3333333333333333,\"#9c179e\"],[0.4444444444444444,\"#bd3786\"],[0.5555555555555556,\"#d8576b\"],[0.6666666666666666,\"#ed7953\"],[0.7777777777777778,\"#fb9f3a\"],[0.8888888888888888,\"#fdca26\"],[1.0,\"#f0f921\"]],\"type\":\"surface\"}],\"table\":[{\"cells\":{\"fill\":{\"color\":\"#EBF0F8\"},\"line\":{\"color\":\"white\"}},\"header\":{\"fill\":{\"color\":\"#C8D4E3\"},\"line\":{\"color\":\"white\"}},\"type\":\"table\"}]},\"layout\":{\"annotationdefaults\":{\"arrowcolor\":\"#2a3f5f\",\"arrowhead\":0,\"arrowwidth\":1},\"autotypenumbers\":\"strict\",\"coloraxis\":{\"colorbar\":{\"outlinewidth\":0,\"ticks\":\"\"}},\"colorscale\":{\"diverging\":[[0,\"#8e0152\"],[0.1,\"#c51b7d\"],[0.2,\"#de77ae\"],[0.3,\"#f1b6da\"],[0.4,\"#fde0ef\"],[0.5,\"#f7f7f7\"],[0.6,\"#e6f5d0\"],[0.7,\"#b8e186\"],[0.8,\"#7fbc41\"],[0.9,\"#4d9221\"],[1,\"#276419\"]],\"sequential\":[[0.0,\"#0d0887\"],[0.1111111111111111,\"#46039f\"],[0.2222222222222222,\"#7201a8\"],[0.3333333333333333,\"#9c179e\"],[0.4444444444444444,\"#bd3786\"],[0.5555555555555556,\"#d8576b\"],[0.6666666666666666,\"#ed7953\"],[0.7777777777777778,\"#fb9f3a\"],[0.8888888888888888,\"#fdca26\"],[1.0,\"#f0f921\"]],\"sequentialminus\":[[0.0,\"#0d0887\"],[0.1111111111111111,\"#46039f\"],[0.2222222222222222,\"#7201a8\"],[0.3333333333333333,\"#9c179e\"],[0.4444444444444444,\"#bd3786\"],[0.5555555555555556,\"#d8576b\"],[0.6666666666666666,\"#ed7953\"],[0.7777777777777778,\"#fb9f3a\"],[0.8888888888888888,\"#fdca26\"],[1.0,\"#f0f921\"]]},\"colorway\":[\"#636efa\",\"#EF553B\",\"#00cc96\",\"#ab63fa\",\"#FFA15A\",\"#19d3f3\",\"#FF6692\",\"#B6E880\",\"#FF97FF\",\"#FECB52\"],\"font\":{\"color\":\"#2a3f5f\"},\"geo\":{\"bgcolor\":\"white\",\"lakecolor\":\"white\",\"landcolor\":\"#E5ECF6\",\"showlakes\":true,\"showland\":true,\"subunitcolor\":\"white\"},\"hoverlabel\":{\"align\":\"left\"},\"hovermode\":\"closest\",\"mapbox\":{\"style\":\"light\"},\"paper_bgcolor\":\"white\",\"plot_bgcolor\":\"#E5ECF6\",\"polar\":{\"angularaxis\":{\"gridcolor\":\"white\",\"linecolor\":\"white\",\"ticks\":\"\"},\"bgcolor\":\"#E5ECF6\",\"radialaxis\":{\"gridcolor\":\"white\",\"linecolor\":\"white\",\"ticks\":\"\"}},\"scene\":{\"xaxis\":{\"backgroundcolor\":\"#E5ECF6\",\"gridcolor\":\"white\",\"gridwidth\":2,\"linecolor\":\"white\",\"showbackground\":true,\"ticks\":\"\",\"zerolinecolor\":\"white\"},\"yaxis\":{\"backgroundcolor\":\"#E5ECF6\",\"gridcolor\":\"white\",\"gridwidth\":2,\"linecolor\":\"white\",\"showbackground\":true,\"ticks\":\"\",\"zerolinecolor\":\"white\"},\"zaxis\":{\"backgroundcolor\":\"#E5ECF6\",\"gridcolor\":\"white\",\"gridwidth\":2,\"linecolor\":\"white\",\"showbackground\":true,\"ticks\":\"\",\"zerolinecolor\":\"white\"}},\"shapedefaults\":{\"line\":{\"color\":\"#2a3f5f\"}},\"ternary\":{\"aaxis\":{\"gridcolor\":\"white\",\"linecolor\":\"white\",\"ticks\":\"\"},\"baxis\":{\"gridcolor\":\"white\",\"linecolor\":\"white\",\"ticks\":\"\"},\"bgcolor\":\"#E5ECF6\",\"caxis\":{\"gridcolor\":\"white\",\"linecolor\":\"white\",\"ticks\":\"\"}},\"title\":{\"x\":0.05},\"xaxis\":{\"automargin\":true,\"gridcolor\":\"white\",\"linecolor\":\"white\",\"ticks\":\"\",\"title\":{\"standoff\":15},\"zerolinecolor\":\"white\",\"zerolinewidth\":2},\"yaxis\":{\"automargin\":true,\"gridcolor\":\"white\",\"linecolor\":\"white\",\"ticks\":\"\",\"title\":{\"standoff\":15},\"zerolinecolor\":\"white\",\"zerolinewidth\":2}}},\"xaxis\":{\"anchor\":\"y\",\"domain\":[0.0,1.0],\"title\":{\"text\":\"Genre\"}},\"yaxis\":{\"anchor\":\"x\",\"domain\":[0.0,1.0],\"title\":{\"text\":\"Average Rating Score\"}},\"legend\":{\"tracegroupgap\":0},\"margin\":{\"t\":60},\"barmode\":\"relative\"},                        {\"responsive\": true}                    ).then(function(){\n",
              "                            \n",
              "var gd = document.getElementById('ea74ffcc-7588-4e86-a4b4-8fbe15824d79');\n",
              "var x = new MutationObserver(function (mutations, observer) {{\n",
              "        var display = window.getComputedStyle(gd).display;\n",
              "        if (!display || display === 'none') {{\n",
              "            console.log([gd, 'removed!']);\n",
              "            Plotly.purge(gd);\n",
              "            observer.disconnect();\n",
              "        }}\n",
              "}});\n",
              "\n",
              "// Listen for the removal of the full notebook cells\n",
              "var notebookContainer = gd.closest('#notebook-container');\n",
              "if (notebookContainer) {{\n",
              "    x.observe(notebookContainer, {childList: true});\n",
              "}}\n",
              "\n",
              "// Listen for the clearing of the current output cell\n",
              "var outputEl = gd.closest('.output');\n",
              "if (outputEl) {{\n",
              "    x.observe(outputEl, {childList: true});\n",
              "}}\n",
              "\n",
              "                        })                };                            </script>        </div>\n",
              "</body>\n",
              "</html>"
            ]
          },
          "metadata": {}
        }
      ]
    },
    {
      "cell_type": "markdown",
      "source": [
        " * **'Runtime' değeri en yüksek olan ilk 10 film hangileridir? Görselleştiriniz.**"
      ],
      "metadata": {
        "id": "mpGu9C3k4HcC"
      }
    },
    {
      "cell_type": "code",
      "source": [
        "top_10_ratings = df[[\"IMDB Score\", \"Title\", \"Genre\", \"Year\", \"Language\"]].sort_values([\"IMDB Score\"], ascending=False)[:10]\n",
        "top_10_ratings"
      ],
      "metadata": {
        "colab": {
          "base_uri": "https://localhost:8080/",
          "height": 363
        },
        "id": "NFLqg-Hp4NK3",
        "outputId": "0a2904a5-1fa0-43b4-f64c-0079239378c5"
      },
      "execution_count": 47,
      "outputs": [
        {
          "output_type": "execute_result",
          "data": {
            "text/plain": [
              "     IMDB Score                                        Title  \\\n",
              "583         9.0     David Attenborough: A Life on Our Planet   \n",
              "582         8.6    Emicida: AmarElo - It's All For Yesterday   \n",
              "581         8.5                      Springsteen on Broadway   \n",
              "580         8.4  Winter on Fire: Ukraine's Fight for Freedom   \n",
              "579         8.4        Taylor Swift: Reputation Stadium Tour   \n",
              "578         8.4   Ben Platt: Live from Radio City Music Hall   \n",
              "577         8.3                       Dancing with the Birds   \n",
              "576         8.3                      Cuba and the Cameraman    \n",
              "573         8.2                                        Klaus   \n",
              "571         8.2                                         13th   \n",
              "\n",
              "                                    Genre  Year                  Language  \n",
              "583                           Documentary  2020                   English  \n",
              "582                           Documentary  2020                Portuguese  \n",
              "581                          One-man show  2018                   English  \n",
              "580                           Documentary  2015  English/Ukranian/Russian  \n",
              "579                          Concert Film  2018                   English  \n",
              "578                          Concert Film  2020                   English  \n",
              "577                           Documentary  2019                   English  \n",
              "576                           Documentary  2017                   English  \n",
              "573  Animation/Christmas/Comedy/Adventure  2019                   English  \n",
              "571                           Documentary  2016                   English  "
            ],
            "text/html": [
              "\n",
              "  <div id=\"df-d38e0714-96c0-4a29-a65c-0431aee23d84\">\n",
              "    <div class=\"colab-df-container\">\n",
              "      <div>\n",
              "<style scoped>\n",
              "    .dataframe tbody tr th:only-of-type {\n",
              "        vertical-align: middle;\n",
              "    }\n",
              "\n",
              "    .dataframe tbody tr th {\n",
              "        vertical-align: top;\n",
              "    }\n",
              "\n",
              "    .dataframe thead th {\n",
              "        text-align: right;\n",
              "    }\n",
              "</style>\n",
              "<table border=\"1\" class=\"dataframe\">\n",
              "  <thead>\n",
              "    <tr style=\"text-align: right;\">\n",
              "      <th></th>\n",
              "      <th>IMDB Score</th>\n",
              "      <th>Title</th>\n",
              "      <th>Genre</th>\n",
              "      <th>Year</th>\n",
              "      <th>Language</th>\n",
              "    </tr>\n",
              "  </thead>\n",
              "  <tbody>\n",
              "    <tr>\n",
              "      <th>583</th>\n",
              "      <td>9.0</td>\n",
              "      <td>David Attenborough: A Life on Our Planet</td>\n",
              "      <td>Documentary</td>\n",
              "      <td>2020</td>\n",
              "      <td>English</td>\n",
              "    </tr>\n",
              "    <tr>\n",
              "      <th>582</th>\n",
              "      <td>8.6</td>\n",
              "      <td>Emicida: AmarElo - It's All For Yesterday</td>\n",
              "      <td>Documentary</td>\n",
              "      <td>2020</td>\n",
              "      <td>Portuguese</td>\n",
              "    </tr>\n",
              "    <tr>\n",
              "      <th>581</th>\n",
              "      <td>8.5</td>\n",
              "      <td>Springsteen on Broadway</td>\n",
              "      <td>One-man show</td>\n",
              "      <td>2018</td>\n",
              "      <td>English</td>\n",
              "    </tr>\n",
              "    <tr>\n",
              "      <th>580</th>\n",
              "      <td>8.4</td>\n",
              "      <td>Winter on Fire: Ukraine's Fight for Freedom</td>\n",
              "      <td>Documentary</td>\n",
              "      <td>2015</td>\n",
              "      <td>English/Ukranian/Russian</td>\n",
              "    </tr>\n",
              "    <tr>\n",
              "      <th>579</th>\n",
              "      <td>8.4</td>\n",
              "      <td>Taylor Swift: Reputation Stadium Tour</td>\n",
              "      <td>Concert Film</td>\n",
              "      <td>2018</td>\n",
              "      <td>English</td>\n",
              "    </tr>\n",
              "    <tr>\n",
              "      <th>578</th>\n",
              "      <td>8.4</td>\n",
              "      <td>Ben Platt: Live from Radio City Music Hall</td>\n",
              "      <td>Concert Film</td>\n",
              "      <td>2020</td>\n",
              "      <td>English</td>\n",
              "    </tr>\n",
              "    <tr>\n",
              "      <th>577</th>\n",
              "      <td>8.3</td>\n",
              "      <td>Dancing with the Birds</td>\n",
              "      <td>Documentary</td>\n",
              "      <td>2019</td>\n",
              "      <td>English</td>\n",
              "    </tr>\n",
              "    <tr>\n",
              "      <th>576</th>\n",
              "      <td>8.3</td>\n",
              "      <td>Cuba and the Cameraman</td>\n",
              "      <td>Documentary</td>\n",
              "      <td>2017</td>\n",
              "      <td>English</td>\n",
              "    </tr>\n",
              "    <tr>\n",
              "      <th>573</th>\n",
              "      <td>8.2</td>\n",
              "      <td>Klaus</td>\n",
              "      <td>Animation/Christmas/Comedy/Adventure</td>\n",
              "      <td>2019</td>\n",
              "      <td>English</td>\n",
              "    </tr>\n",
              "    <tr>\n",
              "      <th>571</th>\n",
              "      <td>8.2</td>\n",
              "      <td>13th</td>\n",
              "      <td>Documentary</td>\n",
              "      <td>2016</td>\n",
              "      <td>English</td>\n",
              "    </tr>\n",
              "  </tbody>\n",
              "</table>\n",
              "</div>\n",
              "      <button class=\"colab-df-convert\" onclick=\"convertToInteractive('df-d38e0714-96c0-4a29-a65c-0431aee23d84')\"\n",
              "              title=\"Convert this dataframe to an interactive table.\"\n",
              "              style=\"display:none;\">\n",
              "        \n",
              "  <svg xmlns=\"http://www.w3.org/2000/svg\" height=\"24px\"viewBox=\"0 0 24 24\"\n",
              "       width=\"24px\">\n",
              "    <path d=\"M0 0h24v24H0V0z\" fill=\"none\"/>\n",
              "    <path d=\"M18.56 5.44l.94 2.06.94-2.06 2.06-.94-2.06-.94-.94-2.06-.94 2.06-2.06.94zm-11 1L8.5 8.5l.94-2.06 2.06-.94-2.06-.94L8.5 2.5l-.94 2.06-2.06.94zm10 10l.94 2.06.94-2.06 2.06-.94-2.06-.94-.94-2.06-.94 2.06-2.06.94z\"/><path d=\"M17.41 7.96l-1.37-1.37c-.4-.4-.92-.59-1.43-.59-.52 0-1.04.2-1.43.59L10.3 9.45l-7.72 7.72c-.78.78-.78 2.05 0 2.83L4 21.41c.39.39.9.59 1.41.59.51 0 1.02-.2 1.41-.59l7.78-7.78 2.81-2.81c.8-.78.8-2.07 0-2.86zM5.41 20L4 18.59l7.72-7.72 1.47 1.35L5.41 20z\"/>\n",
              "  </svg>\n",
              "      </button>\n",
              "      \n",
              "  <style>\n",
              "    .colab-df-container {\n",
              "      display:flex;\n",
              "      flex-wrap:wrap;\n",
              "      gap: 12px;\n",
              "    }\n",
              "\n",
              "    .colab-df-convert {\n",
              "      background-color: #E8F0FE;\n",
              "      border: none;\n",
              "      border-radius: 50%;\n",
              "      cursor: pointer;\n",
              "      display: none;\n",
              "      fill: #1967D2;\n",
              "      height: 32px;\n",
              "      padding: 0 0 0 0;\n",
              "      width: 32px;\n",
              "    }\n",
              "\n",
              "    .colab-df-convert:hover {\n",
              "      background-color: #E2EBFA;\n",
              "      box-shadow: 0px 1px 2px rgba(60, 64, 67, 0.3), 0px 1px 3px 1px rgba(60, 64, 67, 0.15);\n",
              "      fill: #174EA6;\n",
              "    }\n",
              "\n",
              "    [theme=dark] .colab-df-convert {\n",
              "      background-color: #3B4455;\n",
              "      fill: #D2E3FC;\n",
              "    }\n",
              "\n",
              "    [theme=dark] .colab-df-convert:hover {\n",
              "      background-color: #434B5C;\n",
              "      box-shadow: 0px 1px 3px 1px rgba(0, 0, 0, 0.15);\n",
              "      filter: drop-shadow(0px 1px 2px rgba(0, 0, 0, 0.3));\n",
              "      fill: #FFFFFF;\n",
              "    }\n",
              "  </style>\n",
              "\n",
              "      <script>\n",
              "        const buttonEl =\n",
              "          document.querySelector('#df-d38e0714-96c0-4a29-a65c-0431aee23d84 button.colab-df-convert');\n",
              "        buttonEl.style.display =\n",
              "          google.colab.kernel.accessAllowed ? 'block' : 'none';\n",
              "\n",
              "        async function convertToInteractive(key) {\n",
              "          const element = document.querySelector('#df-d38e0714-96c0-4a29-a65c-0431aee23d84');\n",
              "          const dataTable =\n",
              "            await google.colab.kernel.invokeFunction('convertToInteractive',\n",
              "                                                     [key], {});\n",
              "          if (!dataTable) return;\n",
              "\n",
              "          const docLinkHtml = 'Like what you see? Visit the ' +\n",
              "            '<a target=\"_blank\" href=https://colab.research.google.com/notebooks/data_table.ipynb>data table notebook</a>'\n",
              "            + ' to learn more about interactive tables.';\n",
              "          element.innerHTML = '';\n",
              "          dataTable['output_type'] = 'display_data';\n",
              "          await google.colab.output.renderOutput(dataTable, element);\n",
              "          const docLink = document.createElement('div');\n",
              "          docLink.innerHTML = docLinkHtml;\n",
              "          element.appendChild(docLink);\n",
              "        }\n",
              "      </script>\n",
              "    </div>\n",
              "  </div>\n",
              "  "
            ]
          },
          "metadata": {},
          "execution_count": 47
        }
      ]
    },
    {
      "cell_type": "code",
      "source": [
        "fig = px.scatter(top_10_ratings, y= 'Title', x='IMDB Score', hover_data = top_10_ratings[['Genre','Year','Language']], color='Genre', \n",
        "                 title = \"Top 10 High Rated Programs\")\n",
        "\n",
        "fig.show()"
      ],
      "metadata": {
        "colab": {
          "base_uri": "https://localhost:8080/",
          "height": 542
        },
        "id": "3cKLoC1D4Xw_",
        "outputId": "ce2c50ad-7bcb-465a-f1f4-64c72204b1fb"
      },
      "execution_count": 48,
      "outputs": [
        {
          "output_type": "display_data",
          "data": {
            "text/html": [
              "<html>\n",
              "<head><meta charset=\"utf-8\" /></head>\n",
              "<body>\n",
              "    <div>            <script src=\"https://cdnjs.cloudflare.com/ajax/libs/mathjax/2.7.5/MathJax.js?config=TeX-AMS-MML_SVG\"></script><script type=\"text/javascript\">if (window.MathJax) {MathJax.Hub.Config({SVG: {font: \"STIX-Web\"}});}</script>                <script type=\"text/javascript\">window.PlotlyConfig = {MathJaxConfig: 'local'};</script>\n",
              "        <script src=\"https://cdn.plot.ly/plotly-2.8.3.min.js\"></script>                <div id=\"75d9febf-0e1c-417e-9bcb-86b7d52ce1dd\" class=\"plotly-graph-div\" style=\"height:525px; width:100%;\"></div>            <script type=\"text/javascript\">                                    window.PLOTLYENV=window.PLOTLYENV || {};                                    if (document.getElementById(\"75d9febf-0e1c-417e-9bcb-86b7d52ce1dd\")) {                    Plotly.newPlot(                        \"75d9febf-0e1c-417e-9bcb-86b7d52ce1dd\",                        [{\"customdata\":[[\"Documentary\",2020,\"English\"],[\"Documentary\",2020,\"Portuguese\"],[\"Documentary\",2015,\"English/Ukranian/Russian\"],[\"Documentary\",2019,\"English\"],[\"Documentary\",2017,\"English\"],[\"Documentary\",2016,\"English\"]],\"hovertemplate\":\"Genre=%{customdata[0]}<br>IMDB Score=%{x}<br>Title=%{y}<br>Year=%{customdata[1]}<br>Language=%{customdata[2]}<extra></extra>\",\"legendgroup\":\"Documentary\",\"marker\":{\"color\":\"#636efa\",\"symbol\":\"circle\"},\"mode\":\"markers\",\"name\":\"Documentary\",\"orientation\":\"h\",\"showlegend\":true,\"x\":[9.0,8.6,8.4,8.3,8.3,8.2],\"xaxis\":\"x\",\"y\":[\"David Attenborough: A Life on Our Planet\",\"Emicida: AmarElo - It's All For Yesterday\",\"Winter on Fire: Ukraine's Fight for Freedom\",\"Dancing with the Birds\",\"Cuba and the Cameraman \",\"13th\"],\"yaxis\":\"y\",\"type\":\"scatter\"},{\"customdata\":[[\"One-man show\",2018,\"English\"]],\"hovertemplate\":\"Genre=%{customdata[0]}<br>IMDB Score=%{x}<br>Title=%{y}<br>Year=%{customdata[1]}<br>Language=%{customdata[2]}<extra></extra>\",\"legendgroup\":\"One-man show\",\"marker\":{\"color\":\"#EF553B\",\"symbol\":\"circle\"},\"mode\":\"markers\",\"name\":\"One-man show\",\"orientation\":\"h\",\"showlegend\":true,\"x\":[8.5],\"xaxis\":\"x\",\"y\":[\"Springsteen on Broadway\"],\"yaxis\":\"y\",\"type\":\"scatter\"},{\"customdata\":[[\"Concert Film\",2018,\"English\"],[\"Concert Film\",2020,\"English\"]],\"hovertemplate\":\"Genre=%{customdata[0]}<br>IMDB Score=%{x}<br>Title=%{y}<br>Year=%{customdata[1]}<br>Language=%{customdata[2]}<extra></extra>\",\"legendgroup\":\"Concert Film\",\"marker\":{\"color\":\"#00cc96\",\"symbol\":\"circle\"},\"mode\":\"markers\",\"name\":\"Concert Film\",\"orientation\":\"h\",\"showlegend\":true,\"x\":[8.4,8.4],\"xaxis\":\"x\",\"y\":[\"Taylor Swift: Reputation Stadium Tour\",\"Ben Platt: Live from Radio City Music Hall\"],\"yaxis\":\"y\",\"type\":\"scatter\"},{\"customdata\":[[\"Animation/Christmas/Comedy/Adventure\",2019,\"English\"]],\"hovertemplate\":\"Genre=%{customdata[0]}<br>IMDB Score=%{x}<br>Title=%{y}<br>Year=%{customdata[1]}<br>Language=%{customdata[2]}<extra></extra>\",\"legendgroup\":\"Animation/Christmas/Comedy/Adventure\",\"marker\":{\"color\":\"#ab63fa\",\"symbol\":\"circle\"},\"mode\":\"markers\",\"name\":\"Animation/Christmas/Comedy/Adventure\",\"orientation\":\"h\",\"showlegend\":true,\"x\":[8.2],\"xaxis\":\"x\",\"y\":[\"Klaus\"],\"yaxis\":\"y\",\"type\":\"scatter\"}],                        {\"template\":{\"data\":{\"bar\":[{\"error_x\":{\"color\":\"#2a3f5f\"},\"error_y\":{\"color\":\"#2a3f5f\"},\"marker\":{\"line\":{\"color\":\"#E5ECF6\",\"width\":0.5},\"pattern\":{\"fillmode\":\"overlay\",\"size\":10,\"solidity\":0.2}},\"type\":\"bar\"}],\"barpolar\":[{\"marker\":{\"line\":{\"color\":\"#E5ECF6\",\"width\":0.5},\"pattern\":{\"fillmode\":\"overlay\",\"size\":10,\"solidity\":0.2}},\"type\":\"barpolar\"}],\"carpet\":[{\"aaxis\":{\"endlinecolor\":\"#2a3f5f\",\"gridcolor\":\"white\",\"linecolor\":\"white\",\"minorgridcolor\":\"white\",\"startlinecolor\":\"#2a3f5f\"},\"baxis\":{\"endlinecolor\":\"#2a3f5f\",\"gridcolor\":\"white\",\"linecolor\":\"white\",\"minorgridcolor\":\"white\",\"startlinecolor\":\"#2a3f5f\"},\"type\":\"carpet\"}],\"choropleth\":[{\"colorbar\":{\"outlinewidth\":0,\"ticks\":\"\"},\"type\":\"choropleth\"}],\"contour\":[{\"colorbar\":{\"outlinewidth\":0,\"ticks\":\"\"},\"colorscale\":[[0.0,\"#0d0887\"],[0.1111111111111111,\"#46039f\"],[0.2222222222222222,\"#7201a8\"],[0.3333333333333333,\"#9c179e\"],[0.4444444444444444,\"#bd3786\"],[0.5555555555555556,\"#d8576b\"],[0.6666666666666666,\"#ed7953\"],[0.7777777777777778,\"#fb9f3a\"],[0.8888888888888888,\"#fdca26\"],[1.0,\"#f0f921\"]],\"type\":\"contour\"}],\"contourcarpet\":[{\"colorbar\":{\"outlinewidth\":0,\"ticks\":\"\"},\"type\":\"contourcarpet\"}],\"heatmap\":[{\"colorbar\":{\"outlinewidth\":0,\"ticks\":\"\"},\"colorscale\":[[0.0,\"#0d0887\"],[0.1111111111111111,\"#46039f\"],[0.2222222222222222,\"#7201a8\"],[0.3333333333333333,\"#9c179e\"],[0.4444444444444444,\"#bd3786\"],[0.5555555555555556,\"#d8576b\"],[0.6666666666666666,\"#ed7953\"],[0.7777777777777778,\"#fb9f3a\"],[0.8888888888888888,\"#fdca26\"],[1.0,\"#f0f921\"]],\"type\":\"heatmap\"}],\"heatmapgl\":[{\"colorbar\":{\"outlinewidth\":0,\"ticks\":\"\"},\"colorscale\":[[0.0,\"#0d0887\"],[0.1111111111111111,\"#46039f\"],[0.2222222222222222,\"#7201a8\"],[0.3333333333333333,\"#9c179e\"],[0.4444444444444444,\"#bd3786\"],[0.5555555555555556,\"#d8576b\"],[0.6666666666666666,\"#ed7953\"],[0.7777777777777778,\"#fb9f3a\"],[0.8888888888888888,\"#fdca26\"],[1.0,\"#f0f921\"]],\"type\":\"heatmapgl\"}],\"histogram\":[{\"marker\":{\"pattern\":{\"fillmode\":\"overlay\",\"size\":10,\"solidity\":0.2}},\"type\":\"histogram\"}],\"histogram2d\":[{\"colorbar\":{\"outlinewidth\":0,\"ticks\":\"\"},\"colorscale\":[[0.0,\"#0d0887\"],[0.1111111111111111,\"#46039f\"],[0.2222222222222222,\"#7201a8\"],[0.3333333333333333,\"#9c179e\"],[0.4444444444444444,\"#bd3786\"],[0.5555555555555556,\"#d8576b\"],[0.6666666666666666,\"#ed7953\"],[0.7777777777777778,\"#fb9f3a\"],[0.8888888888888888,\"#fdca26\"],[1.0,\"#f0f921\"]],\"type\":\"histogram2d\"}],\"histogram2dcontour\":[{\"colorbar\":{\"outlinewidth\":0,\"ticks\":\"\"},\"colorscale\":[[0.0,\"#0d0887\"],[0.1111111111111111,\"#46039f\"],[0.2222222222222222,\"#7201a8\"],[0.3333333333333333,\"#9c179e\"],[0.4444444444444444,\"#bd3786\"],[0.5555555555555556,\"#d8576b\"],[0.6666666666666666,\"#ed7953\"],[0.7777777777777778,\"#fb9f3a\"],[0.8888888888888888,\"#fdca26\"],[1.0,\"#f0f921\"]],\"type\":\"histogram2dcontour\"}],\"mesh3d\":[{\"colorbar\":{\"outlinewidth\":0,\"ticks\":\"\"},\"type\":\"mesh3d\"}],\"parcoords\":[{\"line\":{\"colorbar\":{\"outlinewidth\":0,\"ticks\":\"\"}},\"type\":\"parcoords\"}],\"pie\":[{\"automargin\":true,\"type\":\"pie\"}],\"scatter\":[{\"marker\":{\"colorbar\":{\"outlinewidth\":0,\"ticks\":\"\"}},\"type\":\"scatter\"}],\"scatter3d\":[{\"line\":{\"colorbar\":{\"outlinewidth\":0,\"ticks\":\"\"}},\"marker\":{\"colorbar\":{\"outlinewidth\":0,\"ticks\":\"\"}},\"type\":\"scatter3d\"}],\"scattercarpet\":[{\"marker\":{\"colorbar\":{\"outlinewidth\":0,\"ticks\":\"\"}},\"type\":\"scattercarpet\"}],\"scattergeo\":[{\"marker\":{\"colorbar\":{\"outlinewidth\":0,\"ticks\":\"\"}},\"type\":\"scattergeo\"}],\"scattergl\":[{\"marker\":{\"colorbar\":{\"outlinewidth\":0,\"ticks\":\"\"}},\"type\":\"scattergl\"}],\"scattermapbox\":[{\"marker\":{\"colorbar\":{\"outlinewidth\":0,\"ticks\":\"\"}},\"type\":\"scattermapbox\"}],\"scatterpolar\":[{\"marker\":{\"colorbar\":{\"outlinewidth\":0,\"ticks\":\"\"}},\"type\":\"scatterpolar\"}],\"scatterpolargl\":[{\"marker\":{\"colorbar\":{\"outlinewidth\":0,\"ticks\":\"\"}},\"type\":\"scatterpolargl\"}],\"scatterternary\":[{\"marker\":{\"colorbar\":{\"outlinewidth\":0,\"ticks\":\"\"}},\"type\":\"scatterternary\"}],\"surface\":[{\"colorbar\":{\"outlinewidth\":0,\"ticks\":\"\"},\"colorscale\":[[0.0,\"#0d0887\"],[0.1111111111111111,\"#46039f\"],[0.2222222222222222,\"#7201a8\"],[0.3333333333333333,\"#9c179e\"],[0.4444444444444444,\"#bd3786\"],[0.5555555555555556,\"#d8576b\"],[0.6666666666666666,\"#ed7953\"],[0.7777777777777778,\"#fb9f3a\"],[0.8888888888888888,\"#fdca26\"],[1.0,\"#f0f921\"]],\"type\":\"surface\"}],\"table\":[{\"cells\":{\"fill\":{\"color\":\"#EBF0F8\"},\"line\":{\"color\":\"white\"}},\"header\":{\"fill\":{\"color\":\"#C8D4E3\"},\"line\":{\"color\":\"white\"}},\"type\":\"table\"}]},\"layout\":{\"annotationdefaults\":{\"arrowcolor\":\"#2a3f5f\",\"arrowhead\":0,\"arrowwidth\":1},\"autotypenumbers\":\"strict\",\"coloraxis\":{\"colorbar\":{\"outlinewidth\":0,\"ticks\":\"\"}},\"colorscale\":{\"diverging\":[[0,\"#8e0152\"],[0.1,\"#c51b7d\"],[0.2,\"#de77ae\"],[0.3,\"#f1b6da\"],[0.4,\"#fde0ef\"],[0.5,\"#f7f7f7\"],[0.6,\"#e6f5d0\"],[0.7,\"#b8e186\"],[0.8,\"#7fbc41\"],[0.9,\"#4d9221\"],[1,\"#276419\"]],\"sequential\":[[0.0,\"#0d0887\"],[0.1111111111111111,\"#46039f\"],[0.2222222222222222,\"#7201a8\"],[0.3333333333333333,\"#9c179e\"],[0.4444444444444444,\"#bd3786\"],[0.5555555555555556,\"#d8576b\"],[0.6666666666666666,\"#ed7953\"],[0.7777777777777778,\"#fb9f3a\"],[0.8888888888888888,\"#fdca26\"],[1.0,\"#f0f921\"]],\"sequentialminus\":[[0.0,\"#0d0887\"],[0.1111111111111111,\"#46039f\"],[0.2222222222222222,\"#7201a8\"],[0.3333333333333333,\"#9c179e\"],[0.4444444444444444,\"#bd3786\"],[0.5555555555555556,\"#d8576b\"],[0.6666666666666666,\"#ed7953\"],[0.7777777777777778,\"#fb9f3a\"],[0.8888888888888888,\"#fdca26\"],[1.0,\"#f0f921\"]]},\"colorway\":[\"#636efa\",\"#EF553B\",\"#00cc96\",\"#ab63fa\",\"#FFA15A\",\"#19d3f3\",\"#FF6692\",\"#B6E880\",\"#FF97FF\",\"#FECB52\"],\"font\":{\"color\":\"#2a3f5f\"},\"geo\":{\"bgcolor\":\"white\",\"lakecolor\":\"white\",\"landcolor\":\"#E5ECF6\",\"showlakes\":true,\"showland\":true,\"subunitcolor\":\"white\"},\"hoverlabel\":{\"align\":\"left\"},\"hovermode\":\"closest\",\"mapbox\":{\"style\":\"light\"},\"paper_bgcolor\":\"white\",\"plot_bgcolor\":\"#E5ECF6\",\"polar\":{\"angularaxis\":{\"gridcolor\":\"white\",\"linecolor\":\"white\",\"ticks\":\"\"},\"bgcolor\":\"#E5ECF6\",\"radialaxis\":{\"gridcolor\":\"white\",\"linecolor\":\"white\",\"ticks\":\"\"}},\"scene\":{\"xaxis\":{\"backgroundcolor\":\"#E5ECF6\",\"gridcolor\":\"white\",\"gridwidth\":2,\"linecolor\":\"white\",\"showbackground\":true,\"ticks\":\"\",\"zerolinecolor\":\"white\"},\"yaxis\":{\"backgroundcolor\":\"#E5ECF6\",\"gridcolor\":\"white\",\"gridwidth\":2,\"linecolor\":\"white\",\"showbackground\":true,\"ticks\":\"\",\"zerolinecolor\":\"white\"},\"zaxis\":{\"backgroundcolor\":\"#E5ECF6\",\"gridcolor\":\"white\",\"gridwidth\":2,\"linecolor\":\"white\",\"showbackground\":true,\"ticks\":\"\",\"zerolinecolor\":\"white\"}},\"shapedefaults\":{\"line\":{\"color\":\"#2a3f5f\"}},\"ternary\":{\"aaxis\":{\"gridcolor\":\"white\",\"linecolor\":\"white\",\"ticks\":\"\"},\"baxis\":{\"gridcolor\":\"white\",\"linecolor\":\"white\",\"ticks\":\"\"},\"bgcolor\":\"#E5ECF6\",\"caxis\":{\"gridcolor\":\"white\",\"linecolor\":\"white\",\"ticks\":\"\"}},\"title\":{\"x\":0.05},\"xaxis\":{\"automargin\":true,\"gridcolor\":\"white\",\"linecolor\":\"white\",\"ticks\":\"\",\"title\":{\"standoff\":15},\"zerolinecolor\":\"white\",\"zerolinewidth\":2},\"yaxis\":{\"automargin\":true,\"gridcolor\":\"white\",\"linecolor\":\"white\",\"ticks\":\"\",\"title\":{\"standoff\":15},\"zerolinecolor\":\"white\",\"zerolinewidth\":2}}},\"xaxis\":{\"anchor\":\"y\",\"domain\":[0.0,1.0],\"title\":{\"text\":\"IMDB Score\"}},\"yaxis\":{\"anchor\":\"x\",\"domain\":[0.0,1.0],\"title\":{\"text\":\"Title\"}},\"legend\":{\"title\":{\"text\":\"Genre\"},\"tracegroupgap\":0},\"title\":{\"text\":\"Top 10 High Rated Programs\"}},                        {\"responsive\": true}                    ).then(function(){\n",
              "                            \n",
              "var gd = document.getElementById('75d9febf-0e1c-417e-9bcb-86b7d52ce1dd');\n",
              "var x = new MutationObserver(function (mutations, observer) {{\n",
              "        var display = window.getComputedStyle(gd).display;\n",
              "        if (!display || display === 'none') {{\n",
              "            console.log([gd, 'removed!']);\n",
              "            Plotly.purge(gd);\n",
              "            observer.disconnect();\n",
              "        }}\n",
              "}});\n",
              "\n",
              "// Listen for the removal of the full notebook cells\n",
              "var notebookContainer = gd.closest('#notebook-container');\n",
              "if (notebookContainer) {{\n",
              "    x.observe(notebookContainer, {childList: true});\n",
              "}}\n",
              "\n",
              "// Listen for the clearing of the current output cell\n",
              "var outputEl = gd.closest('.output');\n",
              "if (outputEl) {{\n",
              "    x.observe(outputEl, {childList: true});\n",
              "}}\n",
              "\n",
              "                        })                };                            </script>        </div>\n",
              "</body>\n",
              "</html>"
            ]
          },
          "metadata": {}
        }
      ]
    }
  ]
}