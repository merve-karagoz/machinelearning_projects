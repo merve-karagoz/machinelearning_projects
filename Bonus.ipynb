{
  "nbformat": 4,
  "nbformat_minor": 0,
  "metadata": {
    "colab": {
      "provenance": [],
      "authorship_tag": "ABX9TyN42qlXvIA6431CFQWxNdK2",
      "include_colab_link": true
    },
    "kernelspec": {
      "name": "python3",
      "display_name": "Python 3"
    },
    "language_info": {
      "name": "python"
    }
  },
  "cells": [
    {
      "cell_type": "markdown",
      "metadata": {
        "id": "view-in-github",
        "colab_type": "text"
      },
      "source": [
        "<a href=\"https://colab.research.google.com/github/merve-karagoz/machinelearning_projects/blob/main/Bonus.ipynb\" target=\"_parent\"><img src=\"https://colab.research.google.com/assets/colab-badge.svg\" alt=\"Open In Colab\"/></a>"
      ]
    },
    {
      "cell_type": "markdown",
      "source": [
        "Mülakat Soru Örnekleri"
      ],
      "metadata": {
        "id": "94fsz3CaJqbv"
      }
    },
    {
      "cell_type": "markdown",
      "source": [
        "1) Amaç: Aşağıdaki şekilde string değiştiren fonksiyon yazmak istiyoruz.\n",
        "\n",
        "before: \"hi my name is john and i am learning python\"\n",
        "\n",
        "after: \"Hi mY NaMe iS JoHn aNd i aM LeArNiNg pYtHoN\""
      ],
      "metadata": {
        "id": "YvIUrROhJt2o"
      }
    },
    {
      "cell_type": "markdown",
      "source": [],
      "metadata": {
        "id": "9g3jiZs2XzuT"
      }
    },
    {
      "cell_type": "markdown",
      "source": [
        "Alternating"
      ],
      "metadata": {
        "id": "Bj0zoXhlYGD4"
      }
    },
    {
      "cell_type": "code",
      "execution_count": 1,
      "metadata": {
        "colab": {
          "base_uri": "https://localhost:8080/"
        },
        "id": "RIzyjLXwJPQa",
        "outputId": "d7af7ca7-2d49-4103-df1b-4704ed8241eb"
      },
      "outputs": [
        {
          "output_type": "stream",
          "name": "stdout",
          "text": [
            "Hi mY NaMe iS JoHn aNd i aM LeArNiNg pYtHoN\n"
          ]
        }
      ],
      "source": [
        "def alternating(string):\n",
        "    new_string = \"\"\n",
        "    # girilen string'in index'lerinde gez.\n",
        "    for string_index in range(len(string)):\n",
        "        # index çift ise büyük harfe çevir.\n",
        "        if string_index % 2 == 0:\n",
        "            new_string += string[string_index].upper()\n",
        "        # index tek ise küçük harfe çevir.\n",
        "        else:\n",
        "            new_string += string[string_index].lower()\n",
        "    print(new_string)\n",
        "\n",
        "alternating(\"hi my name is john and i am learning python\")"
      ]
    },
    {
      "cell_type": "markdown",
      "source": [
        "2) divide_students fonksiyonu yazınız.\n",
        "\n",
        "Çift indexte yer alan öğrencileri bir listeye alınız.\n",
        "\n",
        "Tek indexte yer alan öğrencileri başka bir listeye alınız.\n",
        "\n",
        "Fakat bu iki liste tek bir liste olarak return olsun.\n",
        "\n",
        "\n"
      ],
      "metadata": {
        "id": "-KQEGZWpJojs"
      }
    },
    {
      "cell_type": "markdown",
      "source": [
        "Enumerate "
      ],
      "metadata": {
        "id": "84QFXTh1YDQ6"
      }
    },
    {
      "cell_type": "code",
      "source": [
        "students = [\"Emma\", \"Adam\", \"Justin\", \"Paul\"]\n",
        "\n",
        "def divide_students(students):\n",
        "    groups = [[], []]\n",
        "    for index, student in enumerate(students):\n",
        "        if index % 2 == 0:\n",
        "            groups[0].append(student)\n",
        "        else:\n",
        "            groups[1].append(student)\n",
        "    print(groups)\n",
        "    return groups\n",
        "\n",
        "st = divide_students(students)\n",
        "st[0]\n",
        "st[1]"
      ],
      "metadata": {
        "colab": {
          "base_uri": "https://localhost:8080/"
        },
        "id": "B9s6_2jDKGJd",
        "outputId": "d562618f-27a1-473f-a2bd-8ca77be84089"
      },
      "execution_count": 6,
      "outputs": [
        {
          "output_type": "stream",
          "name": "stdout",
          "text": [
            "[['Emma', 'Justin'], ['Adam', 'Paul']]\n"
          ]
        },
        {
          "output_type": "execute_result",
          "data": {
            "text/plain": [
              "['Adam', 'Paul']"
            ]
          },
          "metadata": {},
          "execution_count": 6
        }
      ]
    },
    {
      "cell_type": "markdown",
      "source": [
        "3) Amaç: çift sayıların karesi alınarak bir sözlüğe eklenmek istemektedir.\n",
        "\n",
        "Key'ler orjinal değerler value'lar ise değiştirilmiş değerler olacak.\n",
        "\n",
        "\n",
        "\n"
      ],
      "metadata": {
        "id": "XC0SiSoqJo7-"
      }
    },
    {
      "cell_type": "markdown",
      "source": [
        "Dict Comprehensions"
      ],
      "metadata": {
        "id": "44Nlvq9HYPjT"
      }
    },
    {
      "cell_type": "code",
      "source": [
        "numbers = range(10)\n",
        "new_dict = {}\n",
        "\n",
        "for n in numbers:\n",
        "    if n % 2 == 0:\n",
        "        new_dict[n] = n ** 2\n",
        "\n",
        "{n: n ** 2 for n in numbers if n % 2 == 0}"
      ],
      "metadata": {
        "colab": {
          "base_uri": "https://localhost:8080/"
        },
        "id": "XIuszEuoLrXB",
        "outputId": "6adb9ce6-4e65-4114-8032-c168515845e4"
      },
      "execution_count": 8,
      "outputs": [
        {
          "output_type": "execute_result",
          "data": {
            "text/plain": [
              "{0: 0, 2: 4, 4: 16, 6: 36, 8: 64}"
            ]
          },
          "metadata": {},
          "execution_count": 8
        }
      ]
    },
    {
      "cell_type": "markdown",
      "source": [
        "4)   Tuple ile listenin farkı nedir?\n",
        "Tuple ile listenin farkı tuple değiştirilemez ekleyip eleman silinemez. Liste ise değişir. Değiştirilmesi gereken yerde tuple kullanılır."
        "5)   Overfitting'e düştüğünüzü nasıl anlarsınız?\n",
        "6)   Bagging boosting arasındaki fark nedir?\n",
        "Bagging yöntemlerine ağaçların birbirine bağımlılıkları vardır. Boosting yöntemlerinde ağaçlar artıklar üzerine kurulur."
        "\n",
        "\n",
        "\n",
        "\n",
        "\n"
      ],
      "metadata": {
        "id": "aQucy8NsdWeM"
      }
    }
  ]
}
